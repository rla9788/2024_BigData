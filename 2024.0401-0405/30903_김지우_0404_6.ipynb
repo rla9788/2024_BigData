{
 "cells": [
  {
   "cell_type": "markdown",
   "id": "25e765db",
   "metadata": {},
   "source": [
    "# 30903_김지우_0404_6"
   ]
  },
  {
   "cell_type": "markdown",
   "id": "38160766",
   "metadata": {},
   "source": [
    "## 리스트와 튜플 알아보기\n",
    "- 리스트와 튜플  풀어내기\n",
    "    - 좌변에는 여러개의 변수를 놓고 우변에는 리스트나 튜블을 놓으면 우변의 원소를 좌변의 변수에 함번에 대입가능\n",
    "    - 언팩\n",
    "        - 리스트나 튜플의 원솟값들을 풀어 여러 변수에 대입\n",
    "- 슬라이스 \n",
    "    - 리스트나 튜플의 원소 일부를 연속해서 또는 일정한 간격으로 꺼내 새로운 리스트나 튜플을 만드는 것\n",
    "    - s[i:j] s[i]부터 [j-1]까지 나열\n",
    "    - s[i:j:k] i부터 j-1까지 k만큼 건너뛰며 나열"
   ]
  },
  {
   "cell_type": "code",
   "execution_count": 3,
   "id": "3d8bee14",
   "metadata": {},
   "outputs": [
    {
     "data": {
      "text/plain": [
       "[1, 2, 3]"
      ]
     },
     "execution_count": 3,
     "metadata": {},
     "output_type": "execute_result"
    }
   ],
   "source": [
    "x = [1,2,3]\n",
    "x"
   ]
  },
  {
   "cell_type": "code",
   "execution_count": 4,
   "id": "bd52896a",
   "metadata": {},
   "outputs": [
    {
     "data": {
      "text/plain": [
       "list"
      ]
     },
     "execution_count": 4,
     "metadata": {},
     "output_type": "execute_result"
    }
   ],
   "source": [
    "type(x)"
   ]
  },
  {
   "cell_type": "code",
   "execution_count": 5,
   "id": "a67b141f",
   "metadata": {},
   "outputs": [],
   "source": [
    "a,b,c = x"
   ]
  },
  {
   "cell_type": "code",
   "execution_count": 6,
   "id": "209ab7b6",
   "metadata": {},
   "outputs": [
    {
     "data": {
      "text/plain": [
       "(1, 2, 3)"
      ]
     },
     "execution_count": 6,
     "metadata": {},
     "output_type": "execute_result"
    }
   ],
   "source": [
    "a,b,c"
   ]
  },
  {
   "cell_type": "code",
   "execution_count": 7,
   "id": "02e84136",
   "metadata": {},
   "outputs": [
    {
     "data": {
      "text/plain": [
       "[11, 22, 33, 44, 55, 66]"
      ]
     },
     "execution_count": 7,
     "metadata": {},
     "output_type": "execute_result"
    }
   ],
   "source": [
    "y = [11,22,33,44,55,66]\n",
    "y"
   ]
  },
  {
   "cell_type": "code",
   "execution_count": 8,
   "id": "ae16e986",
   "metadata": {},
   "outputs": [
    {
     "data": {
      "text/plain": [
       "33"
      ]
     },
     "execution_count": 8,
     "metadata": {},
     "output_type": "execute_result"
    }
   ],
   "source": [
    "y[2]"
   ]
  },
  {
   "cell_type": "code",
   "execution_count": 10,
   "id": "68cdfc09",
   "metadata": {},
   "outputs": [
    {
     "data": {
      "text/plain": [
       "55"
      ]
     },
     "execution_count": 10,
     "metadata": {},
     "output_type": "execute_result"
    }
   ],
   "source": [
    "y[-2]"
   ]
  },
  {
   "cell_type": "code",
   "execution_count": 11,
   "id": "29c7beaf",
   "metadata": {},
   "outputs": [
    {
     "data": {
      "text/plain": [
       "[44, 55]"
      ]
     },
     "execution_count": 11,
     "metadata": {},
     "output_type": "execute_result"
    }
   ],
   "source": [
    "y[3:5]"
   ]
  },
  {
   "cell_type": "code",
   "execution_count": 14,
   "id": "9138a57e",
   "metadata": {},
   "outputs": [
    {
     "data": {
      "text/plain": [
       "[11, 22, 33, 44, 55, 66]"
      ]
     },
     "execution_count": 14,
     "metadata": {},
     "output_type": "execute_result"
    }
   ],
   "source": [
    "y[0:6]"
   ]
  },
  {
   "cell_type": "code",
   "execution_count": 17,
   "id": "78e6853c",
   "metadata": {},
   "outputs": [
    {
     "data": {
      "text/plain": [
       "[55, 66]"
      ]
     },
     "execution_count": 17,
     "metadata": {},
     "output_type": "execute_result"
    }
   ],
   "source": [
    "y[-2:]"
   ]
  },
  {
   "cell_type": "code",
   "execution_count": 18,
   "id": "cdd0a0cd",
   "metadata": {},
   "outputs": [
    {
     "data": {
      "text/plain": [
       "[11, 33, 55]"
      ]
     },
     "execution_count": 18,
     "metadata": {},
     "output_type": "execute_result"
    }
   ],
   "source": [
    "y[::2]"
   ]
  },
  {
   "cell_type": "code",
   "execution_count": 19,
   "id": "43584528",
   "metadata": {},
   "outputs": [
    {
     "data": {
      "text/plain": [
       "[66, 55, 44, 33, 22, 11]"
      ]
     },
     "execution_count": 19,
     "metadata": {},
     "output_type": "execute_result"
    }
   ],
   "source": [
    "y[::-1]"
   ]
  },
  {
   "cell_type": "code",
   "execution_count": 28,
   "id": "804bdade",
   "metadata": {},
   "outputs": [
    {
     "name": "stdout",
     "output_type": "stream",
     "text": [
      "배열의 최대값을 구합니다.\n",
      "원소 수를 입력하세요.: 4\n",
      "x[0]값을 입력하세요.: 231321\n",
      "x[1]값을 입력하세요.: 231\n",
      "x[2]값을 입력하세요.: 3213\n",
      "x[3]값을 입력하세요.: 321\n",
      "최대값은 231321입니다.\n"
     ]
    }
   ],
   "source": [
    "# 최대값 출력하기\n",
    "\n",
    "from typing import Any, Sequence\n",
    "\n",
    "def max_of(a: Sequence) -> Any:\n",
    "    maximum = a[0]\n",
    "    for i in range(1, len(a)):\n",
    "        if a[i] > maximum:\n",
    "            maximum = a[i]\n",
    "    return maximum\n",
    "    \n",
    "if __name__ == '__main__':\n",
    "    print('배열의 최대값을 구합니다.')\n",
    "    num = int(input('원소 수를 입력하세요.: '))\n",
    "    x = [None] * num # 원소 수가 num인 리스트를 생성\n",
    "    \n",
    "    for i in range(num):\n",
    "        x[i] = int(input(f'x[{i}]값을 입력하세요.: '))\n",
    "                         \n",
    "    print(f'최대값은 {max_of(x)}입니다.')"
   ]
  },
  {
   "cell_type": "code",
   "execution_count": null,
   "id": "e510f3ac",
   "metadata": {},
   "outputs": [],
   "source": []
  }
 ],
 "metadata": {
  "kernelspec": {
   "display_name": "Python 3 (ipykernel)",
   "language": "python",
   "name": "python3"
  },
  "language_info": {
   "codemirror_mode": {
    "name": "ipython",
    "version": 3
   },
   "file_extension": ".py",
   "mimetype": "text/x-python",
   "name": "python",
   "nbconvert_exporter": "python",
   "pygments_lexer": "ipython3",
   "version": "3.9.7"
  }
 },
 "nbformat": 4,
 "nbformat_minor": 5
}
