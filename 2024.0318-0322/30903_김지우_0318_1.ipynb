{
 "cells": [
  {
   "cell_type": "markdown",
   "id": "7e8bbdc6",
   "metadata": {},
   "source": [
    "# 30903_김지우_0318_1"
   ]
  },
  {
   "cell_type": "code",
   "execution_count": 11,
   "id": "429a10e6",
   "metadata": {},
   "outputs": [
    {
     "name": "stdout",
     "output_type": "stream",
     "text": [
      "세 정수의 최댓값을 구합니다.\n",
      "정수 a의 값을 입력하세요.: 1\n",
      "정수 b의 값을 입력하세요.: 2\n",
      "정수 c의 값을 입력하세요.: 3\n",
      "최대값은 3 입니다.\n"
     ]
    }
   ],
   "source": [
    "print(\"세 정수의 최댓값을 구합니다.\")\n",
    "\n",
    "a = int(input(\"정수 a의 값을 입력하세요.: \"))\n",
    "b = int(input(\"정수 b의 값을 입력하세요.: \"))\n",
    "c = int(input(\"정수 c의 값을 입력하세요.: \"))\n",
    "\n",
    "max = a\n",
    "if b > max : max = b\n",
    "if c > max : max = c\n",
    "    \n",
    "print(f\"최대값은 {max} 입니다.\")"
   ]
  },
  {
   "cell_type": "code",
   "execution_count": 18,
   "id": "28c5b278",
   "metadata": {},
   "outputs": [
    {
     "name": "stdout",
     "output_type": "stream",
     "text": [
      "정수를 입력하세요.: 0\n",
      "이 수는 0입니다.\n"
     ]
    }
   ],
   "source": [
    "a = int(input(\"정수를 입력하세요.: \"))\n",
    "\n",
    "if a > 0:\n",
    "    print(\"이 수는 양수입니다.\")\n",
    "elif a < 0:\n",
    "    print(\"이 수는 음수입니다.\")\n",
    "else:\n",
    "    print(\"이 수는 0입니다.\")"
   ]
  },
  {
   "cell_type": "code",
   "execution_count": 25,
   "id": "ae6fec6f",
   "metadata": {},
   "outputs": [
    {
     "name": "stdout",
     "output_type": "stream",
     "text": [
      "1부터 n까지 정수의 합을 구합니다.\n",
      "n값을 입력하세요.: 5\n",
      "1부터 5까지 정수의 합은 15입니다.\n"
     ]
    }
   ],
   "source": [
    "print(\"1부터 n까지 정수의 합을 구합니다.\")\n",
    "\n",
    "n = int(input(\"n값을 입력하세요.: \"))\n",
    "\n",
    "sum = 0   #초기화\n",
    "i = 1\n",
    "\n",
    "while i <= n:\n",
    "    sum += i\n",
    "    i += 1\n",
    "print(f\"1부터 {n}까지 정수의 합은 {sum}입니다.\")"
   ]
  },
  {
   "cell_type": "code",
   "execution_count": null,
   "id": "d434afd9",
   "metadata": {},
   "outputs": [],
   "source": []
  }
 ],
 "metadata": {
  "kernelspec": {
   "display_name": "Python 3 (ipykernel)",
   "language": "python",
   "name": "python3"
  },
  "language_info": {
   "codemirror_mode": {
    "name": "ipython",
    "version": 3
   },
   "file_extension": ".py",
   "mimetype": "text/x-python",
   "name": "python",
   "nbconvert_exporter": "python",
   "pygments_lexer": "ipython3",
   "version": "3.9.7"
  }
 },
 "nbformat": 4,
 "nbformat_minor": 5
}
