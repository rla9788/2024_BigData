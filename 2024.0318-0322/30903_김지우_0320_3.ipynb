{
 "cells": [
  {
   "cell_type": "markdown",
   "id": "3f282979",
   "metadata": {},
   "source": [
    "# 30903_김지우_0320_3"
   ]
  },
  {
   "cell_type": "code",
   "execution_count": 7,
   "id": "5e1fc770",
   "metadata": {},
   "outputs": [
    {
     "name": "stdout",
     "output_type": "stream",
     "text": [
      "a부터 b까지 정수의 합을 구합니다.\n",
      "정수 a를 입력하세요.: 1\n",
      "정수 b를 입력하세요.: 10\n",
      "1 + 2 + 3 + 4 + 5 + 6 + 7 + 8 + 9 + 10 = 55\n"
     ]
    }
   ],
   "source": [
    "print(\"a부터 b까지 정수의 합을 구합니다.\")\n",
    "\n",
    "a = int(input(\"정수 a를 입력하세요.: \"))\n",
    "b = int(input(\"정수 b를 입력하세요.: \"))\n",
    "\n",
    "if a > b:\n",
    "    a, b = b, a\n",
    "    \n",
    "s = 0\n",
    "\n",
    "for i in range(a, b+1):\n",
    "    if i < b:\n",
    "        print(f\"{i} + \",end = \"\")\n",
    "    else:\n",
    "        print(f\"{i} = \",end = \"\")\n",
    "    s+=i\n",
    "    \n",
    "print(s)"
   ]
  },
  {
   "cell_type": "code",
   "execution_count": 9,
   "id": "e24b45ae",
   "metadata": {},
   "outputs": [
    {
     "name": "stdout",
     "output_type": "stream",
     "text": [
      "a부터 b까지 정수의 합을 구합니다.\n",
      "정수 a를 입력하세요.: 1\n",
      "정수 b를 입력하세요.: 10\n",
      "1 + 2 + 3 + 4 + 5 + 6 + 7 + 8 + 9 + 10 = 55\n"
     ]
    }
   ],
   "source": [
    "print(\"a부터 b까지 정수의 합을 구합니다.\")\n",
    "\n",
    "a = int(input(\"정수 a를 입력하세요.: \"))\n",
    "b = int(input(\"정수 b를 입력하세요.: \"))\n",
    "\n",
    "if a > b:\n",
    "    a, b = b, a\n",
    "    \n",
    "s = 0\n",
    "\n",
    "for i in range(a, b):\n",
    "    print(f\"{i} + \",end = \"\")\n",
    "    s += i\n",
    "    \n",
    "print(f\"{b} = \",end = \"\")\n",
    "s += b\n",
    "\n",
    "print(s)"
   ]
  },
  {
   "cell_type": "code",
   "execution_count": 16,
   "id": "280dfb55",
   "metadata": {},
   "outputs": [
    {
     "name": "stdout",
     "output_type": "stream",
     "text": [
      "+와 -를 번갈아 풀력합니다.\n",
      "몇 개를 출력할까요?: 12\n",
      "+-+-+-+-+-+-"
     ]
    }
   ],
   "source": [
    "print(\"+와 -를 번갈아 풀력합니다.\")\n",
    "\n",
    "a = int(input(\"몇 개를 출력할까요?: \"))\n",
    "\n",
    "\n",
    "for i in range(a):\n",
    "    if i % 2:\n",
    "        print(\"-\",end = \"\")\n",
    "    else:\n",
    "        print(\"+\",end = \"\")"
   ]
  },
  {
   "cell_type": "code",
   "execution_count": null,
   "id": "0918a504",
   "metadata": {},
   "outputs": [],
   "source": []
  }
 ],
 "metadata": {
  "kernelspec": {
   "display_name": "Python 3 (ipykernel)",
   "language": "python",
   "name": "python3"
  },
  "language_info": {
   "codemirror_mode": {
    "name": "ipython",
    "version": 3
   },
   "file_extension": ".py",
   "mimetype": "text/x-python",
   "name": "python",
   "nbconvert_exporter": "python",
   "pygments_lexer": "ipython3",
   "version": "3.9.7"
  }
 },
 "nbformat": 4,
 "nbformat_minor": 5
}
