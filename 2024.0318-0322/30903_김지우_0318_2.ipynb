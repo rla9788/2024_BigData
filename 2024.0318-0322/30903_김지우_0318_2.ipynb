{
 "cells": [
  {
   "cell_type": "markdown",
   "id": "7289310b",
   "metadata": {},
   "source": [
    "# 30903_김지우_0318_2"
   ]
  },
  {
   "cell_type": "markdown",
   "id": "685e31fd",
   "metadata": {},
   "source": [
    "본 문제는 python 의 빠른 기초 학습을 위해 설계된 문제로서 python 코드 제출을 기준으로 설명되어 있습니다. \n",
    "------\n",
    "\n",
    "정수 1개를 입력받아 2배 곱해 출력해보자.\n",
    "\n",
    "참고\n",
    "*2 를 계산한 값을 출력해도 되지만,\n",
    "정수를 2배로 곱하거나 나누어 계산해 주는 비트단위시프트연산자 <<, >>를 이용할 수 있다.\n",
    "컴퓨터 내부에는 2진수 형태로 값들이 저장되기 때문에,\n",
    "2진수 형태로 저장되어 있는 값들을 왼쪽(<<)이나 오른쪽(>>)으로\n",
    "지정한 비트 수만큼 밀어주면 2배씩 늘어나거나 1/2로 줄어드는데,\n",
    "\n",
    "왼쪽 비트시프트(<<)가 될 때에는 오른쪽에 0이 주어진 개수만큼 추가되고,\n",
    "오른쪽 비트시프트(>>)가 될 때에는 왼쪽에 0(0 또는 양의 정수인 경우)이나 1(음의 정수인 경우)이 개수만큼 추가되고,\n",
    "가장 오른쪽에 있는 1비트는 사라진다.\n",
    "\n",
    "예시\n",
    "n = 10\n",
    "print(n<<1)  #10을 2배 한 값인 20 이 출력된다.\n",
    "print(n>>1)  #10을 반으로 나눈 값인 5 가 출력된다.\n",
    "print(n<<2)  #10을 4배 한 값인 40 이 출력된다.\n",
    "print(n>>2)  #10을 반으로 나눈 후 다시 반으로 나눈 값인 2 가 출력된다.\n",
    "\n",
    "정수 10의 2진수 표현은 ... 1010 이다.\n",
    "10 << 1 을 계산하면 ... 10100 이 된다 이 값은 10진수로 20이다.\n",
    "10 >> 1 을 계산하면 ... 101 이 된다. 이 값은 10진수로 5이다.\n",
    "\n",
    "n = 10 과 같이 키보드로 입력받지 않고 직접 작성해 넣은 코드에서, 숫자로 시작하는 단어(식별자, identifier)는 자동으로 수로 인식된다.  \n",
    "\n",
    "n = 10 에서 10 은 10진수 정수 값으로 인식된다.\n",
    "변수 n 에 문자열을 저장하고 싶다면, n = \"10\" 또는 n = '10'으로 작성해 넣으면 되고,\n",
    "\n",
    "n = 10.0 으로 작성해 넣으면 자동으로 실수 값으로 저장된다.\n",
    "n = 0o10 으로 작성해 넣으면 8진수(octal) 10으로 인식되어 10진수 8값이 저장되고,\n",
    "n = 0xf 나 n = 0XF 으로 작성해 넣으면 16진수(hexadecimal) F로 인식되어 10진수 15값으로 저장된다.\n",
    "\n",
    "** python에서 실수 값에 대한 비트시프트 연산은 허용되지 않고 오류가 발생한다.\n",
    "(실수 값도 컴퓨터 내부적으로는 2진수 형태로 저장되고 비트시프트 처리가 될 수 있지만, python 에서는 허용하지 않는다.)"
   ]
  },
  {
   "cell_type": "code",
   "execution_count": 2,
   "id": "b40fb279",
   "metadata": {},
   "outputs": [
    {
     "name": "stdout",
     "output_type": "stream",
     "text": [
      "1024\n",
      "2048\n"
     ]
    }
   ],
   "source": [
    "n = int(input())\n",
    "print(n<<1)"
   ]
  },
  {
   "cell_type": "markdown",
   "id": "d2f734bd",
   "metadata": {},
   "source": [
    "본 문제는 python 의 빠른 기초 학습을 위해 설계된 문제로서 python 코드 제출을 기준으로 설명되어 있습니다. \n",
    "------\n",
    "\n",
    "정수 2개(a, b)를 입력받아 a를 2b배 곱한 값으로 출력해보자.\n",
    "0 <= a <= 10, 0 <= b <= 10\n",
    "\n",
    "예시\n",
    "a = 2\n",
    "b = 10\n",
    "print(a << b)  #210 = 1024 가 출력된다.\n",
    "\n",
    "참고\n",
    "예를 들어 1 3 이 입력되면 1을 23(8)배 하여 출력한다."
   ]
  },
  {
   "cell_type": "code",
   "execution_count": 5,
   "id": "1ed55902",
   "metadata": {},
   "outputs": [
    {
     "name": "stdout",
     "output_type": "stream",
     "text": [
      "1 3\n",
      "8\n"
     ]
    }
   ],
   "source": [
    "a, b = map(int, input().split())\n",
    "print(a<<b)"
   ]
  },
  {
   "cell_type": "markdown",
   "id": "1e209e8d",
   "metadata": {},
   "source": [
    "본 문제는 python 의 빠른 기초 학습을 위해 설계된 문제로서 python 코드 제출을 기준으로 설명되어 있습니다. \n",
    "------\n",
    "\n",
    "두 정수(a, b)를 입력받아\n",
    "a가 b보다 작으면 True 를, a가 b보다 크거나 같으면 False 를 출력하는 프로그램을 작성해보자.\n",
    "\n",
    "예시\n",
    "print(123<456)  #비교 연산자 < 의 계산 결과인 True(참)가 출력된다.\n",
    "(123, 456 은 숫자로 작성된 단어이기 때문에 10진수로 인식된다.)\n",
    "\n",
    "참고\n",
    "어떤 값을 비교하기 위해 비교/관계(comparison/relational) 연산자(operator)를 사용할 수 있다.\n",
    "\n",
    "비교/관계연산자 < (less than sign) 는\n",
    "왼쪽의 값이 오른쪽 값 보다 작은 경우 True(참)로 계산하고,\n",
    "그 외의 경우에는 False(거짓)로 계산한다.\n",
    "\n",
    "비교/관계연산자도 일반적인 사칙연산자처럼 주어진 두 수를 이용해 계산을 수행하고,\n",
    "그 결과를 True(참), 또는 False(거짓)로 계산해 주는 연산자이다.\n",
    "\n",
    "비교/관계연산자는 <, >, <=, >=, ==(같다), !=(다르다) 6개가 있다.\n",
    "\n",
    "True(참) 또는 False(거짓) 값으로만 표현하고 저장하는 값을 불(bool)/불리언(boolean) 값이라고 한다.\n",
    "정수, 실수, 문자, 문자열과 마찬가지로 또 다른 형태의 데이터형(data type)이다."
   ]
  },
  {
   "cell_type": "code",
   "execution_count": 10,
   "id": "25ddd150",
   "metadata": {},
   "outputs": [
    {
     "name": "stdout",
     "output_type": "stream",
     "text": [
      "1 9\n",
      "True\n"
     ]
    }
   ],
   "source": [
    "a, b = map(int, input().split())\n",
    "\n",
    "if a < b:\n",
    "    print(True)\n",
    "elif a >= b:\n",
    "    print(False)"
   ]
  },
  {
   "cell_type": "markdown",
   "id": "37ed6b0a",
   "metadata": {},
   "source": [
    "본 문제는 python 의 빠른 기초 학습을 위해 설계된 문제로서 python 코드 제출을 기준으로 설명되어 있습니다. \n",
    "------\n",
    "\n",
    "두 정수(a, b)를 입력받아\n",
    "a와 b의 값이 같으면 True 를, 같지 않으면 False 를 출력하는 프로그램을 작성해보자.\n",
    "\n",
    "참고\n",
    "어떤 값을 비교하기 위해 비교/관계(comparison/relational) 연산자(operator)를 사용할 수 있다.\n",
    "\n",
    "비교/관계연산자 == (equal sign 2개) 는\n",
    "왼쪽의 계산 결과값과 오른쪽의 계산 결과값이 같은 경우 True(참)로 계산하고,\n",
    "그 외의 경우에는 False(거짓)로 계산한다.\n",
    "\n",
    "비교/관계연산자도 일반적인 사칙연산자처럼 주어진 두 수를 이용해 계산을 수행하고,\n",
    "그 결과를 True(참), 또는 False(거짓)로 계산해 주는 연산자이다.\n",
    "\n",
    "비교/관계연산자는 <, >, <=, >=, ==(같다), !=(다르다) 6개가 있다.\n",
    "\n",
    "** 수학에서 왼쪽과 오른쪽의 계산 결과가 같음(동치)을 나타내는 기호 =(equal sign) 1개는\n",
    "프로그래밍언어에서는 전혀 다른 의미로 사용된다.\n",
    "\n",
    "a = 1 와 같은 표현은 a와 1의 값이 같다는 의미가 아니라\n",
    "오른쪽의 계산 결과값인 1을 왼쪽의 변수 a에 저장하라는 의미이다."
   ]
  },
  {
   "cell_type": "code",
   "execution_count": 11,
   "id": "6634550c",
   "metadata": {},
   "outputs": [
    {
     "name": "stdout",
     "output_type": "stream",
     "text": [
      "0 0\n",
      "True\n"
     ]
    }
   ],
   "source": [
    "a, b = map(int, input().split())\n",
    "\n",
    "if a == b:\n",
    "    print(True)\n",
    "elif a != b:\n",
    "    print(False)"
   ]
  },
  {
   "cell_type": "markdown",
   "id": "a7adada6",
   "metadata": {},
   "source": [
    "본 문제는 python 의 빠른 기초 학습을 위해 설계된 문제로서 python 코드 제출을 기준으로 설명되어 있습니다. \n",
    "------\n",
    "\n",
    "두 정수(a, b)를 입력받아\n",
    "b의 값이 a의 값 보다 크거나 같으면 True 를, 같지 않으면 False 를 출력하는 프로그램을 작성해보자.\n",
    "\n",
    "참고\n",
    "어떤 값을 비교하기 위해 비교/관계(comparison/relational) 연산자(operator)를 사용할 수 있다.\n",
    "\n",
    "비교/관계연산자 <= 는\n",
    "오른쪽의 계산 결과값이 왼쪽의 계산 결과값보다 크거나 같은 경우 True(참)로 계산하고,\n",
    "그 외의 경우에는 False(거짓)로 계산한다.\n",
    "\n",
    "<=, >= 연산자는 같음(==)을 포함한다. 따라서 “작다/크다” 거나 \"같다”는 의미를 가진다.\n",
    "작다(<)/크다(>)/다르다(!) 기호는 등호(=)와 함께 왼쪽에 붙여써야 한다.\n",
    "\n",
    "비교/관계연산자도 일반적인 사칙연산자처럼 주어진 두 수를 이용해 계산을 수행하고,\n",
    "그 결과를 True(참), 또는 False(거짓)로 계산해주는 연산자이다.\n",
    "비교/관계연산자는 <, >, <=, >=, ==(같다), !=(다르다) 6개가 있다."
   ]
  },
  {
   "cell_type": "code",
   "execution_count": 12,
   "id": "df99d436",
   "metadata": {},
   "outputs": [
    {
     "name": "stdout",
     "output_type": "stream",
     "text": [
      "0 -1\n",
      "False\n"
     ]
    }
   ],
   "source": [
    "a, b = map(int, input().split())\n",
    "\n",
    "if b >= a:\n",
    "    print(True)\n",
    "elif b != a:\n",
    "    print(False)"
   ]
  },
  {
   "cell_type": "markdown",
   "id": "93835a6a",
   "metadata": {},
   "source": [
    "본 문제는 python 의 빠른 기초 학습을 위해 설계된 문제로서 python 코드 제출을 기준으로 설명되어 있습니다. \n",
    "------\n",
    "\n",
    "두 정수(a, b)를 입력받아\n",
    "a의 값이 b의 값과 서로 다르면 True 를, 같으면 False 를 출력하는 프로그램을 작성해보자.\n",
    "\n",
    "참고\n",
    "어떤 값을 비교하기 위해 비교/관계(comparison/relational) 연산자(operator)를 사용할 수 있다.\n",
    "\n",
    "비교/관계연산자 != 는\n",
    "왼쪽의 계산 결과값이 오른쪽의 계산 결과값이 서로 다른 경우 True(참)로 계산하고,\n",
    "그 외의 경우에는 False(거짓)로 계산한다.\n",
    "\n",
    "비교/관계연산자도 일반적인 사칙연산자처럼 주어진 두 수를 이용해 계산을 수행하고,\n",
    "그 결과를 True(참), 또는 False(거짓)로 계산해주는 연산자이다.\n",
    "비교/관계연산자는 <, >, <=, >=, ==(같다), !=(다르다) 6개가 있다."
   ]
  },
  {
   "cell_type": "code",
   "execution_count": 13,
   "id": "9d390f6f",
   "metadata": {},
   "outputs": [
    {
     "name": "stdout",
     "output_type": "stream",
     "text": [
      "0 1\n",
      "True\n"
     ]
    }
   ],
   "source": [
    "a, b = map(int, input().split())\n",
    "\n",
    "if a != b:\n",
    "    print(True)\n",
    "else:\n",
    "    print(False)"
   ]
  },
  {
   "cell_type": "markdown",
   "id": "f696a22b",
   "metadata": {},
   "source": [
    "본 문제는 python 의 빠른 기초 학습을 위해 설계된 문제로서 python 코드 제출을 기준으로 설명되어 있습니다. \n",
    "------\n",
    "\n",
    "정수가 입력되었을 때, True/False 로 평가해주는 프로그램을 작성해보자.\n",
    "\n",
    "예시\n",
    "n = int(input())\n",
    "print(bool(n))\n",
    "\n",
    "참고\n",
    "bool( ) 을 이용하면 입력된 식이나 값을 평가해 불 형의 값(True 또는 False)을 출력해준다.\n",
    "식이나 값을 계산해서 결과값이 만들어지는 것을 평가(evaluate)라고 한다. \n",
    "\n",
    "python 언어에서 정수값 0은 False(거짓)로 평가되고, 그 외의 값들은 모두 True(참)로 평가된다.\n",
    "** 불 대수(boolean algebra)는 수학자 불이 만들어낸 것으로 True(참)/False(거짓) 값만 가지는 논리값과 그 값들 사이의 연산을 다룬다."
   ]
  },
  {
   "cell_type": "code",
   "execution_count": 16,
   "id": "d5fdd4b4",
   "metadata": {},
   "outputs": [
    {
     "name": "stdout",
     "output_type": "stream",
     "text": [
      "0\n",
      "False\n"
     ]
    }
   ],
   "source": [
    "a = int(input())\n",
    "\n",
    "print(bool(a))"
   ]
  },
  {
   "cell_type": "markdown",
   "id": "bd496b15",
   "metadata": {},
   "source": [
    "본 문제는 python 의 빠른 기초 학습을 위해 설계된 문제로서 python 코드 제출을 기준으로 설명되어 있습니다. \n",
    "------\n",
    "\n",
    "정수값이 입력될 때,\n",
    "그 불 값을 반대로 출력하는 프로그램을 작성해보자.\n",
    "\n",
    "예시\n",
    "a = bool(int(input()))\n",
    "print(not a)\n",
    "\n",
    "참고\n",
    "a = bool(int(input()))\n",
    "와 같은 형태로 겹쳐 작성하면, 한 번에 한 단계씩 계산/처리/평가된다.\n",
    "위와 같은 명령문의 경우 input( ), int( ), bool( ) 순서로 한 번에 한 단계씩 계산/처리/평가된다.\n",
    "\n",
    "어떤 불 값이나 변수에 not True, not False, not a 와 같은 계산이 가능하다.\n",
    "\n",
    "참 또는 거짓의 논리값을 역(반대)으로 바꾸기 위해서 not 예약어(reserved word, keyword)를 사용할 수 있다.\n",
    "\n",
    "이러한 논리연산을 NOT 연산(boolean NOT)이라고도 부르고,\n",
    "프라임 '(문자 오른쪽 위에 작은 따옴표), 바(기호 위에 가로 막대), 문자 오른쪽 위에 c(여집합, complement) 등으로 표시한다.\n",
    "모두 같은 의미이다.\n",
    "\n",
    "참, 거짓의 논리값 인 불(boolean) 값을 다루어주는 예약어는 not, and, or 이 있고,\n",
    "불 값들 사이의 논리(not, and, or) 연산 결과도 마찬가지로 True 또는 False 의 불 값으로 계산 된다.\n",
    "\n",
    "정수값 0은 False 이고, 나머지 정수 값들은 True 로 평가된다.\n",
    "빈 문자열 \"\" 나 ''는 False 이고, 나머지 문자열들은 True 로 평가된다.\n",
    "\n",
    "** 불 대수(boolean algebra)는 수학자 불이 만들어낸 것으로 True(참)/False(거짓) 값만 가지는 논리값과 그 값들 사이의 연산을 다룬다."
   ]
  },
  {
   "cell_type": "code",
   "execution_count": 17,
   "id": "761ebd04",
   "metadata": {},
   "outputs": [
    {
     "name": "stdout",
     "output_type": "stream",
     "text": [
      "1\n",
      "False\n"
     ]
    }
   ],
   "source": [
    "a = bool(int(input()))\n",
    "\n",
    "print(not a)"
   ]
  },
  {
   "cell_type": "markdown",
   "id": "0386e79b",
   "metadata": {},
   "source": [
    "본 문제는 python 의 빠른 기초 학습을 위해 설계된 문제로서 python 코드 제출을 기준으로 설명되어 있습니다. \n",
    "------\n",
    "\n",
    "2개의 정수값이 입력될 때,\n",
    "그 불 값이 모두 True 일 때에만 True 를 출력하는 프로그램을 작성해보자.\n",
    "\n",
    "예시\n",
    "a, b = input().split()\n",
    "print(bool(int(a)) and bool(int(b)))\n",
    "\n",
    "참고\n",
    "and 예약어는 주어진 두 불 값이 모두 True 일 때에만 True 로 계산하고, 나머지 경우는 False 로 계산한다.\n",
    "이러한 논리연산을 AND 연산(boolean AND)이라고도 부르고, · 으로 표시하거나 생략하며, 집합 기호 ∩(교집합, intersection)로 표시하기도 한다. \n",
    "모두 같은 의미이다.\n",
    "\n",
    "참, 거짓의 논리값 인 불(boolean) 값을 다루어주는 예약어는 not, and, or 이 있고,\n",
    "불 값들 사이의 논리(not, and, or) 연산 결과도 마찬가지로 True 또는 False 의 불 값으로 계산된다.\n",
    "\n",
    "** 불 대수(boolean algebra)는 수학자 불이 만들어낸 것으로 True(참)/False(거짓) 값만 가지는 논리값과 그 값들 사이의 연산을 다룬다."
   ]
  },
  {
   "cell_type": "code",
   "execution_count": 18,
   "id": "63cd5a68",
   "metadata": {},
   "outputs": [
    {
     "name": "stdout",
     "output_type": "stream",
     "text": [
      "1 1\n",
      "True\n"
     ]
    }
   ],
   "source": [
    "a, b = input().split()\n",
    "\n",
    "print(bool(int(a)) and bool(int(b)))"
   ]
  },
  {
   "cell_type": "markdown",
   "id": "bcf1053f",
   "metadata": {},
   "source": [
    "본 문제는 python 의 빠른 기초 학습을 위해 설계된 문제로서 python 코드 제출을 기준으로 설명되어 있습니다. \n",
    "------\n",
    "\n",
    "2개의 정수값이 입력될 때,\n",
    "그 불 값이 하나라도 True 일 때에만 True 를 출력하는 프로그램을 작성해보자.\n",
    "\n",
    "참고\n",
    "or 예약어는 주어진 두 불 값 중에서 하나라도 True 이면 True 로 계산하고, 나머지 경우는 False 로 계산한다.\n",
    "이러한 논리연산을 OR 연산(boolean OR)이라고도 부르고, + 로 표시하거나, 집합 기호 ∪(합집합, union)로 표시하기도 한다.\n",
    "모두 같은 의미이다.\n",
    "\n",
    "참, 거짓의 논리값 인 불(boolean) 값을 다루어주는 예약어는 not, and, or 이 있고,\n",
    "불 값들 사이의 논리(not, and, or) 연산 결과도 마찬가지로 True 또는 False 의 불 값으로 계산된다.\n",
    "\n",
    "** 불 대수(boolean algebra)는 수학자 불이 만들어낸 것으로 True(참)/False(거짓) 값만 가지는 논리값과 그 값들 사이의 연산을 다룬다."
   ]
  },
  {
   "cell_type": "code",
   "execution_count": 19,
   "id": "581d59b7",
   "metadata": {},
   "outputs": [
    {
     "name": "stdout",
     "output_type": "stream",
     "text": [
      "1 1\n",
      "True\n"
     ]
    }
   ],
   "source": [
    "a, b = input().split()\n",
    "\n",
    "print(bool(int(a)) or bool(int(b)))"
   ]
  },
  {
   "cell_type": "markdown",
   "id": "8b2d4fa8",
   "metadata": {},
   "source": [
    "본 문제는 python 의 빠른 기초 학습을 위해 설계된 문제로서 python 코드 제출을 기준으로 설명되어 있습니다. \n",
    "------\n",
    "\n",
    "2개의 정수값이 입력될 때,\n",
    "그 불 값(True/False) 이 서로 다를 때에만 True 를 출력하는 프로그램을 작성해보자.\n",
    "\n",
    "예시\n",
    "...\n",
    "c = bool(int(a))\n",
    "d = bool(int(b))\n",
    "print((c and (not d)) or ((not c) and d))\n",
    "\n",
    "참고\n",
    "참 거짓이 서로 다를 때에만 True 로 계산하는 논리연산을 XOR(exclusive or, 배타적 논리합) 연산이라고도 부른다.\n",
    "\n",
    "논리연산자는 사칙(+, -, *, /) 연산자와 마찬가지로 여러 번 중복해서 사용할 수 있는데, \n",
    "사칙 연산자와 마찬가지로 계산 순서를 표시하기 위해 괄호 ( )를 사용할 수 있다.\n",
    "괄호를 사용하면 계산 순서를 명확하게 표현할 수 있다.\n",
    "\n",
    "수학 식에서는 소괄호 (), 중괄호 {}, 대괄호 []를 사용하기도 하지만, 프로그래밍언어에서는 소괄호 ( ) 만 사용한다.\n",
    "\n",
    "** 불 대수(boolean algebra)는 수학자 불이 만들어낸 것으로 True(참)/False(거짓) 값만 가지는 논리값과 그 값들 사이의 연산을 다룬다."
   ]
  },
  {
   "cell_type": "code",
   "execution_count": 24,
   "id": "b20be1b8",
   "metadata": {},
   "outputs": [
    {
     "name": "stdout",
     "output_type": "stream",
     "text": [
      "1 1\n",
      "False\n"
     ]
    }
   ],
   "source": [
    "a, b = input().split()\n",
    "c = bool(int(a))\n",
    "d = bool(int(b))\n",
    "print((c and (not d)) or ((not c) and d))"
   ]
  },
  {
   "cell_type": "markdown",
   "id": "ba7012c4",
   "metadata": {},
   "source": [
    "본 문제는 python 의 빠른 기초 학습을 위해 설계된 문제로서 python 코드 제출을 기준으로 설명되어 있습니다. \n",
    "------\n",
    "\n",
    "2개의 정수값이 입력될 때,\n",
    "그 불 값(True/False) 이 서로 같을 때에만 True 를 출력하는 프로그램을 작성해보자."
   ]
  },
  {
   "cell_type": "code",
   "execution_count": 26,
   "id": "026d0625",
   "metadata": {},
   "outputs": [
    {
     "name": "stdout",
     "output_type": "stream",
     "text": [
      "0 0\n",
      "True\n"
     ]
    }
   ],
   "source": [
    "a, b = map(int, input().split())\n",
    "\n",
    "c = bool(int(a))\n",
    "d = bool(int(b))\n",
    "\n",
    "if c == d:\n",
    "    print(True)\n",
    "else:\n",
    "    print(False)"
   ]
  },
  {
   "cell_type": "markdown",
   "id": "27d9afdf",
   "metadata": {},
   "source": [
    "본 문제는 python 의 빠른 기초 학습을 위해 설계된 문제로서 python 코드 제출을 기준으로 설명되어 있습니다. \n",
    "------\n",
    "\n",
    "2개의 정수값이 입력될 때,\n",
    "그 불 값(True/False) 이 모두 False 일 때에만 True 를 출력하는 프로그램을 작성해보자."
   ]
  },
  {
   "cell_type": "code",
   "execution_count": 30,
   "id": "0c1c3392",
   "metadata": {},
   "outputs": [
    {
     "name": "stdout",
     "output_type": "stream",
     "text": [
      "0 0\n",
      "True\n"
     ]
    }
   ],
   "source": [
    "a, b = map(int, input().split())\n",
    "\n",
    "c = bool(int(a))\n",
    "d = bool(int(b))\n",
    "\n",
    "if c == d and c == False:\n",
    "    print(True)\n",
    "else:\n",
    "    print(False)"
   ]
  },
  {
   "cell_type": "markdown",
   "id": "c0ced99e",
   "metadata": {},
   "source": [
    "본 문제는 python 의 빠른 기초 학습을 위해 설계된 문제로서 python 코드 제출을 기준으로 설명되어 있습니다. \n",
    "------\n",
    "\n",
    "입력 된 정수를 비트단위로 참/거짓을 바꾼 후 정수로 출력해보자.\n",
    "비트단위(bitwise)연산자 ~ 를 붙이면 된다.(~ : tilde, 틸드라고 읽는다.)\n",
    "\n",
    "** 비트단위(bitwise) 연산자는,\n",
    "~(bitwise not), &(bitwise and), |(bitwise or), ^(bitwise xor),\n",
    "<<(bitwise left shift), >>(bitwise right shift)\n",
    "가 있다.\n",
    "\n",
    "예를 들어 1이 입력되었을 때 저장되는 1을 32비트 2진수로 표현하면\n",
    "        00000000 00000000 00000000 00000001 이고,\n",
    "~1은 11111111 11111111 11111111 11111110 가 되는데 이는 -2를 의미한다.\n",
    "\n",
    "예시\n",
    "a = 1\n",
    "print(~a) #-2가 출력된다.\n",
    "\n",
    "참고\n",
    "컴퓨터에 저장되는 모든 데이터들은 2진수 형태로 바뀌어 저장된다.\n",
    "0과 1로만 구성되는 비트단위들로 변환되어 저장되는데,\n",
    "양의 정수는 2진수 형태로 바뀌어 저장되고, 음의 정수는 \"2의 보수 표현\"방법으로 저장된다.\n",
    "\n",
    "양의 정수 5를 32비트로 저장하면, \n",
    "\n",
    "5의 2진수 형태인 101이 32비트로 만들어져\n",
    "00000000 00000000 00000000 00000101\n",
    "로 저장된다.(공백은 보기 편하도록 임의로 분리)\n",
    "\n",
    "32비트 형의 정수 0은\n",
    "00000000 00000000 00000000 00000000\n",
    "\n",
    "그리고 -1은 0에서 1을 더 빼고 32비트만 표시하는 형태로\n",
    "11111111 11111111 11111111 11111111 로 저장된다.\n",
    "\n",
    "-2는 -1에서 1을 더 빼면 된다.\n",
    "11111111 11111111 11111111 11111110 로 저장된다.\n",
    "\n",
    "이러한 내용을 간단히 표현하면, 정수 n이라고 할 때,\n",
    "\n",
    "~n = -n - 1\n",
    "-n = ~n + 1 과 같은 관계로 표현할 수 있다.\n",
    "\n",
    "이 관계를 그림으로 그려보면 마치 원형으로 수들이 상대적으로 배치된 것과 같다."
   ]
  },
  {
   "cell_type": "code",
   "execution_count": 35,
   "id": "c3b9d2ee",
   "metadata": {},
   "outputs": [
    {
     "name": "stdout",
     "output_type": "stream",
     "text": [
      "2\n",
      "-3\n"
     ]
    }
   ],
   "source": [
    "a = int(input())\n",
    "\n",
    "print(~a)"
   ]
  },
  {
   "cell_type": "markdown",
   "id": "38d33557",
   "metadata": {},
   "source": [
    "본 문제는 python 의 빠른 기초 학습을 위해 설계된 문제로서 python 코드 제출을 기준으로 설명되어 있습니다. \n",
    "------\n",
    "\n",
    "입력된 정수 두 개를 비트단위로 and 연산한 후 그 결과를 정수로 출력해보자.\n",
    "비트단위(bitwise)연산자 &를 사용하면 된다.(and, ampersand, 앰퍼센드라고 읽는다.)\n",
    "\n",
    "** 비트단위(bitwise)연산자는,\n",
    "~(bitwise not), &(bitwise and), |(bitwise or), ^(bitwise xor),\n",
    "<<(bitwise left shift), >>(bitwise right shift)\n",
    "가 있다.\n",
    "\n",
    "예를 들어 3과 5가 입력되었을 때를 살펴보면\n",
    "3       : 00000000 00000000 00000000 00000011\n",
    "5       : 00000000 00000000 00000000 00000101\n",
    "3 & 5 : 00000000 00000000 00000000 00000001\n",
    "이 된다.\n",
    "\n",
    "비트단위 and 연산은 두 비트열이 주어졌을 때,\n",
    "둘 다 1인 부분의 자리만 1로 만들어주는 것과 같다.\n",
    "\n",
    "이 연산을 이용하면 어떤 비트열의 특정 부분만 모두 0으로도 만들 수 있는데\n",
    "192.168.0.31   : 11000000.10101000.00000000.00011111\n",
    "255.255.255.0 : 11111111.11111111.11111111.00000000\n",
    "\n",
    "두 개의 ip 주소를 & 연산하면\n",
    "192.168.0.0 :     110000000.10101000.0000000.00000000 을 계산할 수 있다.\n",
    "\n",
    "실제로 이 계산은 네트워크에 연결되어 있는 두 개의 컴퓨터가 데이터를 주고받기 위해\n",
    "같은 네트워크에 있는지 아닌지를 판단하는데 사용된다.\n",
    "\n",
    "이러한 비트단위 연산은 빠른 계산이 필요한 그래픽처리에서\n",
    "마스크연산(특정 부분을 가리고 출력하는)을 수행하는 데에도 효과적으로 사용된다."
   ]
  },
  {
   "cell_type": "code",
   "execution_count": 38,
   "id": "7358d3cf",
   "metadata": {},
   "outputs": [
    {
     "name": "stdout",
     "output_type": "stream",
     "text": [
      "3 5\n",
      "1\n"
     ]
    }
   ],
   "source": [
    "a, b = map(int, input().split())\n",
    "\n",
    "print(a & b)"
   ]
  },
  {
   "cell_type": "markdown",
   "id": "6b319874",
   "metadata": {},
   "source": [
    "본 문제는 python 의 빠른 기초 학습을 위해 설계된 문제로서 python 코드 제출을 기준으로 설명되어 있습니다. \n",
    "------\n",
    "\n",
    "입력된 정수 두 개를 비트단위로 or 연산한 후 그 결과를 정수로 출력해보자.\n",
    "비트단위(bitwise) 연산자 |(or, vertical bar, 버티컬바)를 사용하면 된다.\n",
    "\n",
    "** | 은 파이프(pipe)연산자라고도 불리는 경우가 있다.\n",
    "\n",
    "** 비트단위(bitwise) 연산자는,\n",
    "~(bitwise not), &(bitwise and), |(bitwise or), ^(bitwise xor),\n",
    "<<(bitwise left shift), >>(bitwise right shift)\n",
    "가 있다.\n",
    "\n",
    "예를 들어 3과 5가 입력되었을 때를 살펴보면\n",
    "3      : 00000000 00000000 00000000 00000011\n",
    "5      : 00000000 00000000 00000000 00000101\n",
    "3 | 5 : 00000000 00000000 00000000 00000111\n",
    "이 된다.\n",
    "\n",
    "비트단위 or 연산은 둘 중 하나라도 1인 자리를 1로 만들어주는 것과 같다.\n",
    "\n",
    "이러한 비트단위 연산은 빠른 계산이 필요한 그래픽처리에서도 효과적으로 사용된다."
   ]
  },
  {
   "cell_type": "code",
   "execution_count": 39,
   "id": "cfdee5f3",
   "metadata": {},
   "outputs": [
    {
     "name": "stdout",
     "output_type": "stream",
     "text": [
      "3 5\n",
      "7\n"
     ]
    }
   ],
   "source": [
    "a, b = map(int, input().split())\n",
    "\n",
    "print(a | b)"
   ]
  },
  {
   "cell_type": "markdown",
   "id": "032a2081",
   "metadata": {},
   "source": [
    "본 문제는 python 의 빠른 기초 학습을 위해 설계된 문제로서 python 코드 제출을 기준으로 설명되어 있습니다. \n",
    "------\n",
    "\n",
    "입력된 정수 두 개를 비트단위로 xor 연산한 후 그 결과를 정수로 출력해보자.\n",
    "비트단위(bitwise) 연산자 ^(xor, circumflex/caret, 서컴플렉스/카릿)를 사용하면 된다.\n",
    "\n",
    "** 주의 ^은 수학식에서 거듭제곱(power)을 나타내는 기호와 모양은 같지만,\n",
    "C언어에서는 전혀 다른 배타적 논리합(xor, 서로 다를 때 1)의 의미를 가진다.\n",
    "\n",
    "** 비트단위(bitwise) 연산자는,\n",
    "~(bitwise not), &(bitwise and), |(bitwise or), ^(bitwise xor),\n",
    "<<(bitwise left shift), >>(bitwise right shift)\n",
    "가 있다.\n",
    "\n",
    "예를 들어 3과 5가 입력되었을 때를 살펴보면\n",
    "3       : 00000000 00000000 00000000 00000011\n",
    "5       : 00000000 00000000 00000000 00000101\n",
    "3 ^ 5 : 00000000 00000000 00000000 00000110\n",
    "이 된다.\n",
    "이러한 비트단위 연산은 빠른 계산이 필요한 그래픽처리에서도 효과적으로 사용된다.\n",
    "\n",
    "구체적으로 설명하자면,\n",
    "두 장의 이미지가 겹쳐졌을 때 색이 서로 다른 부분만 처리할 수 있다.\n",
    "배경이 되는 그림과 배경 위에서 움직이는 그림이 있을 때,\n",
    "두 그림에서 차이만 골라내 배경 위에서 움직이는 그림의 색으로 바꿔주면\n",
    "전체 그림을 구성하는 모든 점들의 색을 다시 계산해 입히지 않고\n",
    "보다 효과적으로 그림을 처리할 수 있게 되는 것이다.\n",
    "비행기 슈팅게임 등을 상상해보면 된다."
   ]
  },
  {
   "cell_type": "code",
   "execution_count": 40,
   "id": "2d4e355f",
   "metadata": {},
   "outputs": [
    {
     "name": "stdout",
     "output_type": "stream",
     "text": [
      "3 5\n",
      "6\n"
     ]
    }
   ],
   "source": [
    "a, b = map(int, input().split())\n",
    "\n",
    "print(a ^ b)"
   ]
  },
  {
   "cell_type": "markdown",
   "id": "b552346f",
   "metadata": {},
   "source": [
    "본 문제는 python 의 빠른 기초 학습을 위해 설계된 문제로서 python 코드 제출을 기준으로 설명되어 있습니다. \n",
    "------\n",
    "\n",
    "입력된 두 정수(a, b) 중 큰 값을 출력하는 프로그램을 작성해보자.\n",
    "단, 3항 연산을 사용한다.\n",
    "\n",
    "예시\n",
    "a, b = input().split()\n",
    "a = int(a)  #변수 a에 저장되어있는 값을 정수로 바꾸어 다시 변수 a에 저장\n",
    "b = int(b)\n",
    "c = (a if (a>=b) else b)\n",
    "print(int(c))\n",
    "\n",
    "참고\n",
    "3개의 요소로 이루어지는 3항 연산은\n",
    "\"x if C else y\" 의 형태로 작성이 된다.\n",
    "- C : True 또는 False 를 평가할 조건식(conditional expression) 또는 값\n",
    "- x : C의 평가 결과가 True 일 때 사용할 값\n",
    "- y : C의 평가 결과가 True 가 아닐 때 사용할 값\n",
    "\n",
    "조건식 또는 값이 True 이면 x 값이 사용되고, True가 아니면 y 값이 사용되도록 하는 코드이다.\n",
    "\n",
    "예를 들어\n",
    "0 if 123>456 else 1\n",
    "과 같은 표현식의 평가값은 123 > 456 의 비교연산 결과가 False 이므로 1이 된다.\n",
    "\n",
    "예시 코드에서\n",
    "a>=b 의 결과가 True(참) 이면 (a if (a>=b) else b)의 결과는 a가 되고,\n",
    "a>=b 의 결과가 False(거짓)이면 (a if (a>=b) else b)의 결과는 b가 된다."
   ]
  },
  {
   "cell_type": "code",
   "execution_count": 41,
   "id": "395eb975",
   "metadata": {},
   "outputs": [
    {
     "name": "stdout",
     "output_type": "stream",
     "text": [
      "123 456\n",
      "456\n"
     ]
    }
   ],
   "source": [
    "a, b = map(int, input().split())\n",
    "c = a\n",
    "if a > b:\n",
    "    print(a)\n",
    "elif a < b:\n",
    "    print(b)"
   ]
  },
  {
   "cell_type": "code",
   "execution_count": null,
   "id": "e7afb53e",
   "metadata": {},
   "outputs": [],
   "source": []
  }
 ],
 "metadata": {
  "kernelspec": {
   "display_name": "Python 3 (ipykernel)",
   "language": "python",
   "name": "python3"
  },
  "language_info": {
   "codemirror_mode": {
    "name": "ipython",
    "version": 3
   },
   "file_extension": ".py",
   "mimetype": "text/x-python",
   "name": "python",
   "nbconvert_exporter": "python",
   "pygments_lexer": "ipython3",
   "version": "3.9.7"
  }
 },
 "nbformat": 4,
 "nbformat_minor": 5
}
