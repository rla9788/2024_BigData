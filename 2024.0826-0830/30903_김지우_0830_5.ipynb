{
 "cells": [
  {
   "cell_type": "markdown",
   "id": "1a18ab50",
   "metadata": {},
   "source": [
    "# 30903_김지우_0830_5"
   ]
  },
  {
   "cell_type": "markdown",
   "id": "85a109ec",
   "metadata": {},
   "source": [
    "어느 날 한솔이는 혜인이에게 자기가 18살이니 몇 년도에 태어 났는지 맞춰 보라고 했다.\n",
    "\n",
    "혜인이는 초능력(?)을 발휘해서 한솔이가 몇 년 생인지 한 번에 맞추었다.\n",
    "\n",
    "한솔이는 깜짝 놀라 셔플 댄스를 추면서 그 자리에서 쓰러지고 말았다.\n",
    "\n",
    "보다시피 혜인이는 사람의 나이를 알면 출생년도를 마추는 신기한(?) 재주를 가지고 있다.\n",
    "\n",
    "나이가 주어지면 몇 년도에 태어났는지를 출력하시오. (나이는 2012년도 기준입니다.)\n",
    "\n",
    "단, 출력할 때 년도 4자리 중 뒤의 두자리만 출력하고, 한 칸 띄운 후 1900년도 출생이면 1을 출력, 2000년대 출생이면 3을 출력하시오.\n",
    "\n",
    "예) 18살이면 1995년생이므로 95 1을 출력한다."
   ]
  },
  {
   "cell_type": "code",
   "execution_count": 16,
   "id": "49ee385d",
   "metadata": {
    "scrolled": true
   },
   "outputs": [
    {
     "name": "stdout",
     "output_type": "stream",
     "text": [
      "18\n",
      "95 1\n"
     ]
    }
   ],
   "source": [
    "age = int(input())\n",
    "birth_year = 2012 - age + 1\n",
    "year_info = 0\n",
    "\n",
    "if birth_year < 2000:\n",
    "    year_info = 1\n",
    "else:\n",
    "    year_info = 3\n",
    "    \n",
    "birth_year %= 100\n",
    "print(birth_year, year_info)"
   ]
  },
  {
   "cell_type": "markdown",
   "id": "501cc082",
   "metadata": {},
   "source": [
    "학번을 입력 받아 다음 형식으로 출력하시오.\n",
    "\n",
    "학번은 학년, 반, 번호로 입력된다.\n",
    "\n",
    "예)\n",
    "\n",
    "2 3 27   =====>    2327로 출력\n",
    "\n",
    "2 3 7   ======> 2307로 출력   (번호가 10번미만이면 0을 붙여 출력)"
   ]
  },
  {
   "cell_type": "code",
   "execution_count": 27,
   "id": "c5727e71",
   "metadata": {},
   "outputs": [
    {
     "name": "stdout",
     "output_type": "stream",
     "text": [
      "3 1 2\n",
      "3102\n"
     ]
    }
   ],
   "source": [
    "g, c, n = input().split()\n",
    "\n",
    "if int(n) < 10:\n",
    "    n = '0' + n\n",
    "    \n",
    "print(g + c + n)"
   ]
  },
  {
   "cell_type": "markdown",
   "id": "1e053b92",
   "metadata": {},
   "source": [
    "학번을 입력 받아 다음 형식으로 출력하시오.\n",
    "\n",
    "학번은 학년, 반, 번호로 입력된다.\n",
    "\n",
    "이번에는 학년은 한자리, 반은 두자리, 번호는 세자리로 출력한다.\n",
    "\n",
    "예)\n",
    "\n",
    "2 1 20  ===> 201020  으로 출력\n",
    "\n",
    "2 2 7 ==> 202007 으로 출력\n",
    "\n",
    "2 3 100 ==>  203100 으로 출력\n",
    "\n",
    "2 10 111 ==> 210111 로 출력\n",
    "\n"
   ]
  },
  {
   "cell_type": "code",
   "execution_count": 42,
   "id": "a37c575f",
   "metadata": {},
   "outputs": [
    {
     "name": "stdout",
     "output_type": "stream",
     "text": [
      "3 6 123\n",
      "306123\n"
     ]
    }
   ],
   "source": [
    "grade, group, number = input().split()\n",
    "group = int(group)\n",
    "number = int(number)\n",
    "\n",
    "if(group < 10):\n",
    "    group = '0' + str(group)\n",
    "\n",
    "if(number < 10):\n",
    "    number = '00' + str(number)\n",
    "elif(number < 100):\n",
    "    number = '0' + str(number)\n",
    "\n",
    "student_number = grade + str(group) + str(number)\n",
    "\n",
    "print(student_number)"
   ]
  },
  {
   "cell_type": "code",
   "execution_count": null,
   "id": "c829306b",
   "metadata": {},
   "outputs": [],
   "source": []
  }
 ],
 "metadata": {
  "kernelspec": {
   "display_name": "Python 3 (ipykernel)",
   "language": "python",
   "name": "python3"
  },
  "language_info": {
   "codemirror_mode": {
    "name": "ipython",
    "version": 3
   },
   "file_extension": ".py",
   "mimetype": "text/x-python",
   "name": "python",
   "nbconvert_exporter": "python",
   "pygments_lexer": "ipython3",
   "version": "3.9.7"
  }
 },
 "nbformat": 4,
 "nbformat_minor": 5
}
