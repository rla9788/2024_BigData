{
 "cells": [
  {
   "cell_type": "markdown",
   "id": "ac349f67",
   "metadata": {},
   "source": [
    "# 30903_김지우_0503_6"
   ]
  },
  {
   "cell_type": "markdown",
   "id": "6d7aee41",
   "metadata": {},
   "source": [
    "    10진수 정수를 입력받아 8진수와 16진수로 출력한다."
   ]
  },
  {
   "cell_type": "code",
   "execution_count": 8,
   "id": "d1eb0fc5",
   "metadata": {},
   "outputs": [
    {
     "name": "stdout",
     "output_type": "stream",
     "text": [
      "10\n",
      "12 A\n"
     ]
    }
   ],
   "source": [
    "a = int(input())\n",
    "print('%o' % a, '%X'  % a)"
   ]
  },
  {
   "cell_type": "markdown",
   "id": "ad8544c1",
   "metadata": {},
   "source": [
    "    입력된 문자를 그대로 출력한다.\n"
   ]
  },
  {
   "cell_type": "code",
   "execution_count": 10,
   "id": "5238cbe0",
   "metadata": {},
   "outputs": [
    {
     "name": "stdout",
     "output_type": "stream",
     "text": [
      "a\n",
      "a\n"
     ]
    }
   ],
   "source": [
    "a = input()\n",
    "print('%c' % a)"
   ]
  },
  {
   "cell_type": "markdown",
   "id": "ab5e400e",
   "metadata": {},
   "source": [
    "    한 단어를 입력받아 출력한다."
   ]
  },
  {
   "cell_type": "code",
   "execution_count": 11,
   "id": "586b808c",
   "metadata": {},
   "outputs": [
    {
     "name": "stdout",
     "output_type": "stream",
     "text": [
      "cat\n",
      "cat\n"
     ]
    }
   ],
   "source": [
    "a = input()\n",
    "print('%s' % a)"
   ]
  },
  {
   "cell_type": "code",
   "execution_count": null,
   "id": "b0e7fedb",
   "metadata": {},
   "outputs": [],
   "source": []
  }
 ],
 "metadata": {
  "kernelspec": {
   "display_name": "Python 3 (ipykernel)",
   "language": "python",
   "name": "python3"
  },
  "language_info": {
   "codemirror_mode": {
    "name": "ipython",
    "version": 3
   },
   "file_extension": ".py",
   "mimetype": "text/x-python",
   "name": "python",
   "nbconvert_exporter": "python",
   "pygments_lexer": "ipython3",
   "version": "3.9.7"
  }
 },
 "nbformat": 4,
 "nbformat_minor": 5
}
