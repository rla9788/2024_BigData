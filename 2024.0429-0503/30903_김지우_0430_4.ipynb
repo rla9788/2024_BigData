{
 "cells": [
  {
   "cell_type": "markdown",
   "id": "70ffdd25",
   "metadata": {},
   "source": [
    "# 30903_김지우_0430_4"
   ]
  },
  {
   "cell_type": "code",
   "execution_count": 3,
   "id": "43fd7afe",
   "metadata": {},
   "outputs": [
    {
     "name": "stdout",
     "output_type": "stream",
     "text": [
      "['안녕', '하세요', '반가', '워요']\n",
      "안녕\n",
      "하세요\n",
      "반가\n",
      "워요\n"
     ]
    }
   ],
   "source": [
    "# 공백으로 문장을 나누는 명령어 (split)\n",
    "a = '안녕 하세요 반가 워요'\n",
    "print(a.split())\n",
    "print(a.split()[0])\n",
    "print(a.split()[1])\n",
    "print(a.split()[2])\n",
    "print(a.split()[3])"
   ]
  },
  {
   "cell_type": "code",
   "execution_count": 5,
   "id": "caa36b36",
   "metadata": {},
   "outputs": [
    {
     "name": "stdout",
     "output_type": "stream",
     "text": [
      "['2024', '04', '30']\n",
      "2024\n",
      "04\n",
      "30\n"
     ]
    }
   ],
   "source": [
    "# -(하이픈)을 기준으로 split\n",
    "date = '2024-04-30'\n",
    "print(date.split('-'))\n",
    "print(date.split('-')[0])\n",
    "print(date.split('-')[1])\n",
    "print(date.split('-')[2])"
   ]
  },
  {
   "cell_type": "code",
   "execution_count": 10,
   "id": "4af4e50a",
   "metadata": {},
   "outputs": [
    {
     "name": "stdout",
     "output_type": "stream",
     "text": [
      "정렬 후 : ['감자칩', '된장찌개', '바나나', '스테이크', '치킨', '파스타', '피자']\n"
     ]
    }
   ],
   "source": [
    "# 리스트 원소 정렬하기 (sort)\n",
    "food = ['피자', '치킨', '스테이크', '된장찌개', '바나나', '파스타', '감자칩']\n",
    "\n",
    "food.sort()\n",
    "print('정렬 후 :',food)"
   ]
  },
  {
   "cell_type": "code",
   "execution_count": 11,
   "id": "9a5ee594",
   "metadata": {},
   "outputs": [
    {
     "name": "stdout",
     "output_type": "stream",
     "text": [
      "역순 정렬 후 : ['피자', '파스타', '치킨', '스테이크', '바나나', '된장찌개', '감자칩']\n"
     ]
    }
   ],
   "source": [
    "# 리스트 원소 내림차순(역순)으로 정렬하기 sort(reverse = True)\n",
    "food = ['피자', '치킨', '스테이크', '된장찌개', '바나나', '파스타', '감자칩']\n",
    "\n",
    "food.sort(reverse = True)\n",
    "print('역순 정렬 후 :',food)"
   ]
  },
  {
   "cell_type": "code",
   "execution_count": 16,
   "id": "1c002cfb",
   "metadata": {
    "scrolled": true
   },
   "outputs": [
    {
     "name": "stdout",
     "output_type": "stream",
     "text": [
      "[56, 53]\n"
     ]
    }
   ],
   "source": [
    "# 역순으로 정렬하고 첫번째 두번째를 출력해 보기\n",
    "spending_6mon = [25, 36, 8, 53, 24, 56]\n",
    "\n",
    "spending_6mon.sort(reverse = True)\n",
    "print(spending_6mon[:2])"
   ]
  },
  {
   "cell_type": "code",
   "execution_count": 25,
   "id": "7e5a875f",
   "metadata": {},
   "outputs": [
    {
     "name": "stdout",
     "output_type": "stream",
     "text": [
      "최대값 : 56\n",
      "최소값 : 8\n",
      "전체합 : 202\n",
      "24의 위치 : 5\n"
     ]
    }
   ],
   "source": [
    "# 리스트 원소 중 최대값, 최소값 찾기 (max, min)\n",
    "spending_6mon = [25, 36, 8, 53, 24, 56]\n",
    "\n",
    "print('최대값 :', max(spending_6mon))\n",
    "print('최소값 :', min(spending_6mon))\n",
    "\n",
    "# 리스트 원소 전체의 합 (sum)\n",
    "print('전체합 :', sum(spending_6mon))\n",
    "\n",
    "# 리스트 안 원소의 위치 찾기 (index)\n",
    "print('24의 위치 :', spending_6mon.index(24) + 1)"
   ]
  },
  {
   "cell_type": "code",
   "execution_count": null,
   "id": "6df332c6",
   "metadata": {},
   "outputs": [],
   "source": []
  }
 ],
 "metadata": {
  "kernelspec": {
   "display_name": "Python 3 (ipykernel)",
   "language": "python",
   "name": "python3"
  },
  "language_info": {
   "codemirror_mode": {
    "name": "ipython",
    "version": 3
   },
   "file_extension": ".py",
   "mimetype": "text/x-python",
   "name": "python",
   "nbconvert_exporter": "python",
   "pygments_lexer": "ipython3",
   "version": "3.9.7"
  }
 },
 "nbformat": 4,
 "nbformat_minor": 5
}
