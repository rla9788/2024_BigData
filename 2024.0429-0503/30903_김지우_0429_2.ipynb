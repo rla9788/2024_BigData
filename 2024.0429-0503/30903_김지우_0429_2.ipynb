{
 "cells": [
  {
   "cell_type": "markdown",
   "id": "961ee5ed",
   "metadata": {},
   "source": [
    "# 30903_김지우_0429_2"
   ]
  },
  {
   "cell_type": "markdown",
   "id": "aef94b1b",
   "metadata": {},
   "source": [
    "    두 정수를 입력받아 합을 출력한다.\n",
    "\n"
   ]
  },
  {
   "cell_type": "code",
   "execution_count": 2,
   "id": "e4934e6c",
   "metadata": {},
   "outputs": [
    {
     "name": "stdout",
     "output_type": "stream",
     "text": [
      "5 7\n",
      "12\n"
     ]
    }
   ],
   "source": [
    "a, b = map(int, input().split())\n",
    "print(a + b)"
   ]
  },
  {
   "cell_type": "markdown",
   "id": "b5fcac02",
   "metadata": {},
   "source": [
    "    두 정수의 덧셈의 결과를 출력한다.\n",
    "\n",
    "    두 수는 int 범위를 넘어선 64비트 정수형 값이다."
   ]
  },
  {
   "cell_type": "code",
   "execution_count": 4,
   "id": "4c6deb87",
   "metadata": {},
   "outputs": [
    {
     "name": "stdout",
     "output_type": "stream",
     "text": [
      "11111111111 22222222222\n",
      "33333333333\n"
     ]
    }
   ],
   "source": [
    "a, b = map(int, input().split())\n",
    "print(a + b)"
   ]
  },
  {
   "cell_type": "markdown",
   "id": "42ace6ac",
   "metadata": {},
   "source": [
    "    두 정수를 입력받아 아래와 같이 출력하시오.\n",
    "\n",
    "    예)  3 2\n",
    "\n",
    "    3+2=5\n",
    "    3-2=1\n",
    "    3*2=6\n",
    "    3/2=1"
   ]
  },
  {
   "cell_type": "code",
   "execution_count": 8,
   "id": "8c72e09e",
   "metadata": {},
   "outputs": [
    {
     "name": "stdout",
     "output_type": "stream",
     "text": [
      "3 2\n",
      "3+2=5\n",
      "3-2=1\n",
      "3*2=6\n",
      "3/2=1\n"
     ]
    }
   ],
   "source": [
    "a, b = map(int, input().split())\n",
    "\n",
    "print(f'{a}+{b}={a+b}')\n",
    "print(f'{a}-{b}={a-b}')\n",
    "print(f'{a}*{b}={a*b}')\n",
    "print(f'{a}/{b}={a//b}')"
   ]
  },
  {
   "cell_type": "markdown",
   "id": "1df421c6",
   "metadata": {},
   "source": [
    "    두 실수를 입력받아 두 실수의 곱을 출력하되 소수 둘째자리까지 출력하시오."
   ]
  },
  {
   "cell_type": "code",
   "execution_count": 13,
   "id": "42a9a178",
   "metadata": {},
   "outputs": [
    {
     "name": "stdout",
     "output_type": "stream",
     "text": [
      "1.23 4.56\n",
      "5.61\n"
     ]
    }
   ],
   "source": [
    "a, b = map(float, input().split())\n",
    "print(round(a * b, 2))"
   ]
  },
  {
   "cell_type": "markdown",
   "id": "d50a1c6a",
   "metadata": {},
   "source": [
    "    삼각형의 넓이를 구하는 프로그램을 작성한다.\n",
    "\n",
    "    삼각형의 넓이 = 밑변 * 높이 / 2"
   ]
  },
  {
   "cell_type": "code",
   "execution_count": 14,
   "id": "166873a5",
   "metadata": {},
   "outputs": [
    {
     "name": "stdout",
     "output_type": "stream",
     "text": [
      "5 2\n",
      "5.0\n"
     ]
    }
   ],
   "source": [
    "a, b = map(int, input().split())\n",
    "print(a * b / 2)"
   ]
  },
  {
   "cell_type": "markdown",
   "id": "19d05aca",
   "metadata": {},
   "source": [
    "    하루는 24시간이다.\n",
    "\n",
    "    일(day)이 입력으로 주어지면 시간으로 변환하시오."
   ]
  },
  {
   "cell_type": "code",
   "execution_count": 15,
   "id": "13e9ece7",
   "metadata": {},
   "outputs": [
    {
     "name": "stdout",
     "output_type": "stream",
     "text": [
      "2\n",
      "48\n"
     ]
    }
   ],
   "source": [
    "day = int(input())\n",
    "print(day * 24)"
   ]
  },
  {
   "cell_type": "markdown",
   "id": "56037e7b",
   "metadata": {},
   "source": [
    "    세 정수가 입력되면 평균을 출력하시오.\n",
    "\n"
   ]
  },
  {
   "cell_type": "code",
   "execution_count": 21,
   "id": "a28797bf",
   "metadata": {},
   "outputs": [
    {
     "name": "stdout",
     "output_type": "stream",
     "text": [
      "1 2 3\n",
      "2.00\n"
     ]
    }
   ],
   "source": [
    "a, b, c = map(float, input().split())\n",
    "avg = (a + b + c) / 3\n",
    "print('%.2f' % avg)"
   ]
  },
  {
   "cell_type": "markdown",
   "id": "861c02d1",
   "metadata": {},
   "source": [
    "    정수 계산에서 나머지를 구하시오.\n",
    "\n",
    "    예를 들어\n",
    "\n",
    "    7 / 5 의 나머지는 2입니다."
   ]
  },
  {
   "cell_type": "code",
   "execution_count": 23,
   "id": "aaee9367",
   "metadata": {},
   "outputs": [
    {
     "name": "stdout",
     "output_type": "stream",
     "text": [
      "7 5\n",
      "2\n"
     ]
    }
   ],
   "source": [
    "a, b = map(int, input().split())\n",
    "print(a % b)"
   ]
  },
  {
   "cell_type": "markdown",
   "id": "dc0a7171",
   "metadata": {},
   "source": [
    "    초를 입력받아 분 / 초의 형태로 출력하시오.\n",
    "\n",
    "    예)\n",
    "\n",
    "    60  ====>   1 0    (1분 0초를 뜻함)\n",
    "\n",
    "    70    ====>    1  10       (1분 10초를 뜻함)"
   ]
  },
  {
   "cell_type": "code",
   "execution_count": 28,
   "id": "ae05bd68",
   "metadata": {},
   "outputs": [
    {
     "name": "stdout",
     "output_type": "stream",
     "text": [
      "70\n",
      "1 10\n"
     ]
    }
   ],
   "source": [
    "s = int(input())\n",
    "m = s // 60\n",
    "s = s % 60\n",
    "\n",
    "print(m, s)"
   ]
  },
  {
   "cell_type": "markdown",
   "id": "e1a5d98d",
   "metadata": {},
   "source": [
    "    섭씨 온도가 입력되면 화씨 온도로 변환하시오.\n",
    "\n",
    "    화씨 온도 = 9 / 5 * 섭씨온도 + 32"
   ]
  },
  {
   "cell_type": "code",
   "execution_count": 33,
   "id": "01c1ceb6",
   "metadata": {},
   "outputs": [
    {
     "name": "stdout",
     "output_type": "stream",
     "text": [
      "30\n",
      "86.000\n"
     ]
    }
   ],
   "source": [
    "a = int(input())\n",
    "b = 9 / 5 * a + 32\n",
    "print('%.3f' % b)"
   ]
  },
  {
   "cell_type": "code",
   "execution_count": null,
   "id": "ede31f3c",
   "metadata": {},
   "outputs": [],
   "source": []
  }
 ],
 "metadata": {
  "kernelspec": {
   "display_name": "Python 3 (ipykernel)",
   "language": "python",
   "name": "python3"
  },
  "language_info": {
   "codemirror_mode": {
    "name": "ipython",
    "version": 3
   },
   "file_extension": ".py",
   "mimetype": "text/x-python",
   "name": "python",
   "nbconvert_exporter": "python",
   "pygments_lexer": "ipython3",
   "version": "3.9.7"
  }
 },
 "nbformat": 4,
 "nbformat_minor": 5
}
