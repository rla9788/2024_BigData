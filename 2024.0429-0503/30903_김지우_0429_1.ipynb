{
 "cells": [
  {
   "cell_type": "markdown",
   "id": "f962b1a1",
   "metadata": {},
   "source": [
    "# 30903_김지우_0429_1"
   ]
  },
  {
   "cell_type": "code",
   "execution_count": 1,
   "id": "af6ab0c1",
   "metadata": {},
   "outputs": [],
   "source": [
    "spending = [25, 36, 8, 53, 24, 56]"
   ]
  },
  {
   "cell_type": "code",
   "execution_count": 2,
   "id": "e524ee34",
   "metadata": {},
   "outputs": [
    {
     "data": {
      "text/plain": [
       "[25, 36, 8, 53, 24, 56]"
      ]
     },
     "execution_count": 2,
     "metadata": {},
     "output_type": "execute_result"
    }
   ],
   "source": [
    "spending"
   ]
  },
  {
   "cell_type": "code",
   "execution_count": 3,
   "id": "f2916554",
   "metadata": {},
   "outputs": [
    {
     "data": {
      "text/plain": [
       "list"
      ]
     },
     "execution_count": 3,
     "metadata": {},
     "output_type": "execute_result"
    }
   ],
   "source": [
    "type(spending)"
   ]
  },
  {
   "cell_type": "code",
   "execution_count": 4,
   "id": "c5dfcc4b",
   "metadata": {},
   "outputs": [
    {
     "name": "stdout",
     "output_type": "stream",
     "text": [
      "<class 'list'> [25, 36, 8, 53, 24, 56, 38, 79, 94, 20, 40, 25]\n",
      "<class 'list'> [25, 36, 8, 53, 24, 56]\n"
     ]
    }
   ],
   "source": [
    "spending_year = [25, 36, 8, 53, 24, 56, 38, 79, 94, 20, 40, 25]\n",
    "print(type(spending_year), spending_year)\n",
    "\n",
    "spending_6mon = [25, 36, 8, 53, 24, 56]\n",
    "print(type(spending_6mon), spending_6mon)"
   ]
  },
  {
   "cell_type": "code",
   "execution_count": 5,
   "id": "4be30ccc",
   "metadata": {},
   "outputs": [
    {
     "name": "stdout",
     "output_type": "stream",
     "text": [
      "좋아하는 음식 개수 : 6\n",
      "좋아하는 음식 순위 : ['피자', '치킨', '떡볶이', '스테이크', '딸기', '파스타']\n",
      "가장 좋아하는 음식 : 피자\n",
      "가장 싫어하는 음식 : 파스타\n",
      "피자\n",
      "치킨\n",
      "떡볶이\n",
      "스테이크\n",
      "딸기\n",
      "파스타\n"
     ]
    }
   ],
   "source": [
    "food = ['피자', '치킨', '떡볶이', '스테이크', '딸기', '파스타']\n",
    "print('좋아하는 음식 개수 :',len(food))\n",
    "print('좋아하는 음식 순위 :',food)\n",
    "print('가장 좋아하는 음식 :', food[0])\n",
    "print('가장 싫어하는 음식 :', food[-1])\n",
    "for i in food:\n",
    "    print(i)"
   ]
  },
  {
   "cell_type": "code",
   "execution_count": 6,
   "id": "cb71902d",
   "metadata": {},
   "outputs": [
    {
     "name": "stdout",
     "output_type": "stream",
     "text": [
      "1등 피자\n",
      "2등 치킨\n",
      "3등 떡볶이\n",
      "4등 스테이크\n",
      "5등 딸기\n",
      "6등 파스타\n",
      "7등 라면\n",
      "8등 햄버거\n"
     ]
    }
   ],
   "source": [
    "food = ['피자', '치킨', '떡볶이', '스테이크', '딸기', '파스타', '라면', '햄버거']\n",
    "for i in range(len(food)):\n",
    "    print(f'{i + 1}등 {food[i]}')"
   ]
  },
  {
   "cell_type": "code",
   "execution_count": 7,
   "id": "179492a9",
   "metadata": {},
   "outputs": [],
   "source": [
    "# food에 감자칩을 추가\n",
    "food.append('감자칩')"
   ]
  },
  {
   "cell_type": "code",
   "execution_count": 8,
   "id": "52c467ab",
   "metadata": {
    "scrolled": true
   },
   "outputs": [
    {
     "data": {
      "text/plain": [
       "['피자', '치킨', '떡볶이', '스테이크', '딸기', '파스타', '라면', '햄버거', '감자칩']"
      ]
     },
     "execution_count": 8,
     "metadata": {},
     "output_type": "execute_result"
    }
   ],
   "source": [
    "food"
   ]
  },
  {
   "cell_type": "markdown",
   "id": "d03fa400",
   "metadata": {},
   "source": [
    "    해야할 일을 차례대로 입력해주세요.\n",
    "    생일선물 사기\n",
    "    인강 듣기\n",
    "    파이썬 6장 공부하기\n",
    "    책 읽기\n",
    "    영단어 외우기"
   ]
  },
  {
   "cell_type": "code",
   "execution_count": 9,
   "id": "8c5f3ba7",
   "metadata": {},
   "outputs": [
    {
     "name": "stdout",
     "output_type": "stream",
     "text": [
      "해야할 일을 차례대로 입력해 주세요\n",
      "생일선물 사기\n",
      "인강 듣기\n",
      "파이썬 6장 공부하기\n",
      "책 읽기\n",
      "영단어 외우기\n",
      "['생일선물 사기', '인강 듣기', '파이썬 6장 공부하기', '책 읽기', '영단어 외우기']\n"
     ]
    }
   ],
   "source": [
    "to_do = []\n",
    "print('해야할 일을 차례대로 입력해 주세요')\n",
    "\n",
    "for i in range(5):\n",
    "    to_do.append(input())\n",
    "\n",
    "print(to_do)"
   ]
  },
  {
   "cell_type": "code",
   "execution_count": 11,
   "id": "84c916df",
   "metadata": {},
   "outputs": [],
   "source": [
    "# 리스트에서 지우는 명령어 remove\n",
    "to_do.remove('생일선물 사기')"
   ]
  },
  {
   "cell_type": "code",
   "execution_count": 12,
   "id": "89f2b9a5",
   "metadata": {},
   "outputs": [
    {
     "name": "stdout",
     "output_type": "stream",
     "text": [
      "['인강 듣기', '파이썬 6장 공부하기', '책 읽기', '영단어 외우기']\n"
     ]
    }
   ],
   "source": [
    "print(to_do)"
   ]
  },
  {
   "cell_type": "code",
   "execution_count": 14,
   "id": "45800c5f",
   "metadata": {},
   "outputs": [
    {
     "name": "stdout",
     "output_type": "stream",
     "text": [
      "연도 : 2024\n",
      "월 : 04\n",
      "일 : 29\n"
     ]
    }
   ],
   "source": [
    "date = '2024-04-29'\n",
    "\n",
    "print('연도 :',date[0:4])\n",
    "print('월 :',date[5:7])\n",
    "print('일 :',date[-2:])"
   ]
  },
  {
   "cell_type": "code",
   "execution_count": null,
   "id": "3b761b72",
   "metadata": {},
   "outputs": [],
   "source": []
  }
 ],
 "metadata": {
  "kernelspec": {
   "display_name": "Python 3 (ipykernel)",
   "language": "python",
   "name": "python3"
  },
  "language_info": {
   "codemirror_mode": {
    "name": "ipython",
    "version": 3
   },
   "file_extension": ".py",
   "mimetype": "text/x-python",
   "name": "python",
   "nbconvert_exporter": "python",
   "pygments_lexer": "ipython3",
   "version": "3.9.7"
  }
 },
 "nbformat": 4,
 "nbformat_minor": 5
}
