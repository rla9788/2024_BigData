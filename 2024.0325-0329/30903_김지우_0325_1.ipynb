{
 "cells": [
  {
   "cell_type": "markdown",
   "id": "9872f29c",
   "metadata": {},
   "source": [
    "# 30903_김지우_0325_1"
   ]
  },
  {
   "cell_type": "code",
   "execution_count": 14,
   "id": "54f59091",
   "metadata": {},
   "outputs": [
    {
     "name": "stdout",
     "output_type": "stream",
     "text": [
      "1부터 n까지 정수의 합을 구합니다.\n",
      "n값을 입력하세요.: 10\n",
      "1부터 10까지 정수의 합은 55입니다.\n"
     ]
    }
   ],
   "source": [
    "print(\"1부터 n까지 정수의 합을 구합니다.\")\n",
    "\n",
    "while True:\n",
    "    n = int(input(\"n값을 입력하세요.: \"))\n",
    "    if n > 0:\n",
    "        break\n",
    "    \n",
    "s = 0\n",
    "for i in range(1, n+1):\n",
    "    s+=i\n",
    "    i+=1\n",
    "print(f\"1부터 {n}까지 정수의 합은 {s}입니다.\")"
   ]
  },
  {
   "cell_type": "markdown",
   "id": "3a777d29",
   "metadata": {},
   "source": [
    "- 변의 길이와 넓이가 모두 정수인 직사각형에서 변의 길이를 구하는 프로그램\n",
    "- 짧은 변과 긴 변의 길이는 구별하지 안음\n",
    "     - 예) 직사각형의 넓이가 34이면 변의 길이를 1 x 32, 2 x 16, 4 x 8만 출력"
   ]
  },
  {
   "cell_type": "markdown",
   "id": "3301b0e2",
   "metadata": {},
   "source": [
    "> 실행 결과\n",
    "```\n",
    "직사각형의 넓이를 입력하세요.: 32\n",
    "1 x 32\n",
    "2 x 16\n",
    "4 x 8\n",
    "```"
   ]
  },
  {
   "cell_type": "code",
   "execution_count": 17,
   "id": "9180fa29",
   "metadata": {},
   "outputs": [
    {
     "name": "stdout",
     "output_type": "stream",
     "text": [
      "직사각형의 넓이를 입력하세요.: 32\n",
      "1 x 32\n",
      "2 x 16\n",
      "4 x 8\n"
     ]
    }
   ],
   "source": [
    "# 가로, 세로 길이가 정수이고 넓이가 area인 직사각형에서 변의 길이 나열하기\n",
    "\n",
    "area = int(input(\"직사각형의 넓이를 입력하세요.: \"))\n",
    "\n",
    "for i in range(1, area+1):\n",
    "    if i * i > area: break\n",
    "    if area % i: continue\n",
    "    print(f\"{i} x {area // i}\")"
   ]
  },
  {
   "cell_type": "code",
   "execution_count": null,
   "id": "2d70da59",
   "metadata": {},
   "outputs": [],
   "source": []
  }
 ],
 "metadata": {
  "kernelspec": {
   "display_name": "Python 3 (ipykernel)",
   "language": "python",
   "name": "python3"
  },
  "language_info": {
   "codemirror_mode": {
    "name": "ipython",
    "version": 3
   },
   "file_extension": ".py",
   "mimetype": "text/x-python",
   "name": "python",
   "nbconvert_exporter": "python",
   "pygments_lexer": "ipython3",
   "version": "3.9.7"
  }
 },
 "nbformat": 4,
 "nbformat_minor": 5
}
