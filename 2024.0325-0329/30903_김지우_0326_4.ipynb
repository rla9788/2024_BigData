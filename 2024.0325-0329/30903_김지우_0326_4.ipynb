{
 "cells": [
  {
   "cell_type": "markdown",
   "id": "00452b4f",
   "metadata": {},
   "source": [
    "# 30903_김지우_0326_4"
   ]
  },
  {
   "cell_type": "code",
   "execution_count": 7,
   "id": "dae0543c",
   "metadata": {},
   "outputs": [
    {
     "name": "stdout",
     "output_type": "stream",
     "text": [
      "1 2 3 4 5 6 7 9 10 11 12 "
     ]
    }
   ],
   "source": [
    "# 1~12까지 출력할 때 8을 건너뛰게 하는 프로그램\n",
    "\n",
    "for i in range(1, 13):\n",
    "    if i == 8:\n",
    "        continue\n",
    "    print(i, end=\" \")"
   ]
  },
  {
   "cell_type": "code",
   "execution_count": 8,
   "id": "d0b7506e",
   "metadata": {},
   "outputs": [
    {
     "name": "stdout",
     "output_type": "stream",
     "text": [
      "1 2 3 4 5 6 7 9 10 11 12 "
     ]
    }
   ],
   "source": [
    "for i in list(range(1, 8)) + list(range(9, 13)):\n",
    "    print(i, end = \" \")"
   ]
  },
  {
   "cell_type": "code",
   "execution_count": 16,
   "id": "c4b1ff77",
   "metadata": {},
   "outputs": [
    {
     "name": "stdout",
     "output_type": "stream",
     "text": [
      "---------------------------\n",
      "  1  2  3  4  5  6  7  8  9\n",
      "  2  4  6  8 10 12 14 16 18\n",
      "  3  6  9 12 15 18 21 24 27\n",
      "  4  8 12 16 20 24 28 32 36\n",
      "  5 10 15 20 25 30 35 40 45\n",
      "  6 12 18 24 30 36 42 48 54\n",
      "  7 14 21 28 35 42 49 56 63\n",
      "  8 16 24 32 40 48 56 64 72\n",
      "  9 18 27 36 45 54 63 72 81\n",
      "---------------------------\n"
     ]
    }
   ],
   "source": [
    "print('-' * 27)\n",
    "\n",
    "for i in range(1, 10):\n",
    "    for j in range(1, 10):\n",
    "        print(f\"{i * j:3}\", end = '')\n",
    "    print() # 행변경\n",
    "print('-' * 27)"
   ]
  },
  {
   "cell_type": "code",
   "execution_count": 31,
   "id": "bceca991",
   "metadata": {},
   "outputs": [
    {
     "name": "stdout",
     "output_type": "stream",
     "text": [
      "왼쪽 아래가 직각인 이등변 삼각형을 출력합니다.\n",
      "짧은 변의 길이를 입력하세요.: 5\n",
      "*\n",
      "**\n",
      "***\n",
      "****\n",
      "*****\n"
     ]
    }
   ],
   "source": [
    "print(\"왼쪽 아래가 직각인 이등변 삼각형을 출력합니다.\")\n",
    "a = int(input(\"짧은 변의 길이를 입력하세요.: \"))\n",
    "\n",
    "for i in range(a):\n",
    "    for j in range(i+1):\n",
    "        print(\"*\", end=\"\")\n",
    "    print()"
   ]
  },
  {
   "cell_type": "code",
   "execution_count": 46,
   "id": "6746dafb",
   "metadata": {},
   "outputs": [
    {
     "name": "stdout",
     "output_type": "stream",
     "text": [
      "왼쪽 아래가 직각인 이등변 삼각형을 출력합니다.\n",
      "짧은 변의 길이를 입력하세요.: 5\n",
      "    *\n",
      "   **\n",
      "  ***\n",
      " ****\n",
      "*****\n"
     ]
    }
   ],
   "source": [
    "print(\"왼쪽 아래가 직각인 이등변 삼각형을 출력합니다.\")\n",
    "a = int(input(\"짧은 변의 길이를 입력하세요.: \"))\n",
    "\n",
    "for i in range(a):\n",
    "    for j in range(a - i - 1):\n",
    "        print(\" \", end = '')\n",
    "    for j in range(i + 1):\n",
    "        print(\"*\", end = '')\n",
    "    print()"
   ]
  },
  {
   "cell_type": "code",
   "execution_count": null,
   "id": "0194fdf5",
   "metadata": {},
   "outputs": [],
   "source": []
  }
 ],
 "metadata": {
  "kernelspec": {
   "display_name": "Python 3 (ipykernel)",
   "language": "python",
   "name": "python3"
  },
  "language_info": {
   "codemirror_mode": {
    "name": "ipython",
    "version": 3
   },
   "file_extension": ".py",
   "mimetype": "text/x-python",
   "name": "python",
   "nbconvert_exporter": "python",
   "pygments_lexer": "ipython3",
   "version": "3.9.7"
  }
 },
 "nbformat": 4,
 "nbformat_minor": 5
}
