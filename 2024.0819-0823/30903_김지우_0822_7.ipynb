{
 "cells": [
  {
   "cell_type": "markdown",
   "id": "9f8856c1",
   "metadata": {},
   "source": [
    "# 30903_김지우_0822_7"
   ]
  },
  {
   "cell_type": "markdown",
   "id": "e304e434",
   "metadata": {},
   "source": [
    "태어난 해, 월, 일을 입력받아 사주팔자를 보는 프로그램을 작성하시오.\n",
    "\n",
    "사주를 보는 방법)\n",
    "\n",
    "세 수(년,월,일)가 주어지면,  (년 + 월 + 일)에 100의 자리 숫자가 짝수이면 \"대박\"을 출력, 그렇지 않으면 \"그럭저럭\"을 출력하세요."
   ]
  },
  {
   "cell_type": "code",
   "execution_count": 23,
   "id": "0582e862",
   "metadata": {},
   "outputs": [
    {
     "name": "stdout",
     "output_type": "stream",
     "text": [
      "1902 2 10\n",
      "그럭저럭\n"
     ]
    }
   ],
   "source": [
    "y, m, d = map(int, input().split())\n",
    "s = (y + m + d) % 1000 // 100\n",
    "if s % 2 == 0:\n",
    "    print('대박')\n",
    "else:\n",
    "    print('그럭저럭')"
   ]
  },
  {
   "cell_type": "markdown",
   "id": "af2966d6",
   "metadata": {},
   "source": [
    "어떤 차의 높이가 170cm 이다.\n",
    "\n",
    "이 차는 3개의 터널을 차례대로 지나게 될 것이다.\n",
    "\n",
    "터널의 높이가 차의 높이보다 같거나 낮다면 차는 터널과 충돌하여 사고가 날 것이다.\n",
    "\n",
    "터널의 높이가 차례대로 3개 주어지면 터널을 무사히 잘 통과하면 PASS 를 출력하고, 사고가 난다면 CRASH 를 출력하시오."
   ]
  },
  {
   "cell_type": "code",
   "execution_count": 5,
   "id": "37f70b22",
   "metadata": {},
   "outputs": [
    {
     "name": "stdout",
     "output_type": "stream",
     "text": [
      "170 168 175\n",
      "CRASH\n"
     ]
    }
   ],
   "source": [
    "a, b, c = map(int, input().split())\n",
    "\n",
    "if a <= 170 or b <= 170 or c <= 170:\n",
    "    print('CRASH')\n",
    "else:\n",
    "    print('PASS')"
   ]
  },
  {
   "cell_type": "markdown",
   "id": "cd7141c7",
   "metadata": {},
   "source": [
    "지금 1반과 2반이 축구를 하고있다.\n",
    "\n",
    "축구경기 타임은 총 90분이고,\n",
    "\n",
    "현재 1반이 0점, 2반이 2점인 상황에서, 1반은 경남정보고 최고의 스트라이커인 성익이를 투입하기로 결정했다.\n",
    "\n",
    "성익이는 5분마다 골을 넣을 수 있는 능력을 가지고 있다.\n",
    "\n",
    "만약 80분에 투입이 되면 80분에 곧바로 골을 넣게되고 85분에 골을 넣음으로서 동점이 가능하게 된다.\n",
    "\n",
    "(90분이되면 경기가 바로 종료되므로 골을 넣을 수 없다. 동내심판인 성빈이는 성익이가 잘 되는 것을 싫어하기 때문에 추가시간 따위는 주지 않는다. )\n",
    "\n",
    "현재 경기타임과 우리팀의 득점이 입력으로 주어 질때, 성익이를 투입하면 우리팀의 최종 득점은 몇 점인지 출력하시오."
   ]
  },
  {
   "cell_type": "code",
   "execution_count": 27,
   "id": "168df178",
   "metadata": {},
   "outputs": [
    {
     "name": "stdout",
     "output_type": "stream",
     "text": [
      "74 2\n",
      "6\n"
     ]
    }
   ],
   "source": [
    "a, b = map(int, input().split())\n",
    "\n",
    "c = 90 - a\n",
    "g = 0\n",
    "\n",
    "if a % 5 == 0:\n",
    "    g = c // 5\n",
    "else:\n",
    "    g = c //5 + 1\n",
    "\n",
    "print(b + g)"
   ]
  },
  {
   "cell_type": "code",
   "execution_count": null,
   "id": "f881d14e",
   "metadata": {},
   "outputs": [],
   "source": []
  }
 ],
 "metadata": {
  "kernelspec": {
   "display_name": "Python 3 (ipykernel)",
   "language": "python",
   "name": "python3"
  },
  "language_info": {
   "codemirror_mode": {
    "name": "ipython",
    "version": 3
   },
   "file_extension": ".py",
   "mimetype": "text/x-python",
   "name": "python",
   "nbconvert_exporter": "python",
   "pygments_lexer": "ipython3",
   "version": "3.9.7"
  }
 },
 "nbformat": 4,
 "nbformat_minor": 5
}
