{
 "cells": [
  {
   "cell_type": "markdown",
   "id": "979cfd1f",
   "metadata": {},
   "source": [
    "# 30903_김지우_0823_5"
   ]
  },
  {
   "cell_type": "markdown",
   "id": "4a1f2902",
   "metadata": {},
   "source": [
    "2월이 29일까지 있는 해를 윤년이라고 한다.\n",
    "\n",
    "한 자연수를 입력받아서 윤년인지 아닌지를 판단하는 프로그램을 작성하시오.\n",
    "\n",
    "단, 윤년은 다음 두 조건 중 하나만 만족하면 된다.\n",
    "\n",
    "\n",
    "(1) 400의 배수이면 무조건 윤년이다.\n",
    "(2) 4의 배수이며, 100의 배수가 아니면 윤년이다.\n",
    "\n",
    " \n",
    "\n",
    "예)\n",
    "\n",
    "2000 년 ====> 윤년 (1번 조건) \n",
    "\n",
    "2004 년 ====>  윤년(2번 조건)\n",
    "\n",
    "1900 년 ====> 윤년 아님\n",
    "\n",
    "1999 년 ====> 윤년 아님\n",
    "\n"
   ]
  },
  {
   "cell_type": "code",
   "execution_count": 22,
   "id": "f23dc8cf",
   "metadata": {},
   "outputs": [
    {
     "name": "stdout",
     "output_type": "stream",
     "text": [
      "100\n",
      "Normal\n"
     ]
    }
   ],
   "source": [
    "a = int(input())\n",
    "\n",
    "if a % 400 == 0 or a % 4 == 0 and a % 100 != 0:\n",
    "    print('Leap')\n",
    "else:\n",
    "    print('Normal')"
   ]
  },
  {
   "cell_type": "markdown",
   "id": "b60bad5e",
   "metadata": {},
   "source": [
    "세 개의 숫자가 주어질 때 작은 순서로 나열 했을 때, 두번째 수를 출력해보자.\n",
    "\n",
    "예를 들어, 5 9 2 가 있다면, 작은 순서로 나열하면 2 5 9이고 두번째 수는 5이다."
   ]
  },
  {
   "cell_type": "code",
   "execution_count": 34,
   "id": "ef6e7430",
   "metadata": {},
   "outputs": [
    {
     "name": "stdout",
     "output_type": "stream",
     "text": [
      "201 20 3\n",
      "20\n"
     ]
    }
   ],
   "source": [
    "q = list(map(int, input().split()))\n",
    "q.sort()\n",
    "print(q[1])"
   ]
  },
  {
   "cell_type": "markdown",
   "id": "42d669bd",
   "metadata": {},
   "source": [
    "주민등록번호는 생년월일과 성별정보, 지역정보로 이루어진다.\n",
    "\n",
    "여기서 생년월일과 성별정보만 입력으로 받겠다.\n",
    "\n",
    "성별 정보는 1이면 1900년대 출생 남자, 2이면 1900년대 출생 여자, 3이면 2000년대 출생 남자, 4이면 2000년대 출생 여자를 말한다.\n",
    "\n",
    "기준년도는 2012년도이다. 현재 나이를 출력하시오. \n",
    "\n",
    "예)\n",
    "\n",
    "790101 1        =====> 성별정보가 1이므로, 1979년생, 34살이다.\n",
    "\n",
    "080521 4        =====>  성별정보가 4이므로, 2008년생,  5살이다."
   ]
  },
  {
   "cell_type": "code",
   "execution_count": 50,
   "id": "5ac99b77",
   "metadata": {},
   "outputs": [
    {
     "name": "stdout",
     "output_type": "stream",
     "text": [
      "080521 4\n",
      "5\n"
     ]
    }
   ],
   "source": [
    "c, d = input().split()\n",
    "d = int(d)\n",
    "\n",
    "if d == 1 or d == 2:\n",
    "    e = int('19' + c[0:2])\n",
    "    print(2012 - e + 1)\n",
    "elif d == 3 or d == 4:\n",
    "    e = int('20' + c[0:2])\n",
    "    print(2012 - e + 1)"
   ]
  },
  {
   "cell_type": "code",
   "execution_count": null,
   "id": "c9a65c6f",
   "metadata": {},
   "outputs": [],
   "source": []
  }
 ],
 "metadata": {
  "kernelspec": {
   "display_name": "Python 3 (ipykernel)",
   "language": "python",
   "name": "python3"
  },
  "language_info": {
   "codemirror_mode": {
    "name": "ipython",
    "version": 3
   },
   "file_extension": ".py",
   "mimetype": "text/x-python",
   "name": "python",
   "nbconvert_exporter": "python",
   "pygments_lexer": "ipython3",
   "version": "3.9.7"
  }
 },
 "nbformat": 4,
 "nbformat_minor": 5
}
