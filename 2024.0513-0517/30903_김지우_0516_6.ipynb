{
 "cells": [
  {
   "cell_type": "markdown",
   "id": "3804e666",
   "metadata": {},
   "source": [
    "# 30903_김지우_0516_6"
   ]
  },
  {
   "cell_type": "markdown",
   "id": "e8cac90e",
   "metadata": {},
   "source": [
    "    두 정수(a, b)를 입력받아 a와 b가 같으면 1, 같지 않으면 0을 출력하는 프로그램을 작성하시오.\n",
    "\n",
    "    참고)\n",
    "\n",
    "    어떤 값을 비교하기 위해 관계연산자를 사용할 수 있다.\n",
    "\n",
    "    관계연산자는 주어진 2개 값을 비교하고, 그 결과가 참인 경우, 참(true)을 나타내는 정수값 1로 계산되고 거짓인 경우, 거짓(false)를 나타내는 정수값 0으로 계산된다.\n",
    "\n",
    "    관계연산자도 일반적인 사칙연산자처럼 주어진 두 수를 이용해 계산을 수행하고 그 결과를 1(참), 또는 0(거짓)으로 계산해 주는 연산자이다. 관계연산자는 다음과 같다. >, <, >=, <=, ==(같다), !=(다르다)"
   ]
  },
  {
   "cell_type": "code",
   "execution_count": 2,
   "id": "fe163ca0",
   "metadata": {},
   "outputs": [
    {
     "name": "stdout",
     "output_type": "stream",
     "text": [
      "2 3\n",
      "0\n"
     ]
    }
   ],
   "source": [
    "a, b = map(int, input().split())\n",
    "\n",
    "if a == b:\n",
    "    print(1)\n",
    "else:\n",
    "    print(0)"
   ]
  },
  {
   "cell_type": "markdown",
   "id": "6d6b9f9c",
   "metadata": {},
   "source": [
    "    두 정수(a, b)를 입력받아 a와 b가 같으면 0, 같지 않으면 1을 출력하는 프로그램을 작성하시오.\n",
    "\n",
    "    참고)\n",
    "\n",
    "    어떤 값을 비교하기 위해 비교/관계연산자(comparison/relational)를 사용할 수 있다.\n",
    "\n",
    "    관계연산자는 주어진 2개 값을 비교하고, 그 결과가 참인 경우, 참(true)을 나타내는 정수값 1로 계산되고 거짓인 경우, 거짓(false)를 나타내는 정수값 0으로 계산된다.\n",
    "\n",
    "    비교/관계연산자도 일반적인 사칙연산자처럼 주어진 두 수를 이용해 계산을 수행하고 그 결과를 1(참), 또는 0(거짓)으로 계산해 주는 연산자이다.\n",
    "\n",
    "    비교/관계연산자는 >, <, >=, <=, ==(같다), !=(다르다) 의 4가지가 있다."
   ]
  },
  {
   "cell_type": "code",
   "execution_count": 3,
   "id": "7f65a29c",
   "metadata": {},
   "outputs": [
    {
     "name": "stdout",
     "output_type": "stream",
     "text": [
      "2 3\n",
      "1\n"
     ]
    }
   ],
   "source": [
    "a, b = map(int, input().split())\n",
    "\n",
    "if a != b:\n",
    "    print(1)\n",
    "else:\n",
    "    print(0)"
   ]
  },
  {
   "cell_type": "markdown",
   "id": "15269504",
   "metadata": {},
   "source": [
    "    1(true, 참) 또는 0(false, 거짓) 이 입력되었을 때 결과를 반대로 출력하는 프로그램을 작성해보자.\n",
    "\n",
    "    참고)\n",
    "\n",
    "    C언어에서 비교/관계 연산(==, !=, >, <, >=, <=)이 수행될 때, 0은 거짓(false)을 의미하고, 0이 아닌 모든 수는 참(true)으로 인식한다.\n",
    "\n",
    "    참 또는 거짓의 논리값을 역(반대)로 바꾸기 위해서는 논리(logical) 연산자 ! 를 사용할 수 있다.\n",
    "\n",
    "    이러한 논리 연산을 NOT 연산이라고도 부른다.\n",
    "\n",
    "    참, 거짓의 논리값(boolean value, 불 값을 다루어주는 논리연산자는 !(not), &&(and), ||(or) 이 있다."
   ]
  },
  {
   "cell_type": "code",
   "execution_count": 4,
   "id": "86d7eb4f",
   "metadata": {},
   "outputs": [
    {
     "name": "stdout",
     "output_type": "stream",
     "text": [
      "0\n",
      "1\n"
     ]
    }
   ],
   "source": [
    "a = int(input())\n",
    "\n",
    "if a == 0:\n",
    "    print(1)\n",
    "else:\n",
    "    print(0)"
   ]
  },
  {
   "cell_type": "code",
   "execution_count": null,
   "id": "5e63948d",
   "metadata": {},
   "outputs": [],
   "source": []
  }
 ],
 "metadata": {
  "kernelspec": {
   "display_name": "Python 3 (ipykernel)",
   "language": "python",
   "name": "python3"
  },
  "language_info": {
   "codemirror_mode": {
    "name": "ipython",
    "version": 3
   },
   "file_extension": ".py",
   "mimetype": "text/x-python",
   "name": "python",
   "nbconvert_exporter": "python",
   "pygments_lexer": "ipython3",
   "version": "3.9.7"
  }
 },
 "nbformat": 4,
 "nbformat_minor": 5
}
