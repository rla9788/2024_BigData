{
 "cells": [
  {
   "cell_type": "markdown",
   "id": "1b0d1313",
   "metadata": {},
   "source": [
    "# 30903_김지우_0521_4 "
   ]
  },
  {
   "cell_type": "markdown",
   "id": "fed4dccd",
   "metadata": {},
   "source": [
    "## 딕셔너리 : 사전\n",
    "- 키와 값으로 구성됨\n",
    "- {}를 이용"
   ]
  },
  {
   "cell_type": "code",
   "execution_count": 1,
   "id": "ebd83b9d",
   "metadata": {},
   "outputs": [
    {
     "name": "stdout",
     "output_type": "stream",
     "text": [
      "{'break': '깨어지다', 'bring': '가져오다', 'brush': '붓', 'brave': '용감한'}\n"
     ]
    }
   ],
   "source": [
    "eng = {'break':'깨어지다', 'bring':'가져오다','brush':'붓','brave':'용감한'}\n",
    "print(eng)"
   ]
  },
  {
   "cell_type": "code",
   "execution_count": 2,
   "id": "40bb873c",
   "metadata": {},
   "outputs": [
    {
     "name": "stdout",
     "output_type": "stream",
     "text": [
      "깨어지다\n"
     ]
    }
   ],
   "source": [
    "print(eng['break'])"
   ]
  },
  {
   "cell_type": "code",
   "execution_count": 3,
   "id": "fcd19335",
   "metadata": {},
   "outputs": [
    {
     "name": "stdout",
     "output_type": "stream",
     "text": [
      "붓\n",
      "용감한\n"
     ]
    }
   ],
   "source": [
    "print(eng['brush'])\n",
    "print(eng['brave'])"
   ]
  },
  {
   "cell_type": "code",
   "execution_count": 6,
   "id": "38ef5e79",
   "metadata": {},
   "outputs": [
    {
     "name": "stdout",
     "output_type": "stream",
     "text": [
      "메뉴 : 참치김밥\n",
      "3500원 입니다.\n"
     ]
    }
   ],
   "source": [
    "menu = {'김밥':2500,'참치김밥':3500,'라면':3000,'치즈라면':4000}\n",
    "eat = input('메뉴 : ')\n",
    "print(f'{menu[eat]}원 입니다.')"
   ]
  },
  {
   "cell_type": "code",
   "execution_count": 7,
   "id": "157c1387",
   "metadata": {},
   "outputs": [],
   "source": [
    "menu['라면'] = 3500\n",
    "menu['치즈라면'] = 4500"
   ]
  },
  {
   "cell_type": "code",
   "execution_count": 8,
   "id": "1ef3a84f",
   "metadata": {},
   "outputs": [
    {
     "name": "stdout",
     "output_type": "stream",
     "text": [
      "{'김밥': 2500, '참치김밥': 3500, '라면': 3500, '치즈라면': 4500}\n"
     ]
    }
   ],
   "source": [
    "print(menu)"
   ]
  },
  {
   "cell_type": "code",
   "execution_count": 9,
   "id": "b3aa891f",
   "metadata": {},
   "outputs": [
    {
     "name": "stdout",
     "output_type": "stream",
     "text": [
      "{'김밥': 3000, '참치김밥': 3500, '라면': 3500, '치즈라면': 4500}\n"
     ]
    }
   ],
   "source": [
    "menu['김밥'] += 500\n",
    "print(menu)"
   ]
  },
  {
   "cell_type": "code",
   "execution_count": 10,
   "id": "7e0a242e",
   "metadata": {},
   "outputs": [
    {
     "name": "stdout",
     "output_type": "stream",
     "text": [
      "{'김밥': 3000, '참치김밥': 3500, '라면': 3500, '치즈라면': 4500, '돈까스': 6000}\n"
     ]
    }
   ],
   "source": [
    "# 돈까스 6000 추가\n",
    "menu['돈까스'] = 6000\n",
    "print(menu)"
   ]
  },
  {
   "cell_type": "code",
   "execution_count": 13,
   "id": "fbd2e923",
   "metadata": {},
   "outputs": [
    {
     "name": "stdout",
     "output_type": "stream",
     "text": [
      "메뉴 추가 : 돈까스\n",
      "가격 추가 : 6000\n",
      "{'김밥': 2500, '참치김밥': 3500, '라면': 3000, '치즈라면': 4000, '돈까스': 6000}\n"
     ]
    }
   ],
   "source": [
    "menu = {'김밥':2500,'참치김밥':3500,'라면':3000,'치즈라면':4000}\n",
    "# 메뉴 및 가격을 input을 이용하여 추가하는 프로그램 만들기\n",
    "\n",
    "name = input('메뉴 추가 : ')\n",
    "price = int(input('가격 추가 : '))\n",
    "\n",
    "menu[name] = price\n",
    "print(menu)"
   ]
  },
  {
   "cell_type": "code",
   "execution_count": 14,
   "id": "39c920f8",
   "metadata": {},
   "outputs": [
    {
     "name": "stdout",
     "output_type": "stream",
     "text": [
      "삭제할 메뉴 : 돈까스\n",
      "{'김밥': 2500, '참치김밥': 3500, '라면': 3000, '치즈라면': 4000}\n"
     ]
    }
   ],
   "source": [
    "# 키 값을 삭제하기 delete\n",
    "\n",
    "d = input('삭제할 메뉴 : ')\n",
    "\n",
    "del menu[d]\n",
    "print(menu)"
   ]
  },
  {
   "cell_type": "code",
   "execution_count": 15,
   "id": "85bd7cb1",
   "metadata": {},
   "outputs": [
    {
     "name": "stdout",
     "output_type": "stream",
     "text": [
      "dict_keys(['김밥', '참치김밥', '라면', '치즈라면'])\n"
     ]
    }
   ],
   "source": [
    "print(menu.keys())"
   ]
  },
  {
   "cell_type": "code",
   "execution_count": 16,
   "id": "eb860997",
   "metadata": {},
   "outputs": [
    {
     "name": "stdout",
     "output_type": "stream",
     "text": [
      "dict_values([2500, 3500, 3000, 4000])\n"
     ]
    }
   ],
   "source": [
    "# 딕셔너리의 값만 꺼내기\n",
    "print(menu.values())"
   ]
  },
  {
   "cell_type": "code",
   "execution_count": 17,
   "id": "57245ed9",
   "metadata": {},
   "outputs": [
    {
     "name": "stdout",
     "output_type": "stream",
     "text": [
      "['김밥', '참치김밥', '라면', '치즈라면']\n"
     ]
    }
   ],
   "source": [
    "print(list(menu.keys()))"
   ]
  },
  {
   "cell_type": "code",
   "execution_count": 18,
   "id": "b0bf2462",
   "metadata": {},
   "outputs": [
    {
     "name": "stdout",
     "output_type": "stream",
     "text": [
      "dict_items([('김밥', 2500), ('참치김밥', 3500), ('라면', 3000), ('치즈라면', 4000)])\n"
     ]
    }
   ],
   "source": [
    "print(menu.items())"
   ]
  },
  {
   "cell_type": "code",
   "execution_count": 23,
   "id": "ae2ad6e3",
   "metadata": {},
   "outputs": [
    {
     "name": "stdout",
     "output_type": "stream",
     "text": [
      "['김밥', '라면', '참치김밥', '치즈라면']\n",
      "['치즈라면', '참치김밥', '라면', '김밥']\n",
      "[('김밥', 2500), ('라면', 3000), ('참치김밥', 3500), ('치즈라면', 4000)]\n"
     ]
    }
   ],
   "source": [
    "# 키를 기준으로 딕셔너리 정렬하기 : sorted()\n",
    "# 역순 정렬 : reverse = True\n",
    "# 키, 값을 쌍으로 묶어서 딕셔너리 정렬하기 : sorted().items()\n",
    "\n",
    "print(sorted(menu.keys()))\n",
    "print(sorted(menu.keys(), reverse = True))\n",
    "print(sorted(menu.items()))"
   ]
  },
  {
   "cell_type": "code",
   "execution_count": 28,
   "id": "96922baa",
   "metadata": {},
   "outputs": [
    {
     "name": "stdout",
     "output_type": "stream",
     "text": [
      "[('김밥', 2500), ('라면', 3000), ('참치김밥', 3500), ('치즈라면', 4000)]\n",
      "[('치즈라면', 4000), ('참치김밥', 3500), ('라면', 3000), ('김밥', 2500)]\n",
      "[('치즈라면', 4000), ('참치김밥', 3500)]\n"
     ]
    }
   ],
   "source": [
    "import operator\n",
    "\n",
    "print(sorted(menu.items(), key = operator.itemgetter(1)))\n",
    "print(sorted(menu.items(), key = operator.itemgetter(1), reverse = True))\n",
    "print(sorted(menu.items(), key = operator.itemgetter(1), reverse = True)[:2])"
   ]
  },
  {
   "cell_type": "markdown",
   "id": "5cef40e0",
   "metadata": {},
   "source": [
    "# 조건문으로 딕셔너리 다루기 "
   ]
  },
  {
   "cell_type": "code",
   "execution_count": 29,
   "id": "0281159c",
   "metadata": {},
   "outputs": [
    {
     "name": "stdout",
     "output_type": "stream",
     "text": [
      "{'도윤': 43, '하윤': 82, '시우': 76, '지유': 61, '주원': 94}\n",
      "학생 : 도윤\n",
      "43 입니다\n"
     ]
    }
   ],
   "source": [
    "midterm = {'도윤':43,'하윤':82,'시우':76,'지유':61,'주원':94}\n",
    "print(midterm)\n",
    "student = input('학생 : ')\n",
    "\n",
    "# if 어떤 학생인지 찾기\n",
    "if student in midterm.keys():\n",
    "    print(midterm[student],'입니다')\n",
    "else:\n",
    "    print('해당 학생은 없습니다. ')"
   ]
  },
  {
   "cell_type": "code",
   "execution_count": 32,
   "id": "6ec5a6be",
   "metadata": {},
   "outputs": [
    {
     "name": "stdout",
     "output_type": "stream",
     "text": [
      "하윤 82\n",
      "시우 76\n",
      "주원 94\n"
     ]
    }
   ],
   "source": [
    "midterm = {'도윤':43,'하윤':82,'시우':76,'지유':61,'주원':94}\n",
    "\n",
    "for i, j in midterm.items():\n",
    "    if j >= 70:\n",
    "        print(i, j)"
   ]
  },
  {
   "cell_type": "code",
   "execution_count": null,
   "id": "caa2af9e",
   "metadata": {},
   "outputs": [],
   "source": []
  }
 ],
 "metadata": {
  "kernelspec": {
   "display_name": "Python 3 (ipykernel)",
   "language": "python",
   "name": "python3"
  },
  "language_info": {
   "codemirror_mode": {
    "name": "ipython",
    "version": 3
   },
   "file_extension": ".py",
   "mimetype": "text/x-python",
   "name": "python",
   "nbconvert_exporter": "python",
   "pygments_lexer": "ipython3",
   "version": "3.9.7"
  }
 },
 "nbformat": 4,
 "nbformat_minor": 5
}
