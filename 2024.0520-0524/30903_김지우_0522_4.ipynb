{
 "cells": [
  {
   "cell_type": "markdown",
   "id": "1d4a3106",
   "metadata": {},
   "source": [
    "# 30903김지우_0522_4"
   ]
  },
  {
   "cell_type": "markdown",
   "id": "e3108f5d",
   "metadata": {},
   "source": [
    "    두 정수가 입력된다.  두 정수의 크기를 비교하여 왼쪽 수가 크면 > 를 출력, 오른쪽 수가 크면 < 를 출력, 같으면 = 을 출력하시오."
   ]
  },
  {
   "cell_type": "code",
   "execution_count": 3,
   "id": "45e1b524",
   "metadata": {},
   "outputs": [
    {
     "name": "stdout",
     "output_type": "stream",
     "text": [
      "2 6\n",
      "<\n"
     ]
    }
   ],
   "source": [
    "a, b = map(int,input().split())\n",
    "\n",
    "if a > b:\n",
    "    print('>')\n",
    "elif b > a:\n",
    "    print('<')\n",
    "else:\n",
    "    print('=')"
   ]
  },
  {
   "cell_type": "markdown",
   "id": "6119d615",
   "metadata": {},
   "source": [
    "    정수 두개가 입력으로 들어오면 큰수 - 작은수의 값을 출력하시오."
   ]
  },
  {
   "cell_type": "code",
   "execution_count": 5,
   "id": "8bd0bc11",
   "metadata": {},
   "outputs": [
    {
     "name": "stdout",
     "output_type": "stream",
     "text": [
      "5 7\n",
      "2\n"
     ]
    }
   ],
   "source": [
    "a, b = map(int,input().split())\n",
    "\n",
    "if a > b:\n",
    "    print(a - b)\n",
    "else:\n",
    "    print(b - a)"
   ]
  },
  {
   "cell_type": "markdown",
   "id": "7651d4e0",
   "metadata": {},
   "source": [
    "    인학이는 숫자 7을 좋아한다.\n",
    "\n",
    "    어떤 정수가 입력되면 그 수가 7의 배수인지 확인하시오."
   ]
  },
  {
   "cell_type": "code",
   "execution_count": 8,
   "id": "4c40e353",
   "metadata": {},
   "outputs": [
    {
     "name": "stdout",
     "output_type": "stream",
     "text": [
      "9\n",
      "not multiple\n"
     ]
    }
   ],
   "source": [
    "a = int(input())\n",
    "\n",
    "if a % 7 == 0:\n",
    "    print('multiple')\n",
    "else:\n",
    "    print('not multiple')"
   ]
  },
  {
   "cell_type": "markdown",
   "id": "417c79d0",
   "metadata": {},
   "source": [
    "    용준이와 봉찬이는 공기 놀이로 내기를 하였다.\n",
    "\n",
    "    만약 홀수개의 돌을 쥐게 되면 용준이가 이기게 되고, 짝수개의 돌을 쥐게 되면 봉찬이가 이기는 것으로 룰을 정하였다.\n",
    "\n",
    "\n",
    "\n",
    "    어떤 자연수가 입력되면  홀수이면 \"odd\"을 출력하고, 짝수이면 \"even\"을 출력하시오."
   ]
  },
  {
   "cell_type": "code",
   "execution_count": 9,
   "id": "50e3242c",
   "metadata": {},
   "outputs": [
    {
     "name": "stdout",
     "output_type": "stream",
     "text": [
      "5\n",
      "odd\n"
     ]
    }
   ],
   "source": [
    "a = int(input())\n",
    "\n",
    "if a %2 == 0:\n",
    "    print('even')\n",
    "else:\n",
    "    print('odd')"
   ]
  },
  {
   "cell_type": "markdown",
   "id": "9f6ef026",
   "metadata": {},
   "source": [
    "    슬기는 체육 선생님과 공던지기로 아이스크림 내기를 하게 됐다.\n",
    "\n",
    "    공을 던져서 50m ~ 60m 사이에 공이 들어가면 슬기가 이기게 되고, 그 외에 공이 떨어지면 체육선생님이 이기게 룰을 정했다.\n",
    "\n",
    "    슬기가 던진 공의 위치가 입력으로 주어지면 50이상 60이하이면 \"win\"을 출력하고, 그 외에는 \"lose\"를 출력하시오."
   ]
  },
  {
   "cell_type": "code",
   "execution_count": 10,
   "id": "21d70060",
   "metadata": {},
   "outputs": [
    {
     "name": "stdout",
     "output_type": "stream",
     "text": [
      "50.213\n",
      "win\n"
     ]
    }
   ],
   "source": [
    "a = float(input())\n",
    "\n",
    "if a >= 50 and a <= 60:\n",
    "    print('win')\n",
    "else:\n",
    "    print('lose')"
   ]
  },
  {
   "cell_type": "markdown",
   "id": "682eb0e3",
   "metadata": {},
   "source": [
    "    슬기는 지난 번 공던지기에서 져서 아이스크림을 사게되었다.\n",
    "\n",
    "    얼마 뒤 열받은 슬기는 체육 선생님에게 다시 한번 공던지기를 하여 아이스크림 내기를 하자고 제안하였다.\n",
    "\n",
    "    그런데 이번에는 불리한 슬기가 다음 룰을 제안하였다.\n",
    "\n",
    "    1. 공이 30m~40m나 60m~70m 에 들어오면 슬기가 이김.\n",
    "\n",
    "    2. 그 외의 구간에 떨어지면 체육선생님이 이김.\n",
    "\n",
    "    슬기가 던진 공의 위치가 입력으로 주어지면 슬기가 이기는 구간에는 \"win\"을 출력하고, 그 외에는 \"lose\"를 출력하시오."
   ]
  },
  {
   "cell_type": "code",
   "execution_count": 11,
   "id": "28f74452",
   "metadata": {},
   "outputs": [
    {
     "name": "stdout",
     "output_type": "stream",
     "text": [
      "50\n",
      "lose\n"
     ]
    }
   ],
   "source": [
    "n = int(input())\n",
    "\n",
    "if n >= 30 and n <= 40 or n >= 60 and n <= 70:\n",
    "    print('win')\n",
    "else:\n",
    "    print('lose')"
   ]
  },
  {
   "cell_type": "markdown",
   "id": "27793ef9",
   "metadata": {},
   "source": [
    "    슬기는 지난 번에도 공던지기에 져서 아이스크림을 사게되었다.\n",
    "\n",
    "    슬기는 이미 돈이 다 떨어져서 현량이에게 돈을 빌린 상태이다.\n",
    "\n",
    "    이번에는 슬기가 또 다른 조건을 내걸고 체육 선생님에게 도전하게 되었다. \n",
    "\n",
    "    1. 공의 위치가 50m~70m이면 슬기가 이김.\n",
    "\n",
    "    또는\n",
    "\n",
    "    2. 공의 위치가 6의 배수이면 슬기가 이김. \n",
    "\n",
    "    슬기가 던진 공의 위치가 입력으로 주어지면 슬기가 이기는 구간에는 \"win\"을 출력하고, 그 외에는 \"lose\"를 출력하시오."
   ]
  },
  {
   "cell_type": "code",
   "execution_count": 12,
   "id": "b47ed026",
   "metadata": {},
   "outputs": [
    {
     "name": "stdout",
     "output_type": "stream",
     "text": [
      "30\n",
      "win\n"
     ]
    }
   ],
   "source": [
    "a = int(input())\n",
    "\n",
    "if a >= 50 and a <= 70 or a % 6 == 0:\n",
    "    print('win')\n",
    "else:\n",
    "    print('lose')"
   ]
  },
  {
   "cell_type": "code",
   "execution_count": null,
   "id": "effd43d4",
   "metadata": {},
   "outputs": [],
   "source": []
  }
 ],
 "metadata": {
  "kernelspec": {
   "display_name": "Python 3 (ipykernel)",
   "language": "python",
   "name": "python3"
  },
  "language_info": {
   "codemirror_mode": {
    "name": "ipython",
    "version": 3
   },
   "file_extension": ".py",
   "mimetype": "text/x-python",
   "name": "python",
   "nbconvert_exporter": "python",
   "pygments_lexer": "ipython3",
   "version": "3.9.7"
  }
 },
 "nbformat": 4,
 "nbformat_minor": 5
}
