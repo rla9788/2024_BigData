{
 "cells": [
  {
   "cell_type": "markdown",
   "id": "faeca793",
   "metadata": {},
   "source": [
    "# 30903_김지우_0520_2 "
   ]
  },
  {
   "cell_type": "markdown",
   "id": "e96dabb8",
   "metadata": {},
   "source": [
    "    두 가지의 참(1) 또는 거짓(0)이 입력될 때, 모두 참일 때는 1이, 그렇지 않으면 0이 출력되는 프로그램을 작성해보자.\n",
    "\n",
    "    참고)\n",
    "\n",
    "    논리연산자 && 는 주어진 2개의 논리값이 모두 참(1) 일 때에 1(참)으로 계산하고,이외의 경우에는 0(거짓) 으로 계산한다.\n",
    "\n",
    "    이러한 논리 연산을 AND 연산이라고도 부르고, &&로 표시한다."
   ]
  },
  {
   "cell_type": "code",
   "execution_count": 3,
   "id": "d1600c34",
   "metadata": {},
   "outputs": [
    {
     "name": "stdout",
     "output_type": "stream",
     "text": [
      "1 0\n",
      "0\n"
     ]
    }
   ],
   "source": [
    "a, b = map(int, input().split())\n",
    "\n",
    "if a and b:\n",
    "    print(1)\n",
    "else:\n",
    "    print(0)"
   ]
  },
  {
   "cell_type": "markdown",
   "id": "e40ce60b",
   "metadata": {},
   "source": [
    "    두 가지의 참(1) 또는 거짓(0)이 입력될 때, 둘 중 하나라도 참일 경우 1이, 그렇지 않으면 0이 출력되는 프로그램을 작성해보자.\n",
    "\n",
    "    참고)\n",
    "\n",
    "    논리연산자 || 는 주어진 2개의 논리값이 하나라도 참(1) 일 때에 1(참)으로 계산하고, 이외의 경우에는 0(거짓) 으로 계산한다.\n",
    "\n",
    "    이러한 논리 연산을 OR 연산이라고도 부르고, ||로 표시한다."
   ]
  },
  {
   "cell_type": "code",
   "execution_count": 4,
   "id": "1bd7ab83",
   "metadata": {},
   "outputs": [
    {
     "name": "stdout",
     "output_type": "stream",
     "text": [
      "0 1\n",
      "1\n"
     ]
    }
   ],
   "source": [
    "a, b = map(int, input().split())\n",
    "\n",
    "if a or b:\n",
    "    print(1)\n",
    "else:\n",
    "    print(0)"
   ]
  },
  {
   "cell_type": "markdown",
   "id": "50c4de69",
   "metadata": {},
   "source": [
    "    두 수를 입력받아 비트단위로 AND연산한 후 결과를 출력하시오.\n",
    "\n",
    "    참고)\n",
    "\n",
    "    비트연산자 & 는 주어진 2개의 값을 2진법으로 변환한 뒤, 비트별로 AND 연산을 수행한 뒤 결과를 출력한다.\n",
    "\n",
    "    이러한 비트 연산을 AND 연산이라고도 부르고, &로 표시한다.\n",
    "\n",
    "    7 : 0000 0111\n",
    "\n",
    "    4 : 0000 0100\n",
    "\n",
    "    7&4 : 0000 0100  --> 10진수 : 4"
   ]
  },
  {
   "cell_type": "code",
   "execution_count": 5,
   "id": "6927182b",
   "metadata": {},
   "outputs": [
    {
     "name": "stdout",
     "output_type": "stream",
     "text": [
      "3 5\n",
      "1\n"
     ]
    }
   ],
   "source": [
    "a, b = map(int, input().split())\n",
    "\n",
    "print(a & b)"
   ]
  },
  {
   "cell_type": "markdown",
   "id": "430dde43",
   "metadata": {},
   "source": [
    "    두 수를 입력받아 비트단위로 OR연산한 후 결과를 출력하시오.\n",
    "\n",
    "    참고)\n",
    "\n",
    "    비트연산자 | 은 주어진 2개의 값을 2진법으로 변환한 뒤, 비트별로 OR 연산을 수행한 뒤 결과를 출력한다.\n",
    "\n",
    "    이러한 비트 연산을 OR 연산이라고도 부르고, |로 표시한다.\n",
    "\n",
    "    예)\n",
    "\n",
    "    7 : 0000 0111\n",
    "\n",
    "    4 : 0000 0100\n",
    "\n",
    "    7|4 : 0000 0111"
   ]
  },
  {
   "cell_type": "code",
   "execution_count": 6,
   "id": "e750b4e1",
   "metadata": {},
   "outputs": [
    {
     "name": "stdout",
     "output_type": "stream",
     "text": [
      "3 5\n",
      "7\n"
     ]
    }
   ],
   "source": [
    "a, b = map(int, input().split())\n",
    "\n",
    "print(a | b)"
   ]
  },
  {
   "cell_type": "markdown",
   "id": "64586b50",
   "metadata": {},
   "source": [
    "    정수 a, x를 입력받아 a의 값을 x만큼 SHIFT(<<) 연산한 후 결과를 출력하시오.\n",
    "\n",
    "    참고)\n",
    "\n",
    "    비트 이동연산자 << 은 주어진 a를 구성하고 있는 비트를 왼쪽으로 x번 이동한 후 결과를 보여준다.\n",
    "\n",
    "    이러한 비트 연산을 SHIFT 연산이라고도 부르고, <<로 표시한다.\n",
    "\n",
    "    예)\n",
    "\n",
    "    4<<1 : 0000 0100 ---> 0000 1000 (10진수:8)\n",
    "\n",
    "    4<<2 : 0000 0100 ---> 0001 0000 (10진수:16)"
   ]
  },
  {
   "cell_type": "code",
   "execution_count": 7,
   "id": "d7f7f6fc",
   "metadata": {},
   "outputs": [
    {
     "name": "stdout",
     "output_type": "stream",
     "text": [
      "3 3\n",
      "24\n"
     ]
    }
   ],
   "source": [
    "a, x = map(int, input().split())\n",
    "print(a << x)"
   ]
  },
  {
   "cell_type": "markdown",
   "id": "fa8ae0b7",
   "metadata": {},
   "source": [
    "    정수 a, x를 입력받아 a의 값을 x만큼 SHIFT(>>) 연산한 후 결과를 출력하시오.\n",
    "\n",
    "    참고)\n",
    "\n",
    "    비트연산자 >> 은 주어진 a값을 오른쪽으로 x번 이동한 후 결과를 출력한다.\n",
    "\n",
    "    이러한 비트 연산을 SHIFT 연산이라고도 부르고, >>로 표시한다.\n",
    "\n",
    "    예)\n",
    "\n",
    "    4>>1 : 0000 0100 ---> 0000 0010 (10진수:2)\n",
    "\n",
    "    7>>2 : 0000 0111 ---> 0000 0001 (10진수:1)"
   ]
  },
  {
   "cell_type": "code",
   "execution_count": 8,
   "id": "0bad173f",
   "metadata": {},
   "outputs": [
    {
     "name": "stdout",
     "output_type": "stream",
     "text": [
      "4 1\n",
      "2\n"
     ]
    }
   ],
   "source": [
    "a, x = map(int, input().split())\n",
    "print(a >> x)"
   ]
  },
  {
   "cell_type": "markdown",
   "id": "792d0fb4",
   "metadata": {},
   "source": [
    "    두 정수 중 큰 정수를 출력한다.\n",
    "\n"
   ]
  },
  {
   "cell_type": "code",
   "execution_count": 12,
   "id": "b7a42e83",
   "metadata": {},
   "outputs": [
    {
     "name": "stdout",
     "output_type": "stream",
     "text": [
      "2 7\n",
      "7\n"
     ]
    }
   ],
   "source": [
    "a, b = map(int, input().split())\n",
    "if a > b:\n",
    "    print(a)\n",
    "else:\n",
    "    print(b)"
   ]
  },
  {
   "cell_type": "markdown",
   "id": "b7647044",
   "metadata": {},
   "source": [
    "    세 정수가 주어지면 그 중 가장 작은 수를 출력한다.\n",
    "\n"
   ]
  },
  {
   "cell_type": "code",
   "execution_count": 15,
   "id": "c8f76289",
   "metadata": {},
   "outputs": [
    {
     "name": "stdout",
     "output_type": "stream",
     "text": [
      "3 5 2\n",
      "2\n"
     ]
    }
   ],
   "source": [
    "a, b, c = map(int, input().split())\n",
    "if a < b:\n",
    "    if a < c:\n",
    "        print(a)\n",
    "    else:\n",
    "        print(c)\n",
    "else:\n",
    "    if b < c:\n",
    "        print(b)\n",
    "    else:\n",
    "        print(c)"
   ]
  },
  {
   "cell_type": "markdown",
   "id": "836254c1",
   "metadata": {},
   "source": [
    "    10보다 작은 수가 입력되면 small 을 출력, 10이상이면 아무것도 출력하지 마시오.\n",
    "\n"
   ]
  },
  {
   "cell_type": "code",
   "execution_count": 19,
   "id": "ae24daed",
   "metadata": {},
   "outputs": [
    {
     "name": "stdout",
     "output_type": "stream",
     "text": [
      "5\n",
      "small\n"
     ]
    }
   ],
   "source": [
    "a = int(input())\n",
    "if a < 10:\n",
    "    print('small')"
   ]
  },
  {
   "cell_type": "markdown",
   "id": "9e635341",
   "metadata": {},
   "source": [
    "    10보다 작은 정수가 입력되면 small 을 출력, 그 이상의 수가 입력되면 big 을 출력하시오.\n",
    "\n"
   ]
  },
  {
   "cell_type": "code",
   "execution_count": 23,
   "id": "0b4f0c07",
   "metadata": {},
   "outputs": [
    {
     "name": "stdout",
     "output_type": "stream",
     "text": [
      "10\n",
      "big\n"
     ]
    }
   ],
   "source": [
    "a = int(input())\n",
    "if a < 10:\n",
    "    print('small')\n",
    "else:\n",
    "    print('big')"
   ]
  },
  {
   "cell_type": "code",
   "execution_count": null,
   "id": "ee30e0f5",
   "metadata": {},
   "outputs": [],
   "source": []
  }
 ],
 "metadata": {
  "kernelspec": {
   "display_name": "Python 3 (ipykernel)",
   "language": "python",
   "name": "python3"
  },
  "language_info": {
   "codemirror_mode": {
    "name": "ipython",
    "version": 3
   },
   "file_extension": ".py",
   "mimetype": "text/x-python",
   "name": "python",
   "nbconvert_exporter": "python",
   "pygments_lexer": "ipython3",
   "version": "3.9.7"
  }
 },
 "nbformat": 4,
 "nbformat_minor": 5
}
