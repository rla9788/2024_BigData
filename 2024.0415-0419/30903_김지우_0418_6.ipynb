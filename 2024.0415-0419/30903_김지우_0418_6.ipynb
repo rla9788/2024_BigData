{
 "cells": [
  {
   "cell_type": "markdown",
   "id": "353e48fb",
   "metadata": {},
   "source": [
    "# 30903_김지우_0418_6"
   ]
  },
  {
   "cell_type": "code",
   "execution_count": 2,
   "id": "8bb14a07",
   "metadata": {
    "scrolled": true
   },
   "outputs": [
    {
     "name": "stdout",
     "output_type": "stream",
     "text": [
      "월 별로 수입액을 입력시켜 주세요!\n",
      "1 월의 수입액을 입력시켜 주세요\n",
      "10\n",
      "2 월의 수입액을 입력시켜 주세요\n",
      "11\n",
      "3 월의 수입액을 입력시켜 주세요\n",
      "12\n",
      "4 월의 수입액을 입력시켜 주세요\n",
      "13\n",
      "5 월의 수입액을 입력시켜 주세요\n",
      "14\n",
      "6 월의 수입액을 입력시켜 주세요\n",
      "15\n",
      "상반기 월별 수입액 입니다.\n",
      "상반기 월 수입액의 평균은 75만원 입니다.\n",
      "상반기 월 수입액의 평균은 12.5만원 입니다.\n"
     ]
    }
   ],
   "source": [
    "money = []  # 월별 수입을 저장할 리스트를 조기화한다.\n",
    "print('월 별로 수입액을 입력시켜 주세요!')\n",
    "for j in range(0, 6):\n",
    "    print((j + 1), '월의 수입액을 입력시켜 주세요')\n",
    "    money.append(int(input('')))  # 사용자로부터 수입을 입력 받아 리스트에 추가한다.\n",
    "    \n",
    "sum = 0  # 총 수입을 저장할 변수를 초기화한다.\n",
    "i = 0\n",
    "print('상반기 월별 수입액 입니다.')\n",
    "while i < 6:\n",
    "    sum = money[i] + sum  # 리스트의 각 항목을 더해 총 수입을 계산한다.\n",
    "    i += 1\n",
    "    \n",
    "avg = sum / 6  # 평균을 계산한다.\n",
    "print(f'상반기 월 수입액의 합은 {sum}만원 입니다.')\n",
    "print(f'상반기 월 수입액의 평균은 {avg}만원 입니다.')"
   ]
  },
  {
   "cell_type": "markdown",
   "id": "aeffc714",
   "metadata": {},
   "source": [
    "## 예상문제4 : 무작위로 입력된 점수 리스트에서 70점 이상인 번호와 값 출력하기"
   ]
  },
  {
   "cell_type": "code",
   "execution_count": 6,
   "id": "5d6128a6",
   "metadata": {},
   "outputs": [
    {
     "name": "stdout",
     "output_type": "stream",
     "text": [
      "리스트에서 점수가 70점 이상인 번호와 값 출력하기\n",
      "6 번 95\n",
      "12 번 75\n",
      "17 번 80\n",
      "19 번 86\n",
      "23 번 90\n"
     ]
    }
   ],
   "source": [
    "import random  # random 라이브러리 불러오기\n",
    "\n",
    "score = []  # 리스트 초기화\n",
    "for i in range(0, 25):  # 0번부터 24번까지 반복, 무작위 점수 부여\n",
    "    score.append(random.randint(0, 100))\n",
    "print('리스트에서 점수가 70점 이상인 번호와 값 출력하기')\n",
    "\n",
    "# 리스트에서 70점 이상인 점수를 가진 학생들의 번호와 점수를 출력\n",
    "for s in score:\n",
    "    if s >= 70: \n",
    "        print(score.index(s) + 1, '번', s)"
   ]
  },
  {
   "cell_type": "markdown",
   "id": "6175f503",
   "metadata": {},
   "source": [
    "## 예상문제5 : 지하철 게임 만들기"
   ]
  },
  {
   "cell_type": "code",
   "execution_count": 13,
   "id": "8f7f78a7",
   "metadata": {},
   "outputs": [
    {
     "name": "stdout",
     "output_type": "stream",
     "text": [
      "지하철~♬ 지하철~♬ 지하철~♬ 지하철~♬ \n",
      "몇호선? 신분당선\n",
      "광교\n",
      "ㅇ\n",
      "해당 역은 신분당선이 아닙니다\n",
      "벌칙 당첨\n"
     ]
    }
   ],
   "source": [
    "신분당선 = ['광교', '광교중앙', '상헌', '성북', '수지구청', '동천', '미금', '정자',\n",
    "       '판교', '청계산입구', '양재시민의숲', '양재', '강남']\n",
    "팔호선 = ['모란', '수진', '신흥', '단대오거리', '남한산성입구', '산성', '남위례', '복정',\n",
    "        '장지', '문정', '가락시장', '송파', '석촌' , '잠실', '몽촌토성', '강동구청', '천호', '암사']\n",
    "\n",
    "print('지하철~♬ ' * 4)\n",
    "\n",
    "# 사용자로부터 호선을 입력받는다\n",
    "호선 = input('몇호선? ')\n",
    "\n",
    "# 입력된 호선에 따라 해당 호선의 역이름을 입력받고, 입력된 역이 해당 호선에 속하는지 확인한다.\n",
    "for i in range(10):\n",
    "    if 호선 == '신분당선':\n",
    "        입력 = input()\n",
    "        if 입력 not in 신분당선:\n",
    "            print(f'해당 역은 {호선}이 아닙니다')\n",
    "            print('벌칙 당첨')\n",
    "            break\n",
    "    elif 호선 == '팔호선':\n",
    "        입력 = input()\n",
    "        if 입력 not in 팔호선:\n",
    "            print(f'해당 역은 {호선}이 아닙니다')\n",
    "            print('벌칙 당첨')\n",
    "            break"
   ]
  },
  {
   "cell_type": "code",
   "execution_count": null,
   "id": "d2dd1b6a",
   "metadata": {},
   "outputs": [],
   "source": []
  }
 ],
 "metadata": {
  "kernelspec": {
   "display_name": "Python 3 (ipykernel)",
   "language": "python",
   "name": "python3"
  },
  "language_info": {
   "codemirror_mode": {
    "name": "ipython",
    "version": 3
   },
   "file_extension": ".py",
   "mimetype": "text/x-python",
   "name": "python",
   "nbconvert_exporter": "python",
   "pygments_lexer": "ipython3",
   "version": "3.9.7"
  }
 },
 "nbformat": 4,
 "nbformat_minor": 5
}
