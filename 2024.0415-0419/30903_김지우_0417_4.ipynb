{
 "cells": [
  {
   "cell_type": "markdown",
   "id": "12c7088a",
   "metadata": {},
   "source": [
    "# 30903_김지우_0417_4"
   ]
  },
  {
   "cell_type": "code",
   "execution_count": 1,
   "id": "1191c38e",
   "metadata": {},
   "outputs": [
    {
     "name": "stdout",
     "output_type": "stream",
     "text": [
      "1부터 1000까지 숫자 중에서 2의 배수이거나 3의 배수면 더하는 프로그램\n",
      "334167\n"
     ]
    }
   ],
   "source": [
    "# 출력한다\n",
    "print('1부터 1000까지 숫자 중에서 2의 배수이거나 3의 배수면 더하는 프로그램')\n",
    "\n",
    "res = 0    # 변수를 만들고 초기화 한다\n",
    "num = 1    # 시작 숫자를 1로 설정\n",
    "\n",
    "# 1부터 1000까지의 숫자를 반복하면서 조건을 검사\n",
    "while num <= 1000:\n",
    "    # 2의 배수이거나 3의 배수\n",
    "    if num % 2 == 0 or num % 3 == 0:\n",
    "        res += num    # 결과 변수에 현재 숫자를 더함\n",
    "    num += 1    # 다음 숫자로 넘어간다\n",
    "    \n",
    "print(res)    # 결과를 출력한다"
   ]
  },
  {
   "cell_type": "code",
   "execution_count": 3,
   "id": "be1cb0e7",
   "metadata": {},
   "outputs": [
    {
     "name": "stdout",
     "output_type": "stream",
     "text": [
      "구구단을 외자 \n",
      "6 x 3 = ? \n",
      " 18\n",
      "정답\n",
      "9 x 2 = ? \n",
      " 18\n",
      "정답\n",
      "8 x 1 = ? \n",
      " 1\n",
      "틀렸어요\n",
      "8 x 3 = ? \n",
      " 1\n",
      "틀렸어요\n",
      "2 x 5 = ? \n",
      " 1\n",
      "틀렸어요\n",
      "2 x 5 = ? \n",
      " 10\n",
      "정답\n",
      "3 x 6 = ? \n",
      " 18\n",
      "정답\n",
      "7 x 5 = ? \n",
      " 35\n",
      "정답\n",
      "8 x 1 = ? \n",
      " 8\n",
      "정답\n",
      "5 x 7 = ? \n",
      " 35\n",
      "정답\n",
      "맞춘 횟수 ; 7, 틀린 횟수 : 3\n"
     ]
    }
   ],
   "source": [
    "import random\n",
    "\n",
    "# 메시지 출력\n",
    "print('구구단을 외자 ')\n",
    "\n",
    "# 맞춘 횟수와 틀린 횟수를 저장할 변수를 초기화 한다,\n",
    "t_cnt = 0\n",
    "f_cnt = 0\n",
    "\n",
    "# 10번 반복하여 구구단 문제를 출력한다.\n",
    "for i in range(10):\n",
    "    # 2에서 9까지의 임의의 숫자를 선택하여 구구단의 단을 결정한다.\n",
    "    a = random.randint(2, 9)\n",
    "    # 1에서 9까지의 임의의 숫자를 선택하여 구구단의 곱을 결정한다.\n",
    "    b = random.randint(1, 9)\n",
    "    # 문제 출력\n",
    "    print('{} x {} = ? '.format(a, b))\n",
    "    # 사용자로부터 답을 입력받는다.\n",
    "    answer = int(input(' '))\n",
    "    # 사용자의 답과 정답을 비교하여 결과를 출력한다.\n",
    "    if a * b == answer:\n",
    "        print('정답')\n",
    "        # 맞은 횟수를 증가시킨다.\n",
    "        t_cnt += 1\n",
    "    else:\n",
    "        print('틀렸어요')\n",
    "        # 틀린 횟수를 증가시킨다.\n",
    "        f_cnt += 1\n",
    "# 최종적으로 맞은 횟수와 틀린 횟수를 출력한다.\n",
    "print('맞춘 횟수 ; {}, 틀린 횟수 : {}'.format(t_cnt, f_cnt))"
   ]
  },
  {
   "cell_type": "code",
   "execution_count": null,
   "id": "c212bf96",
   "metadata": {},
   "outputs": [],
   "source": []
  }
 ],
 "metadata": {
  "kernelspec": {
   "display_name": "Python 3 (ipykernel)",
   "language": "python",
   "name": "python3"
  },
  "language_info": {
   "codemirror_mode": {
    "name": "ipython",
    "version": 3
   },
   "file_extension": ".py",
   "mimetype": "text/x-python",
   "name": "python",
   "nbconvert_exporter": "python",
   "pygments_lexer": "ipython3",
   "version": "3.9.7"
  }
 },
 "nbformat": 4,
 "nbformat_minor": 5
}
