{
 "cells": [
  {
   "cell_type": "markdown",
   "id": "b42b3932",
   "metadata": {},
   "source": [
    "# 30903_김지우_0418_7"
   ]
  },
  {
   "cell_type": "code",
   "execution_count": 2,
   "id": "c074f006",
   "metadata": {},
   "outputs": [
    {
     "name": "stdout",
     "output_type": "stream",
     "text": [
      "월 별로 수입액을 입력시켜 주세요!\n",
      "1 월의 수입액을 입력시켜 주세요\n",
      "10\n",
      "2 월의 수입액을 입력시켜 주세요\n",
      "11\n",
      "3 월의 수입액을 입력시켜 주세요\n",
      "12\n",
      "4 월의 수입액을 입력시켜 주세요\n",
      "13\n",
      "5 월의 수입액을 입력시켜 주세요\n",
      "14\n",
      "6 월의 수입액을 입력시켜 주세요\n",
      "15\n",
      "상반기 월 수입액의 평균은 75만원 입니다.\n",
      "상반기 월 수입액의 평균은 12.5만원 입니다.\n"
     ]
    }
   ],
   "source": [
    "money = []\n",
    "print('월 별로 수입액을 입력시켜 주세요!')\n",
    "for j in range(0, 6):\n",
    "    print((j + 1), '월의 수입액을 입력시켜 주세요')\n",
    "    money.append(int(input('')))\n",
    "    \n",
    "sum = 0\n",
    "i = 0\n",
    "while i < 6:\n",
    "    sum = money[i] + sum\n",
    "    i += 1\n",
    "\n",
    "avg = sum / 6\n",
    "print(f'상반기 월 수입액의 합은 {sum}만원 입니다.')\n",
    "print(f'상반기 월 수입액의 평균은 {avg}만원 입니다.')"
   ]
  },
  {
   "cell_type": "code",
   "execution_count": 3,
   "id": "c11ed01b",
   "metadata": {},
   "outputs": [
    {
     "name": "stdout",
     "output_type": "stream",
     "text": [
      "월 별로 수입액을 입력시켜 주세요!\n",
      "1 월의 수입액을 입력시켜 주세요\n",
      "10\n",
      "2 월의 수입액을 입력시켜 주세요\n",
      "11\n",
      "3 월의 수입액을 입력시켜 주세요\n",
      "12\n",
      "4 월의 수입액을 입력시켜 주세요\n",
      "13\n",
      "5 월의 수입액을 입력시켜 주세요\n",
      "14\n",
      "6 월의 수입액을 입력시켜 주세요\n",
      "15\n",
      "상반기 월별 수입액 입니다.\n",
      "상반기 월 수입액의 합은 75만원 입니다.\n",
      "상반기 월 수입액의 평균은 12.5만원 입니다.\n"
     ]
    }
   ],
   "source": [
    "money = []\n",
    "print('월 별로 수입액을 입력시켜 주세요!')\n",
    "for j in range(0, 6):\n",
    "    print((j + 1), '월의 수입액을 입력시켜 주세요')\n",
    "    money.append(int(input('')))\n",
    "    \n",
    "sum = 0\n",
    "i = 0\n",
    "print('상반기 월별 수입액 입니다.')\n",
    "while i < 6:\n",
    "    sum = money[i] + sum\n",
    "    i += 1\n",
    "\n",
    "avg = sum / 6\n",
    "print(f'상반기 월 수입액의 합은 {sum}만원 입니다.')\n",
    "print(f'상반기 월 수입액의 평균은 {avg}만원 입니다.')"
   ]
  },
  {
   "cell_type": "code",
   "execution_count": 4,
   "id": "41f24c7a",
   "metadata": {},
   "outputs": [
    {
     "name": "stdout",
     "output_type": "stream",
     "text": [
      "리스트에서 점수가 70점 이상인 번호와 값 출력하기\n",
      "1 번 73\n",
      "2 번 90\n",
      "3 번 96\n",
      "2 번 90\n",
      "15 번 98\n",
      "19 번 89\n"
     ]
    }
   ],
   "source": [
    "import random\n",
    "\n",
    "score = []\n",
    "for i in range(0, 25):\n",
    "    score.append(random.randint(0, 100))\n",
    "print('리스트에서 점수가 70점 이상인 번호와 값 출력하기')\n",
    "\n",
    "for s in score:\n",
    "    if s >= 70:\n",
    "        print(score.index(s) + 1, '번', s)"
   ]
  },
  {
   "cell_type": "code",
   "execution_count": 5,
   "id": "f41e3222",
   "metadata": {},
   "outputs": [
    {
     "name": "stdout",
     "output_type": "stream",
     "text": [
      "리스트에서 점수가 70점 이상인 번호와 값 출력하기\n",
      "6 번 95\n",
      "11 번 82\n",
      "12 번 79\n",
      "15 번 98\n",
      "23 번 97\n"
     ]
    }
   ],
   "source": [
    "import random\n",
    "\n",
    "score = []\n",
    "for i in range(0, 25):\n",
    "    score.append(random.randint(0, 100))\n",
    "print('리스트에서 점수가 70점 이상인 번호와 값 출력하기')\n",
    "\n",
    "for s in score:\n",
    "    if s >= 70:\n",
    "        print(score.index(s) + 1, '번', s)"
   ]
  },
  {
   "cell_type": "code",
   "execution_count": 7,
   "id": "fa7b684b",
   "metadata": {},
   "outputs": [
    {
     "name": "stdout",
     "output_type": "stream",
     "text": [
      "지하철~♬ 지하철~♬ 지하철~♬ 지하철~♬ \n",
      "몇호선? 신분당선\n",
      "성북\n",
      "모란\n",
      "해당 역은 신분당선이 아닙니다.\n",
      "벌칙 당첨\n"
     ]
    }
   ],
   "source": [
    "신분당선 = ['광교', '광교중앙', '상헌', '성북', '수지구청', '동천', '미금', '정자',\n",
    "       '판교', '청계산입구', '양재시민의숲', '양재', '강남']\n",
    "팔호선 = ['모란', '수진', '신흥', '단대오거리', '남한산성입구', '산성', '남위례', '복정',\n",
    "        '장지', '문정', '가락시장', '송파', '석촌' , '잠실', '몽촌토성', '강동구청', '천호', '암사']\n",
    "\n",
    "print('지하철~♬ ' * 4)\n",
    "\n",
    "호선 = input('몇호선? ')\n",
    "\n",
    "for i in range(10):\n",
    "    if 호선 == '신분당선':\n",
    "        입력 = input()\n",
    "        if 입력 not in 신분당선:\n",
    "            print(f'해당 역은 {호선}이 아닙니다.')\n",
    "            print('벌칙 당첨')\n",
    "            break\n",
    "    elif 호선 == '팔호선':\n",
    "        입력 = input()\n",
    "        if 입력 not in 팔호선:\n",
    "            print(f'해당 역은 {호선}이 아닙니다.')\n",
    "            print('벌칙 당첨')\n",
    "            break"
   ]
  },
  {
   "cell_type": "code",
   "execution_count": 8,
   "id": "74c8de33",
   "metadata": {},
   "outputs": [
    {
     "name": "stdout",
     "output_type": "stream",
     "text": [
      "지하철~♬ 지하철~♬ 지하철~♬ 지하철~♬ \n",
      "몇호선? 팔호선\n",
      "모란\n",
      "ㄹ\n",
      "해당 역은 팔호선이 아닙니다.\n",
      "벌칙 당첨\n"
     ]
    }
   ],
   "source": [
    "신분당선 = ['광교', '광교중앙', '상헌', '성북', '수지구청', '동천', '미금', '정자',\n",
    "       '판교', '청계산입구', '양재시민의숲', '양재', '강남']\n",
    "팔호선 = ['모란', '수진', '신흥', '단대오거리', '남한산성입구', '산성', '남위례', '복정',\n",
    "        '장지', '문정', '가락시장', '송파', '석촌' , '잠실', '몽촌토성', '강동구청', '천호', '암사']\n",
    "\n",
    "print('지하철~♬ ' * 4)\n",
    "\n",
    "호선 = input('몇호선? ')\n",
    "\n",
    "for i in range(10):\n",
    "    if 호선 == '신분당선':\n",
    "        입력 = input()\n",
    "        if 입력 not in 신분당선:\n",
    "            print(f'해당 역은 {호선}이 아닙니다.')\n",
    "            print('벌칙 당첨')\n",
    "            break\n",
    "    elif 호선 == '팔호선':\n",
    "        입력 = input()\n",
    "        if 입력 not in 팔호선:\n",
    "            print(f'해당 역은 {호선}이 아닙니다.')\n",
    "            print('벌칙 당첨')\n",
    "            break"
   ]
  },
  {
   "cell_type": "code",
   "execution_count": null,
   "id": "9d17152d",
   "metadata": {},
   "outputs": [],
   "source": []
  }
 ],
 "metadata": {
  "kernelspec": {
   "display_name": "Python 3 (ipykernel)",
   "language": "python",
   "name": "python3"
  },
  "language_info": {
   "codemirror_mode": {
    "name": "ipython",
    "version": 3
   },
   "file_extension": ".py",
   "mimetype": "text/x-python",
   "name": "python",
   "nbconvert_exporter": "python",
   "pygments_lexer": "ipython3",
   "version": "3.9.7"
  }
 },
 "nbformat": 4,
 "nbformat_minor": 5
}
