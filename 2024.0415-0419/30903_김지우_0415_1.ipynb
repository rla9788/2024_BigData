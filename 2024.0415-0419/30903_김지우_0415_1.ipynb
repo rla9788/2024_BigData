{
 "cells": [
  {
   "cell_type": "markdown",
   "id": "16ac6f4d",
   "metadata": {},
   "source": [
    "# 30903_김지우_0415_1"
   ]
  },
  {
   "cell_type": "code",
   "execution_count": 7,
   "id": "bd0a6753",
   "metadata": {},
   "outputs": [
    {
     "name": "stdout",
     "output_type": "stream",
     "text": [
      "6275\n"
     ]
    }
   ],
   "source": [
    "# 반복문을 이용하여 101부터 150까지 합을 구하는 프로그램 작성\n",
    "\n",
    "result = 0\n",
    "for i in range(101, 151):\n",
    "    result += i\n",
    "print(result)"
   ]
  },
  {
   "cell_type": "code",
   "execution_count": 19,
   "id": "9dbb5f4f",
   "metadata": {},
   "outputs": [
    {
     "name": "stdout",
     "output_type": "stream",
     "text": [
      "362880\n"
     ]
    }
   ],
   "source": [
    "# 1부터 9까지 곱하는 프로그램 작성\n",
    "\n",
    "result = 1\n",
    "for i in range(1, 10):\n",
    "    result *= i\n",
    "print(result)"
   ]
  },
  {
   "cell_type": "code",
   "execution_count": 27,
   "id": "3aa156da",
   "metadata": {},
   "outputs": [
    {
     "name": "stdout",
     "output_type": "stream",
     "text": [
      "단 : 4\n",
      "4 X 1 = 4\n",
      "4 X 2 = 8\n",
      "4 X 3 = 12\n",
      "4 X 4 = 16\n",
      "4 X 5 = 20\n",
      "4 X 6 = 24\n",
      "4 X 7 = 28\n",
      "4 X 8 = 32\n",
      "4 X 9 = 36\n"
     ]
    }
   ],
   "source": [
    "# 구구단 출력\n",
    "\n",
    "num = int(input('단 : '))\n",
    "\n",
    "for i in range(1, 10):\n",
    "    print(f'{num} X {i} = {num * i}')"
   ]
  },
  {
   "cell_type": "code",
   "execution_count": 29,
   "id": "837d4566",
   "metadata": {},
   "outputs": [
    {
     "name": "stdout",
     "output_type": "stream",
     "text": [
      "0.9502482261534041\n"
     ]
    }
   ],
   "source": [
    "# random : 임의의 숫자\n",
    "\n",
    "# 라이브러리 불러오기\n",
    "import random\n",
    "\n",
    "print(random.random())"
   ]
  },
  {
   "cell_type": "code",
   "execution_count": 32,
   "id": "64cffc45",
   "metadata": {},
   "outputs": [
    {
     "name": "stdout",
     "output_type": "stream",
     "text": [
      "1\n"
     ]
    }
   ],
   "source": [
    "import random\n",
    "\n",
    "# 랜덤 범위 지정\n",
    "print(random.randrange(1, 10, 2))"
   ]
  },
  {
   "cell_type": "code",
   "execution_count": 34,
   "id": "cbe3944c",
   "metadata": {},
   "outputs": [
    {
     "name": "stdout",
     "output_type": "stream",
     "text": [
      "7\n"
     ]
    }
   ],
   "source": [
    "import random\n",
    "\n",
    "# 정수를 랜덤\n",
    "print(random.randint(1, 10))"
   ]
  },
  {
   "cell_type": "code",
   "execution_count": 35,
   "id": "1ba6b396",
   "metadata": {},
   "outputs": [
    {
     "name": "stdout",
     "output_type": "stream",
     "text": [
      "5\n",
      "10\n",
      "5\n",
      "10\n",
      "7\n",
      "5\n",
      "4\n",
      "8\n",
      "9\n",
      "7\n"
     ]
    }
   ],
   "source": [
    "import random\n",
    "\n",
    "for i in range(10):\n",
    "    print(random.randint(0, 10))"
   ]
  },
  {
   "cell_type": "code",
   "execution_count": 38,
   "id": "21caa019",
   "metadata": {},
   "outputs": [
    {
     "name": "stdout",
     "output_type": "stream",
     "text": [
      "구구단\n",
      "8 X 9 = 72\n",
      "8 X 7 = 56\n",
      "9 X 4 = 36\n",
      "7 X 6 = 42\n",
      "4 X 2 = 8\n",
      "3 X 9 = 27\n",
      "2 X 6 = 12\n",
      "4 X 6 = 24\n",
      "7 X 7 = 49\n",
      "7 X 1 = 7\n"
     ]
    }
   ],
   "source": [
    "# 구구단 외기 게임\n",
    "import random\n",
    "\n",
    "print('구구단')\n",
    "\n",
    "for i in range(10):\n",
    "    a = random.randint(2, 9)\n",
    "    b = random.randint(1, 9)\n",
    "    print(f'{a} X {b} = {a*b}')"
   ]
  },
  {
   "cell_type": "code",
   "execution_count": 41,
   "id": "090e5958",
   "metadata": {},
   "outputs": [
    {
     "name": "stdout",
     "output_type": "stream",
     "text": [
      "구구단\n",
      "6 X 1? 31223\n",
      "3 X 5? 32123123\n",
      "9 X 3? 2312123123\n",
      "6 X 2? 23123\n",
      "3 X 6? 3\n",
      "4 X 8? 3\n",
      "3 X 4? 3\n",
      "4 X 4? 3\n",
      "4 X 5? 3\n",
      "6 X 7? 3\n"
     ]
    }
   ],
   "source": [
    "# 구구단 외기 게임 2 - 정답을 입력받아 보기\n",
    "import random\n",
    "\n",
    "print('구구단')\n",
    "\n",
    "for i in range(10):\n",
    "    a = random.randint(2, 9)\n",
    "    b = random.randint(1, 9)\n",
    "    question = str(a) + ' X ' + str(b) + '? '\n",
    "    input(question)"
   ]
  },
  {
   "cell_type": "code",
   "execution_count": 48,
   "id": "34b71066",
   "metadata": {
    "scrolled": false
   },
   "outputs": [
    {
     "name": "stdout",
     "output_type": "stream",
     "text": [
      "구구단\n",
      "\n",
      "9 X 4?36\n",
      "맞다\n",
      "6 X 7?42\n",
      "맞다\n",
      "2 X 6?12\n",
      "맞다\n",
      "7 X 3?21\n",
      "맞다\n",
      "8 X 3?2\n",
      "틀리다\n",
      "8 X 6?2\n",
      "틀리다\n",
      "2 X 2?2\n",
      "틀리다\n",
      "7 X 5?2\n",
      "틀리다\n",
      "9 X 9?2\n",
      "틀리다\n",
      "2 X 3?2\n",
      "틀리다\n"
     ]
    }
   ],
   "source": [
    "# 구구단 외기 게임 3 - 정답입력이 맞다 틀리다를 구분\n",
    "import random\n",
    "\n",
    "print('구구단')\n",
    "print()\n",
    "\n",
    "for i in range(10):\n",
    "    a = random.randint(2, 9)\n",
    "    b = random.randint(1, 9)\n",
    "    question = input(f'{a} X {b}?')\n",
    "    answer = int(question)    \n",
    "    if answer == a * b:\n",
    "        print('맞다')\n",
    "    else:\n",
    "        print('틀리다')"
   ]
  },
  {
   "cell_type": "code",
   "execution_count": null,
   "id": "82f2fe0e",
   "metadata": {},
   "outputs": [],
   "source": []
  }
 ],
 "metadata": {
  "kernelspec": {
   "display_name": "Python 3 (ipykernel)",
   "language": "python",
   "name": "python3"
  },
  "language_info": {
   "codemirror_mode": {
    "name": "ipython",
    "version": 3
   },
   "file_extension": ".py",
   "mimetype": "text/x-python",
   "name": "python",
   "nbconvert_exporter": "python",
   "pygments_lexer": "ipython3",
   "version": "3.9.7"
  }
 },
 "nbformat": 4,
 "nbformat_minor": 5
}
