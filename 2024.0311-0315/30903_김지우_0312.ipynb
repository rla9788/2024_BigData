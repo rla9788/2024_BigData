{
 "cells": [
  {
   "cell_type": "markdown",
   "id": "e7446973",
   "metadata": {},
   "source": [
    "## 30903_김지우_0312"
   ]
  },
  {
   "cell_type": "markdown",
   "id": "1ae0feba",
   "metadata": {},
   "source": [
    "## 2.3 데이터를 넣는 입력 명령어\n",
    "#### 2.3.2 입력 명령어 input()"
   ]
  },
  {
   "cell_type": "code",
   "execution_count": 1,
   "id": "4b7ff74d",
   "metadata": {},
   "outputs": [
    {
     "name": "stdout",
     "output_type": "stream",
     "text": [
      "성일정보\n"
     ]
    },
    {
     "data": {
      "text/plain": [
       "'성일정보'"
      ]
     },
     "execution_count": 1,
     "metadata": {},
     "output_type": "execute_result"
    }
   ],
   "source": [
    "input()"
   ]
  },
  {
   "cell_type": "code",
   "execution_count": 2,
   "id": "865908fe",
   "metadata": {},
   "outputs": [
    {
     "name": "stdout",
     "output_type": "stream",
     "text": [
      "3\n"
     ]
    },
    {
     "data": {
      "text/plain": [
       "'3'"
      ]
     },
     "execution_count": 2,
     "metadata": {},
     "output_type": "execute_result"
    }
   ],
   "source": [
    "input()"
   ]
  },
  {
   "cell_type": "markdown",
   "id": "bceb7bd1",
   "metadata": {},
   "source": [
    ">출력\n",
    "```\n",
    "아이디 :\n",
    "비밀번호 : \n",
    "```"
   ]
  },
  {
   "cell_type": "code",
   "execution_count": 3,
   "id": "92fd5dbc",
   "metadata": {},
   "outputs": [
    {
     "name": "stdout",
     "output_type": "stream",
     "text": [
      "아이디 : ㅇㅇ\n",
      "비밀번호 : ㅇ\n"
     ]
    },
    {
     "data": {
      "text/plain": [
       "'ㅇ'"
      ]
     },
     "execution_count": 3,
     "metadata": {},
     "output_type": "execute_result"
    }
   ],
   "source": [
    "input(\"아이디 : \")\n",
    "input(\"비밀번호 : \")"
   ]
  },
  {
   "cell_type": "markdown",
   "id": "3a076b7a",
   "metadata": {},
   "source": [
    ">출력\n",
    "```\n",
    "학번을 입력하세요 ---> 30900\n",
    "```"
   ]
  },
  {
   "cell_type": "code",
   "execution_count": 4,
   "id": "301d2dd1",
   "metadata": {},
   "outputs": [
    {
     "name": "stdout",
     "output_type": "stream",
     "text": [
      "학번을 입력하세요 ---> 30903\n"
     ]
    },
    {
     "data": {
      "text/plain": [
       "'30903'"
      ]
     },
     "execution_count": 4,
     "metadata": {},
     "output_type": "execute_result"
    }
   ],
   "source": [
    "input(\"학번을 입력하세요 ---> \")"
   ]
  },
  {
   "cell_type": "markdown",
   "id": "d5d797b1",
   "metadata": {},
   "source": [
    ">출력\n",
    "```\n",
    "---회원가입---\n",
    "아이디: gilbut\n",
    "가입을 환영합니다!\n",
    "```"
   ]
  },
  {
   "cell_type": "code",
   "execution_count": 6,
   "id": "6baebbbb",
   "metadata": {},
   "outputs": [
    {
     "name": "stdout",
     "output_type": "stream",
     "text": [
      "---회원가입---\n",
      "아이디 : gilbut\n",
      "가입을 환영합니다!\n"
     ]
    }
   ],
   "source": [
    "print(\"---회원가입---\")\n",
    "input(\"아이디 : \")\n",
    "print(\"가입을 환영합니다!\")"
   ]
  },
  {
   "cell_type": "markdown",
   "id": "9f7b3553",
   "metadata": {},
   "source": [
    ">출력\n",
    "```\n",
    "닉네임을 입력해 주세요 --> ㅇㅇㅇ\n",
    "ㅇㅇㅇ님 안녕하세요\n",
    "```"
   ]
  },
  {
   "cell_type": "code",
   "execution_count": 9,
   "id": "50aa0d84",
   "metadata": {},
   "outputs": [
    {
     "name": "stdout",
     "output_type": "stream",
     "text": [
      "닉네임을 입력해 주세요 --> dd\n",
      "dd님 안녕하세요\n"
     ]
    }
   ],
   "source": [
    "print(input(\"닉네임을 입력해 주세요 --> \") + \"님 안녕하세요\")"
   ]
  },
  {
   "cell_type": "code",
   "execution_count": null,
   "id": "da82930e",
   "metadata": {},
   "outputs": [],
   "source": []
  }
 ],
 "metadata": {
  "kernelspec": {
   "display_name": "Python 3 (ipykernel)",
   "language": "python",
   "name": "python3"
  },
  "language_info": {
   "codemirror_mode": {
    "name": "ipython",
    "version": 3
   },
   "file_extension": ".py",
   "mimetype": "text/x-python",
   "name": "python",
   "nbconvert_exporter": "python",
   "pygments_lexer": "ipython3",
   "version": "3.9.7"
  }
 },
 "nbformat": 4,
 "nbformat_minor": 5
}
