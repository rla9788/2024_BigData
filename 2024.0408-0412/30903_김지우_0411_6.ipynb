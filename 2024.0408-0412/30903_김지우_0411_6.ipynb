{
 "cells": [
  {
   "cell_type": "markdown",
   "id": "085256cb",
   "metadata": {},
   "source": [
    "# 30903_김지우_0411_6"
   ]
  },
  {
   "cell_type": "code",
   "execution_count": 12,
   "id": "1a982d44",
   "metadata": {},
   "outputs": [
    {
     "name": "stdout",
     "output_type": "stream",
     "text": [
      "점수 : 79\n",
      "B등급\n"
     ]
    }
   ],
   "source": [
    "# 등급을 구분하는 프로그램\n",
    "# 80점 이상이면 A 40점 이상이면 B 나머지 C 등급을 출력\n",
    "# 0 ~ 100 사이 이외의 숫자는 \"잘못된 숫자를 입력했습니다.\"\n",
    "\n",
    "a = int(input('점수 : '))\n",
    "\n",
    "if a < 0 or a > 100:\n",
    "    print('잘못된 숫자를 입력했습니다.')\n",
    "# 80점 이상 A등급 출력\n",
    "elif a >= 80:\n",
    "    print('A등급')\n",
    "# 40점 이상 A등급 출력\n",
    "elif a >= 40:\n",
    "    print('B등급')\n",
    "# 나머지 A등급 출력\n",
    "else:\n",
    "    print('C등급')"
   ]
  },
  {
   "cell_type": "code",
   "execution_count": 13,
   "id": "b7e126fc",
   "metadata": {},
   "outputs": [
    {
     "name": "stdout",
     "output_type": "stream",
     "text": [
      "점수 : 79\n",
      "B등급\n"
     ]
    }
   ],
   "source": [
    "s = int(input('점수 : '))\n",
    "\n",
    "if s < 0 or s > 100:\n",
    "    print('잘못된 숫자를 입력했습니다.')\n",
    "else:\n",
    "    if s >= 80:\n",
    "        print('A등급')\n",
    "    elif s >= 40:\n",
    "        print('B등급')\n",
    "    else:\n",
    "        print('C등급')"
   ]
  },
  {
   "cell_type": "code",
   "execution_count": 14,
   "id": "bccab9f1",
   "metadata": {},
   "outputs": [
    {
     "name": "stdout",
     "output_type": "stream",
     "text": [
      "안녕하세요\n",
      "안녕하세요\n",
      "안녕하세요\n",
      "안녕하세요\n",
      "안녕하세요\n"
     ]
    }
   ],
   "source": [
    "for i in [1,2,3,4,5]:\n",
    "    print('안녕하세요')"
   ]
  },
  {
   "cell_type": "code",
   "execution_count": 15,
   "id": "4554b59b",
   "metadata": {},
   "outputs": [
    {
     "name": "stdout",
     "output_type": "stream",
     "text": [
      "1 을(를) 저장 중입니다.\n",
      "2 을(를) 저장 중입니다.\n",
      "3 을(를) 저장 중입니다.\n",
      "4 을(를) 저장 중입니다.\n",
      "5 을(를) 저장 중입니다.\n"
     ]
    }
   ],
   "source": [
    "for i in [1,2,3,4,5]:\n",
    "    print(i, '을(를) 저장 중입니다.')"
   ]
  },
  {
   "cell_type": "code",
   "execution_count": 16,
   "id": "8c4cb728",
   "metadata": {},
   "outputs": [
    {
     "name": "stdout",
     "output_type": "stream",
     "text": [
      "9 안녕하세요\n",
      "8 안녕하세요\n",
      "7 안녕하세요\n",
      "6 안녕하세요\n",
      "5 안녕하세요\n",
      "4 안녕하세요\n",
      "3 안녕하세요\n",
      "2 안녕하세요\n",
      "1 안녕하세요\n"
     ]
    }
   ],
   "source": [
    "for i in [9,8,7,6,5,4,3,2,1]:\n",
    "    print(i, '안녕하세요')"
   ]
  },
  {
   "cell_type": "code",
   "execution_count": 26,
   "id": "b0d02df6",
   "metadata": {},
   "outputs": [
    {
     "name": "stdout",
     "output_type": "stream",
     "text": [
      "1 ㄹㄹㄹㄹㄹ\n",
      "2 ㄹㄹㄹㄹㄹ\n",
      "3 ㄹㄹㄹㄹㄹ\n",
      "4 ㄹㄹㄹㄹㄹ\n",
      "5 ㄹㄹㄹㄹㄹ\n",
      "6 ㄹㄹㄹㄹㄹ\n",
      "7 ㄹㄹㄹㄹㄹ\n",
      "8 ㄹㄹㄹㄹㄹ\n",
      "9 ㄹㄹㄹㄹㄹ\n",
      "10 ㄹㄹㄹㄹㄹ\n"
     ]
    }
   ],
   "source": [
    "for i in range(1, 11):\n",
    "    print(i,'ㄹㄹㄹㄹㄹ')"
   ]
  },
  {
   "cell_type": "code",
   "execution_count": 25,
   "id": "f2628298",
   "metadata": {},
   "outputs": [
    {
     "name": "stdout",
     "output_type": "stream",
     "text": [
      "1\n",
      "3\n",
      "5\n",
      "7\n",
      "9\n"
     ]
    }
   ],
   "source": [
    "for i in range(1, 11, 2):\n",
    "    print(i)"
   ]
  },
  {
   "cell_type": "code",
   "execution_count": 29,
   "id": "5a0b780f",
   "metadata": {},
   "outputs": [
    {
     "name": "stdout",
     "output_type": "stream",
     "text": [
      "5050\n"
     ]
    }
   ],
   "source": [
    "result = 0\n",
    "\n",
    "for i in range(1, 101):\n",
    "    result += i\n",
    "    \n",
    "print(result)"
   ]
  },
  {
   "cell_type": "code",
   "execution_count": null,
   "id": "adfeb953",
   "metadata": {},
   "outputs": [],
   "source": []
  }
 ],
 "metadata": {
  "kernelspec": {
   "display_name": "Python 3 (ipykernel)",
   "language": "python",
   "name": "python3"
  },
  "language_info": {
   "codemirror_mode": {
    "name": "ipython",
    "version": 3
   },
   "file_extension": ".py",
   "mimetype": "text/x-python",
   "name": "python",
   "nbconvert_exporter": "python",
   "pygments_lexer": "ipython3",
   "version": "3.9.7"
  }
 },
 "nbformat": 4,
 "nbformat_minor": 5
}
