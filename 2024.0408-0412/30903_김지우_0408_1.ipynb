{
 "cells": [
  {
   "cell_type": "markdown",
   "id": "302afd87",
   "metadata": {},
   "source": [
    "# 30903_김지우_0408_1"
   ]
  },
  {
   "cell_type": "markdown",
   "id": "f6f8c1f6",
   "metadata": {},
   "source": [
    "## 선택구조 조건이 하나 일때\n",
    "- if문"
   ]
  },
  {
   "cell_type": "code",
   "execution_count": 2,
   "id": "044eac32",
   "metadata": {},
   "outputs": [
    {
     "name": "stdout",
     "output_type": "stream",
     "text": [
      "청소년은 주류를 구매할 수 없습니다.\n"
     ]
    }
   ],
   "source": [
    "age = 19\n",
    "\n",
    "# 청소년은 주류를 구매할 수 없습니다. 출력\n",
    "\n",
    "if age <= 19:\n",
    "    print(\"청소년은 주류를 구매할 수 없습니다.\")"
   ]
  },
  {
   "cell_type": "code",
   "execution_count": 5,
   "id": "0dab7680",
   "metadata": {},
   "outputs": [
    {
     "name": "stdout",
     "output_type": "stream",
     "text": [
      "나이가 어떻게 되세요? 20\n",
      "성인은 주류를 구매할 수 있습니다.\n"
     ]
    }
   ],
   "source": [
    "age = int(input('나이가 어떻게 되세요? '))\n",
    "\n",
    "if age <=19:\n",
    "    print('청소년은 주류를 구매할 수 없습니다.')\n",
    "else:\n",
    "    print('성인은 주류를 구매할 수 있습니다.')"
   ]
  },
  {
   "cell_type": "code",
   "execution_count": 8,
   "id": "be87ba9c",
   "metadata": {},
   "outputs": [
    {
     "name": "stdout",
     "output_type": "stream",
     "text": [
      "나이가 어떻게 되세요? 19\n",
      "청소년은 주류를 구매할 수 없습니다.\n",
      "1년 후에 구매 가능합니다.\n"
     ]
    }
   ],
   "source": [
    "age = int(input('나이가 어떻게 되세요? '))\n",
    "\n",
    "if age <=19:\n",
    "    print(f'청소년은 주류를 구매할 수 없습니다.')\n",
    "print(f'{20-age}년 후에 구매 가능합니다.')"
   ]
  },
  {
   "cell_type": "markdown",
   "id": "f5cead6c",
   "metadata": {},
   "source": [
    "# 50000원 이하면 배송비 2500원이 추가 됩니다."
   ]
  },
  {
   "cell_type": "code",
   "execution_count": 9,
   "id": "86c3a97b",
   "metadata": {},
   "outputs": [
    {
     "name": "stdout",
     "output_type": "stream",
     "text": [
      "구매 금액은? 49999\n",
      "배송비 2500원이 추가 됩니다.\n"
     ]
    }
   ],
   "source": [
    "price = int(input('구매 금액은? '))\n",
    "\n",
    "if price < 50000:\n",
    "    print('배송비 2500원이 추가 됩니다.')"
   ]
  },
  {
   "cell_type": "code",
   "execution_count": 13,
   "id": "2255115f",
   "metadata": {},
   "outputs": [
    {
     "name": "stdout",
     "output_type": "stream",
     "text": [
      "구매 금액은? 50001\n",
      "배송비 무료입니다.\n",
      "50001원 입니다.\n"
     ]
    }
   ],
   "source": [
    "price = int(input('구매 금액은? '))\n",
    "d = 2500\n",
    "\n",
    "if price < 50000:\n",
    "    print('배송비 2500원이 추가 됩니다.')\n",
    "    print(f'{price + d}원 입니다.')\n",
    "else:\n",
    "    print('배송비 무료입니다.')\n",
    "    print(f'{price}원 입니다.')"
   ]
  },
  {
   "cell_type": "code",
   "execution_count": 16,
   "id": "5415cacf",
   "metadata": {},
   "outputs": [
    {
     "name": "stdout",
     "output_type": "stream",
     "text": [
      "오늘은 며칠입니까? 8\n",
      "짝수번호 차량만 통행 가능합니다.\n",
      "홀수번호 차주는 오늘 대중교통을 이용해 주세요.\n"
     ]
    }
   ],
   "source": [
    "# 차량 이부제\n",
    "date = int(input('오늘은 며칠입니까? '))\n",
    "\n",
    "if date % 2 == 0:\n",
    "    print('짝수번호 차량만 통행 가능합니다.')\n",
    "    print('홀수번호 차주는 오늘 대중교통을 이용해 주세요.')\n",
    "else:\n",
    "    print('홀수번호 차량만 통행 가능합니다.')\n",
    "    print('짝수번호 차주는 오늘 대중교통을 이용해 주세요.')"
   ]
  },
  {
   "cell_type": "code",
   "execution_count": null,
   "id": "4a981333",
   "metadata": {},
   "outputs": [],
   "source": []
  }
 ],
 "metadata": {
  "kernelspec": {
   "display_name": "Python 3 (ipykernel)",
   "language": "python",
   "name": "python3"
  },
  "language_info": {
   "codemirror_mode": {
    "name": "ipython",
    "version": 3
   },
   "file_extension": ".py",
   "mimetype": "text/x-python",
   "name": "python",
   "nbconvert_exporter": "python",
   "pygments_lexer": "ipython3",
   "version": "3.9.7"
  }
 },
 "nbformat": 4,
 "nbformat_minor": 5
}
