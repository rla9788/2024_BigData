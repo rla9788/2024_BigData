{
 "cells": [
  {
   "cell_type": "markdown",
   "id": "6304599d",
   "metadata": {},
   "source": [
    "# 30903_김지우_0409_4"
   ]
  },
  {
   "cell_type": "markdown",
   "id": "fc6be878",
   "metadata": {},
   "source": [
    "## 조건문으로 간단한 프로그램 만들기"
   ]
  },
  {
   "cell_type": "code",
   "execution_count": 4,
   "id": "428d2a49",
   "metadata": {},
   "outputs": [
    {
     "name": "stdout",
     "output_type": "stream",
     "text": [
      "나이 : 22\n",
      "성인은 15000원 입니다\n"
     ]
    }
   ],
   "source": [
    "# 목욕탕에 가면 미성년자는 6000원 성인은 15000원\n",
    "# 나이를 입력받아서 구분하는 프로그램을 만들어 보자\n",
    "\n",
    "age = int(input('나이 : '))\n",
    "\n",
    "if age <=19:\n",
    "    print('미성년자는 6000원 입니다')\n",
    "else:\n",
    "    print('성인은 15000원 입니다')"
   ]
  },
  {
   "cell_type": "code",
   "execution_count": 9,
   "id": "53cc0d39",
   "metadata": {},
   "outputs": [
    {
     "name": "stdout",
     "output_type": "stream",
     "text": [
      "나이 : 2\n",
      "미성년자는 6000원 입니다.\n",
      "금액을 투입해 주세요 --> 6000\n",
      "감사합니다\n"
     ]
    }
   ],
   "source": [
    "# 나이 구분\n",
    "# 금액 구분\n",
    "\n",
    "# 1단계\n",
    "age = int(input('나이 : '))\n",
    "\n",
    "if age <= 19:\n",
    "    print('미성년자는 6000원 입니다.')\n",
    "    price = 6000\n",
    "else:\n",
    "    print('성인은 15000원 입니다.')\n",
    "    price = 15000\n",
    "    \n",
    "# 2단계 투입금액을 입력받아 입장료와 비교하기\n",
    "price_input = int(input('금액을 투입해 주세요 --> '))\n",
    "\n",
    "if price_input < price:\n",
    "    print(f'{price - price_input}원 더 내셔야 합니다.')\n",
    "elif price_input == price:\n",
    "    print('감사합니다')\n",
    "else:\n",
    "    print(f'{price_input - price}원 거슬러 드리겠습니다.')"
   ]
  },
  {
   "cell_type": "markdown",
   "id": "207a73f3",
   "metadata": {},
   "source": [
    "```\n",
    "어떤 메뉴가 궁금하신가요? 라면\n",
    "기본라면 : 3500원\n",
    "떡라면 : 4000원\n",
    "만두라면 : 4000원\n",
    "\n",
    "김밥\n",
    "아채김밥 : 3000원\n",
    "참치김밥 : 4000원\n",
    "꼬마김밥 : 2000원\n",
    "```"
   ]
  },
  {
   "cell_type": "code",
   "execution_count": 12,
   "id": "4d366dd6",
   "metadata": {},
   "outputs": [
    {
     "name": "stdout",
     "output_type": "stream",
     "text": [
      "어떤 메뉴가 궁금하신가요? : 라면\n",
      "기본라면 : 3500원\n",
      "떡라면 : 4000원\n",
      "만두라면 : 4000원\n"
     ]
    }
   ],
   "source": [
    "menu = input('어떤 메뉴가 궁금하신가요? : ')\n",
    "\n",
    "if menu == '라면':\n",
    "    print('기본라면 : 3500원\\n떡라면 : 4000원\\n만두라면 : 4000원')\n",
    "elif menu == '김밥':\n",
    "    print('아채김밥 : 3000원\\n참치김밥 : 4000원\\n꼬마김밥 : 2000원')\n",
    "else:\n",
    "    print('올바른 메뉴를 입력해 주세요')"
   ]
  },
  {
   "cell_type": "code",
   "execution_count": null,
   "id": "594968b0",
   "metadata": {},
   "outputs": [],
   "source": []
  }
 ],
 "metadata": {
  "kernelspec": {
   "display_name": "Python 3 (ipykernel)",
   "language": "python",
   "name": "python3"
  },
  "language_info": {
   "codemirror_mode": {
    "name": "ipython",
    "version": 3
   },
   "file_extension": ".py",
   "mimetype": "text/x-python",
   "name": "python",
   "nbconvert_exporter": "python",
   "pygments_lexer": "ipython3",
   "version": "3.9.7"
  }
 },
 "nbformat": 4,
 "nbformat_minor": 5
}
