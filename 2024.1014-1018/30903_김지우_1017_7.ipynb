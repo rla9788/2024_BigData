{
 "cells": [
  {
   "cell_type": "markdown",
   "id": "089c74f1",
   "metadata": {},
   "source": [
    "# 30903_김지우_1017_7"
   ]
  },
  {
   "cell_type": "markdown",
   "id": "fee5d287",
   "metadata": {},
   "source": [
    "정수 하나를 입력받아 양수이면 \"양수\", 음수이면 \"음수\", 0이면 0을 출력하시오. "
   ]
  },
  {
   "cell_type": "code",
   "execution_count": 9,
   "id": "7b165a19",
   "metadata": {},
   "outputs": [
    {
     "name": "stdout",
     "output_type": "stream",
     "text": [
      "4\n",
      "양수\n"
     ]
    }
   ],
   "source": [
    "a = int(input())\n",
    "\n",
    "if a < 0:\n",
    "    print('음수')\n",
    "elif a == 0:\n",
    "    print('0')\n",
    "else:\n",
    "    print('양수')"
   ]
  },
  {
   "cell_type": "markdown",
   "id": "59ac4ea1",
   "metadata": {},
   "source": [
    "재호는 이번 시험에 받은 성적이 궁금했다.\n",
    "\n",
    "점수가 입력되면 등급을 출력하시오.\n",
    "\n",
    "등급)\n",
    "\n",
    " 90점 이상 : A\n",
    "\n",
    "80점 이상 : B\n",
    "\n",
    "70점 이상 : C\n",
    "\n",
    "60점 이상 : D\n",
    "\n",
    "60점 미만 : F"
   ]
  },
  {
   "cell_type": "code",
   "execution_count": 12,
   "id": "136e50a7",
   "metadata": {},
   "outputs": [
    {
     "name": "stdout",
     "output_type": "stream",
     "text": [
      "55\n",
      "F\n"
     ]
    }
   ],
   "source": [
    "s = int(input())\n",
    "\n",
    "if s>=90:\n",
    "    print('A')\n",
    "elif s>=80:\n",
    "    print('B')\n",
    "elif s>=70:\n",
    "    print('C')\n",
    "elif s>=60:\n",
    "    print('D')\n",
    "elif s<60:\n",
    "    print('F')"
   ]
  },
  {
   "cell_type": "markdown",
   "id": "c4da348c",
   "metadata": {},
   "source": [
    "비만을 판단하기 위해서 BMI 수치가 필요하다.\n",
    "\n",
    "BMI 수치가 입력되면 비만을 판단하시오.\n",
    "\n",
    "* BMI에 따른 비만 판정\n",
    "```\n",
    "BMI 수치\t비만 판정\n",
    "~10 이하\t정상\n",
    "~20 이하\t과체중\n",
    "20 초과\t비만\n",
    "```"
   ]
  },
  {
   "cell_type": "code",
   "execution_count": 13,
   "id": "78df9cd2",
   "metadata": {},
   "outputs": [
    {
     "name": "stdout",
     "output_type": "stream",
     "text": [
      "15\n",
      "과체중\n"
     ]
    }
   ],
   "source": [
    "d = int(input())\n",
    "\n",
    "if d<=10:\n",
    "    print('정상')\n",
    "elif d<=20:\n",
    "    print('과체중')\n",
    "elif d>20:\n",
    "    print('비만')"
   ]
  },
  {
   "cell_type": "code",
   "execution_count": null,
   "id": "d604d7c6",
   "metadata": {},
   "outputs": [],
   "source": []
  }
 ],
 "metadata": {
  "kernelspec": {
   "display_name": "Python 3 (ipykernel)",
   "language": "python",
   "name": "python3"
  },
  "language_info": {
   "codemirror_mode": {
    "name": "ipython",
    "version": 3
   },
   "file_extension": ".py",
   "mimetype": "text/x-python",
   "name": "python",
   "nbconvert_exporter": "python",
   "pygments_lexer": "ipython3",
   "version": "3.9.7"
  }
 },
 "nbformat": 4,
 "nbformat_minor": 5
}
