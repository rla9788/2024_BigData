{
 "cells": [
  {
   "cell_type": "markdown",
   "id": "706c6b6b",
   "metadata": {},
   "source": [
    "# 30903_김지우_0528_4"
   ]
  },
  {
   "cell_type": "markdown",
   "id": "87a35f6f",
   "metadata": {},
   "source": [
    "    주원이는 월, 수, 금, 일 아르바이트를 간다.\n",
    "\n",
    "    다음은 요일의 순서이다.\n",
    "\n",
    "    1. 월요일\n",
    "    2. 화요일\n",
    "    3. 수요일\n",
    "    4. 목요일\n",
    "    5. 금요일\n",
    "    6. 토요일\n",
    "    7. 일요일\n",
    "    \n",
    "    요일의 번호가 입력으로 주어지면 그 날이 아르바이트 가는 날이면 \"oh my god\"를 가는 날이 아니면 \"enjoy\"를 출력하시오."
   ]
  },
  {
   "cell_type": "code",
   "execution_count": 1,
   "id": "ccf10b89",
   "metadata": {},
   "outputs": [
    {
     "name": "stdout",
     "output_type": "stream",
     "text": [
      "1\n",
      "oh my god\n"
     ]
    }
   ],
   "source": [
    "a = int(input())\n",
    "\n",
    "if a % 2 == 1:\n",
    "    print('oh my god')\n",
    "else:\n",
    "    print('enjoy')"
   ]
  },
  {
   "cell_type": "markdown",
   "id": "f6a2128a",
   "metadata": {},
   "source": [
    "    정수 두개가 입력으로 들어온다.\n",
    "\n",
    "    만약 첫번째 정수가 홀수이면 \"홀수\"를 출력하고, 짝수이면 \"짝수\"를 출력한 후  \"+\"를 출력한다.\n",
    "\n",
    "    그리고 두번째 정수가 홀수이면 \"홀수\"를 출력하고, 짝수이면 \"짝수\"를 출력한 후  \"=\"을 출력하고 결과로 나오는 값이 홀수인지 짝수인지 출력한다.\n",
    "\n",
    "\n",
    "\n",
    "    예를들어,\n",
    "\n",
    "    5 7 이 입력되면 \"홀수+홀수=짝수\"가 출력된다.\n",
    "\n",
    "    5 6 이 입력되면 \"홀수+짝수=홀수\"가 출력된다."
   ]
  },
  {
   "cell_type": "code",
   "execution_count": 4,
   "id": "cce45e4d",
   "metadata": {},
   "outputs": [
    {
     "name": "stdout",
     "output_type": "stream",
     "text": [
      "2 3\n",
      "짝수+홀수=홀수\n"
     ]
    }
   ],
   "source": [
    "a, b = map(int, input().split())\n",
    "\n",
    "if(a % 2 == 0):\n",
    "    if(b % 2 == 0):\n",
    "        print('짝수+짝수=짝수')\n",
    "    else:\n",
    "        print('짝수+홀수=홀수')\n",
    "else:\n",
    "    if(b % 2 == 0):\n",
    "        print('홀수+짝수=홀수')\n",
    "    else:\n",
    "        print('홀수+홀수=짝수')"
   ]
  },
  {
   "cell_type": "markdown",
   "id": "65725577",
   "metadata": {},
   "source": [
    "    태어난 해, 월, 일을 입력받아 사주팔자를 보는 프로그램을 작성하시오.\n",
    "\n",
    "    사주를 보는 방법)\n",
    "\n",
    "    세 수(년,월,일)가 주어지면,  (년 - 월 + 일)에 마지막 숫자가 0이면 \"대박\"을 출력, 그렇지 않으면 \"그럭저럭\"을 출력하세요."
   ]
  },
  {
   "cell_type": "code",
   "execution_count": 10,
   "id": "f29e98bc",
   "metadata": {},
   "outputs": [
    {
     "name": "stdout",
     "output_type": "stream",
     "text": [
      "1902 2 10\n",
      "대박\n"
     ]
    }
   ],
   "source": [
    "y, m, d = map(int, input().split())\n",
    "\n",
    "if (y - m + d ) % 10 == 0:\n",
    "    print('대박')\n",
    "else:\n",
    "    print('그럭저럭')"
   ]
  },
  {
   "cell_type": "code",
   "execution_count": null,
   "id": "4748ff85",
   "metadata": {},
   "outputs": [],
   "source": []
  }
 ],
 "metadata": {
  "kernelspec": {
   "display_name": "Python 3 (ipykernel)",
   "language": "python",
   "name": "python3"
  },
  "language_info": {
   "codemirror_mode": {
    "name": "ipython",
    "version": 3
   },
   "file_extension": ".py",
   "mimetype": "text/x-python",
   "name": "python",
   "nbconvert_exporter": "python",
   "pygments_lexer": "ipython3",
   "version": "3.9.7"
  }
 },
 "nbformat": 4,
 "nbformat_minor": 5
}
