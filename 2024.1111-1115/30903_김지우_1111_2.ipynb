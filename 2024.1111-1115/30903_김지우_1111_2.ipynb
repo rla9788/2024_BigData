{
 "cells": [
  {
   "cell_type": "markdown",
   "id": "04d57d55",
   "metadata": {},
   "source": [
    "# 30903_김지우_1111_2"
   ]
  },
  {
   "cell_type": "markdown",
   "id": "2ef16400",
   "metadata": {},
   "source": [
    "철수와 영희는 한 사람이 특정 월(month)을 지목하면 나머지 사람이 그 달의 마지막 날이 며칠인지 알아맞히는 게임을 하였다. 두 사람 모두 처음엔 서툴렀지만 게임을 계속하다 보니 금방 익숙해졌다. 그래서 게임의 규칙을 조금 어렵게 바꿔 연도와 월을 말하면 그 달의 마지막 날이 며칠인지 알아맞히기로 하였다.\n",
    "\n",
    " \n",
    "\n",
    "이 규칙이 어려운 이유는 2월이 윤달이 있기 때문이다.\n",
    "\n",
    "2월이 29일인 해를 윤년이라고 하는데, 윤년의 판단은 아래 두 조건 중 하나만 만족하면 된다.\n",
    "\n",
    " \n",
    "\n",
    "- 조건 1 : 400의 배수인 해는 모두 윤년이다.\n",
    "\n",
    "- 조건 2 : 4의 배수인 해들 중 100의 배수가 아닌 해들은 모두 윤년이다.\n",
    "\n",
    " \n",
    "\n",
    "연도와 월을 알고 있을 때 그 달의 마지막 날을 구하는 프로그램을 작성하시오.\n",
    "\n",
    " \n",
    "\n",
    "<참고> 월별 마지막 날\n",
    "\n",
    "1월  31\n",
    "\n",
    "2월 28/29\n",
    "\n",
    "3월 31\n",
    "\n",
    "4월 30\n",
    "\n",
    "5월 31\n",
    "\n",
    "6월 30\n",
    "\n",
    "7월 31\n",
    "\n",
    "8월 31\n",
    "\n",
    "9월 30\n",
    "\n",
    "10월 31\n",
    "\n",
    "11월 30\n",
    "\n",
    "12월 31"
   ]
  },
  {
   "cell_type": "code",
   "execution_count": 4,
   "id": "7315c701",
   "metadata": {},
   "outputs": [
    {
     "name": "stdout",
     "output_type": "stream",
     "text": [
      "2009 10\n",
      "31\n"
     ]
    }
   ],
   "source": [
    "a = {1:31, 2:28, 3:31, 4:30, 5:31, 6:30, 7:31, 8:31, 9:30, 10:31, 11:30, 12:31}\n",
    "b = {1:31, 2:29, 3:31, 4:30, 5:31, 6:30, 7:31, 8:31, 9:30, 10:31, 11:30, 12:31}\n",
    "\n",
    "year, month = map(int, input().split())\n",
    "if year % 400 == 0 or (year % 4 ==0 and year % 100 != 0):\n",
    "    print(b[month])\n",
    "else:\n",
    "    print(a[month])"
   ]
  },
  {
   "cell_type": "markdown",
   "id": "75d7fd31",
   "metadata": {},
   "source": [
    "대영이는 SNS를 이용한 컨설팅 회사를 운영하고 있다. \n",
    "\n",
    "이 회사에서 획기적인 기획안을 개발하여 사람들에게 홍보를 하려고 한다.\n",
    "\n",
    "홍보를 할 경우 수입과 그렇지 않을 경우의 수입을 알고 있을 경우, \n",
    "\n",
    "홍보를 하는 경우가 유리한가?\n",
    "\n",
    "홍보를 하지 않은 경우가 유리한가?\n",
    "\n",
    "그것도 아니면 홍보를 하든 안하든 별 관계가 없는가?\n",
    "\n",
    "이것을 알아내는 프로그램을 만드시오."
   ]
  },
  {
   "cell_type": "code",
   "execution_count": 8,
   "id": "665b5bdd",
   "metadata": {},
   "outputs": [
    {
     "name": "stdout",
     "output_type": "stream",
     "text": [
      "10 100 90\n",
      "does not matter\n"
     ]
    }
   ],
   "source": [
    "a, b, c = map(int, input().split())\n",
    "\n",
    "ad = b - c\n",
    "\n",
    "if a < ad:\n",
    "    print('advertise')\n",
    "elif a > ad:\n",
    "    print('do not advertise')\n",
    "else:\n",
    "    print('does not matter')"
   ]
  },
  {
   "cell_type": "markdown",
   "id": "6fe68a21",
   "metadata": {},
   "source": [
    "삼각형의 3변의 길이 a, b, c가 입력으로 주어진다.\n",
    "\n",
    "여기서 입력되는 변의 관계는 a ≤ b ≤ c 이다. \n",
    "\n",
    "그 삼각형이 무슨 삼각형인지 출력하시오."
   ]
  },
  {
   "cell_type": "code",
   "execution_count": 17,
   "id": "aeee8150",
   "metadata": {},
   "outputs": [
    {
     "name": "stdout",
     "output_type": "stream",
     "text": [
      "20 20 111\n",
      "삼각형아님\n"
     ]
    }
   ],
   "source": [
    "a, b, c = map(int, input().split())\n",
    "\n",
    "if a + b <= c:\n",
    "    print('삼각형아님')\n",
    "elif a == b == c:\n",
    "    print('정삼각형')\n",
    "elif a == b or b == c or a == c:\n",
    "    print('이등변삼각형')\n",
    "elif a ** 2 + b ** 2 == c ** 2:\n",
    "    print('직각삼각형')\n",
    "else:\n",
    "    print('삼각형')"
   ]
  },
  {
   "cell_type": "code",
   "execution_count": null,
   "id": "25e00e10",
   "metadata": {},
   "outputs": [],
   "source": []
  }
 ],
 "metadata": {
  "kernelspec": {
   "display_name": "Python 3 (ipykernel)",
   "language": "python",
   "name": "python3"
  },
  "language_info": {
   "codemirror_mode": {
    "name": "ipython",
    "version": 3
   },
   "file_extension": ".py",
   "mimetype": "text/x-python",
   "name": "python",
   "nbconvert_exporter": "python",
   "pygments_lexer": "ipython3",
   "version": "3.9.7"
  }
 },
 "nbformat": 4,
 "nbformat_minor": 5
}
