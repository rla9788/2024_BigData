{
 "cells": [
  {
   "cell_type": "markdown",
   "id": "4f6ea91b",
   "metadata": {},
   "source": [
    "# 30903_김지우_0314_6"
   ]
  },
  {
   "cell_type": "markdown",
   "id": "e934218a",
   "metadata": {},
   "source": [
    "# 3.1 데이터를 저장하는 공간 : 변수\n",
    "## 3.1.1 변수란"
   ]
  },
  {
   "cell_type": "code",
   "execution_count": 1,
   "id": "4f07be01",
   "metadata": {},
   "outputs": [],
   "source": [
    "a = 10"
   ]
  },
  {
   "cell_type": "code",
   "execution_count": 2,
   "id": "47770b33",
   "metadata": {},
   "outputs": [],
   "source": [
    "a = 20"
   ]
  },
  {
   "cell_type": "code",
   "execution_count": 3,
   "id": "1bc5d0ba",
   "metadata": {},
   "outputs": [
    {
     "name": "stdout",
     "output_type": "stream",
     "text": [
      "20\n"
     ]
    }
   ],
   "source": [
    "print(a)"
   ]
  },
  {
   "cell_type": "markdown",
   "id": "06774e76",
   "metadata": {},
   "source": [
    "# 3.1.2 변수에 값을 저장하고 사용하기"
   ]
  },
  {
   "cell_type": "code",
   "execution_count": 4,
   "id": "ac9b84ed",
   "metadata": {},
   "outputs": [
    {
     "name": "stdout",
     "output_type": "stream",
     "text": [
      "a\n",
      "10\n"
     ]
    }
   ],
   "source": [
    "a = 10\n",
    "print('a')\n",
    "print(a)"
   ]
  },
  {
   "cell_type": "code",
   "execution_count": 5,
   "id": "5bb1be64",
   "metadata": {},
   "outputs": [
    {
     "ename": "NameError",
     "evalue": "name '가나다' is not defined",
     "output_type": "error",
     "traceback": [
      "\u001b[1;31m---------------------------------------------------------------------------\u001b[0m",
      "\u001b[1;31mNameError\u001b[0m                                 Traceback (most recent call last)",
      "\u001b[1;32m~\\AppData\\Local\\Temp/ipykernel_8568/53904903.py\u001b[0m in \u001b[0;36m<module>\u001b[1;34m\u001b[0m\n\u001b[1;32m----> 1\u001b[1;33m \u001b[0mprint\u001b[0m\u001b[1;33m(\u001b[0m\u001b[0m가나다\u001b[0m\u001b[1;33m)\u001b[0m\u001b[1;33m\u001b[0m\u001b[1;33m\u001b[0m\u001b[0m\n\u001b[0m",
      "\u001b[1;31mNameError\u001b[0m: name '가나다' is not defined"
     ]
    }
   ],
   "source": [
    "print(가나다)"
   ]
  },
  {
   "cell_type": "code",
   "execution_count": 6,
   "id": "c4fbf263",
   "metadata": {},
   "outputs": [
    {
     "name": "stdout",
     "output_type": "stream",
     "text": [
      "10\n"
     ]
    }
   ],
   "source": [
    "가나다 = 10\n",
    "print(가나다)"
   ]
  },
  {
   "cell_type": "code",
   "execution_count": 7,
   "id": "1f4c4133",
   "metadata": {},
   "outputs": [],
   "source": [
    "b = '성일'\n",
    "c = '정보'"
   ]
  },
  {
   "cell_type": "code",
   "execution_count": 10,
   "id": "af9c3e3c",
   "metadata": {},
   "outputs": [
    {
     "name": "stdout",
     "output_type": "stream",
     "text": [
      "성일정보\n",
      "성일 정보\n"
     ]
    }
   ],
   "source": [
    "print(b+c)\n",
    "print(b,c)"
   ]
  },
  {
   "cell_type": "markdown",
   "id": "548b3ec2",
   "metadata": {},
   "source": [
    ">출력\n",
    "```\n",
    "유리 키는 175.5 , 나이는 21 , 취미는 programming 입니다!\n",
    "제인스 키는 186 , 나이는 24 , 취미는 요리하기 입니다!\n",
    "```"
   ]
  },
  {
   "cell_type": "code",
   "execution_count": 15,
   "id": "afe7b137",
   "metadata": {},
   "outputs": [
    {
     "name": "stdout",
     "output_type": "stream",
     "text": [
      "유리 키는 175.5 , 나이는 21 , 취미는 programming 입니다!\n"
     ]
    }
   ],
   "source": [
    "name = '유리'\n",
    "height = 175.5\n",
    "age = 21\n",
    "hobby = 'programming'\n",
    "print(name, \"키는\", height,\", 나이는\", age, \", 취미는\", hobby, \"입니다!\")"
   ]
  },
  {
   "cell_type": "code",
   "execution_count": 23,
   "id": "bda8bf7a",
   "metadata": {},
   "outputs": [
    {
     "name": "stdout",
     "output_type": "stream",
     "text": [
      "제임스 키는 186 , 나이는 24 , 취미는 요리하기 입니다!\n",
      "제임스 키는 186, 나이는 24, 취미는 요리하기 입니다!\n",
      "제임스 키는 186. 나이는 24, 취미는 요리하기 입니다!\n"
     ]
    }
   ],
   "source": [
    "name = '제임스'\n",
    "height = 186\n",
    "age = 24\n",
    "hobby = '요리하기'\n",
    "print(name, \"키는\", height,\", 나이는\", age, \", 취미는\", hobby, \"입니다!\")\n",
    "print('{} 키는 {}, 나이는 {}, 취미는 {} 입니다!'.format(name, height, age, hobby))\n",
    "print(f'{name} 키는 {height}. 나이는 {age}, 취미는 {hobby} 입니다!')"
   ]
  },
  {
   "cell_type": "markdown",
   "id": "08974a54",
   "metadata": {},
   "source": [
    ">원의 넓이 구하기\n",
    "```\n",
    "공식 : 파이 * 반지름 ** 2\n",
    "p = 3.141592\n",
    "r = 5\n",
    "```"
   ]
  },
  {
   "cell_type": "code",
   "execution_count": 28,
   "id": "c1a939c3",
   "metadata": {},
   "outputs": [
    {
     "name": "stdout",
     "output_type": "stream",
     "text": [
      "원의 넓이 = 78.5398\n"
     ]
    }
   ],
   "source": [
    "p = 3.141592\n",
    "r = 5\n",
    "print(f'원의 넓이 = {p * r ** 2}')"
   ]
  },
  {
   "cell_type": "code",
   "execution_count": null,
   "id": "ed65cdb5",
   "metadata": {},
   "outputs": [],
   "source": []
  }
 ],
 "metadata": {
  "kernelspec": {
   "display_name": "Python 3 (ipykernel)",
   "language": "python",
   "name": "python3"
  },
  "language_info": {
   "codemirror_mode": {
    "name": "ipython",
    "version": 3
   },
   "file_extension": ".py",
   "mimetype": "text/x-python",
   "name": "python",
   "nbconvert_exporter": "python",
   "pygments_lexer": "ipython3",
   "version": "3.9.7"
  }
 },
 "nbformat": 4,
 "nbformat_minor": 5
}
