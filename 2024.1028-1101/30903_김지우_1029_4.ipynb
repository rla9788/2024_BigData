{
 "cells": [
  {
   "cell_type": "markdown",
   "id": "2f3a8ed0",
   "metadata": {},
   "source": [
    "# 30903_김지우_1029_4"
   ]
  },
  {
   "cell_type": "markdown",
   "id": "a6ad32f1",
   "metadata": {},
   "source": [
    "영어로 서수를 표현할 때 다음과 같이 나타낸다.\n",
    "\n",
    "1st  2nd  3rd  4th  5th  6th  ... 10th\n",
    "\n",
    "11th 12th 13th 14th 15th  ...  20th\n",
    "\n",
    "21st 22nd 23rd 24th 25th  ...  30th\n",
    "\n",
    "31st 32nd 33rd 34th 35th  ...  40th\n",
    "\n",
    "41st 42nd 43rd 44th 45th  ...  50th\n",
    "\n",
    "...\n",
    "\n",
    "91st 92nd 93rd 94th 95th  ...  99th\n",
    "\n",
    " \n",
    "\n",
    "1~99 중 하나가 숫자가 입력되면 영어 서수 표현을 출력하시오."
   ]
  },
  {
   "cell_type": "code",
   "execution_count": 23,
   "id": "33c0cf1b",
   "metadata": {},
   "outputs": [
    {
     "name": "stdout",
     "output_type": "stream",
     "text": [
      "1\n",
      "1st\n"
     ]
    }
   ],
   "source": [
    "a = int(input())\n",
    "c = 'th'\n",
    "\n",
    "if a % 10 == 1:\n",
    "    c = 'st'\n",
    "elif a % 10 == 2:\n",
    "    c = 'nd'\n",
    "elif a % 10 == 3:\n",
    "    c = 'rd'\n",
    "    \n",
    "if a == 11:\n",
    "    c = 'th'\n",
    "elif a == 12:\n",
    "    c = 'th'\n",
    "elif a == 13:\n",
    "    c = 'th'\n",
    "    \n",
    "print(f'{a}{c}')"
   ]
  },
  {
   "cell_type": "markdown",
   "id": "b1acc61a",
   "metadata": {},
   "source": [
    "두 실수 a, b가 입력되면 그 두수를 더하거나 빼거나 곱하거나 나누거나 제곱을 해서 가장 큰 수를 출력하시오.\n",
    "\n",
    "예를 들어 1과 2가 입력되면,\n",
    "\n",
    "1+2 = 3   , 2+1 = 3\n",
    "\n",
    "1 - 2 = -1,   2 - 1 = 1\n",
    "\n",
    "1 * 2 = 2,    2 * 1 = 2\n",
    "\n",
    "1 / 2 = 0.5,   2 / 1 = 2\n",
    "\n",
    "12=1 ,   21 = 2\n",
    "\n",
    "따라서 최댓값은 3이다."
   ]
  },
  {
   "cell_type": "code",
   "execution_count": 30,
   "id": "6b96cbe7",
   "metadata": {},
   "outputs": [
    {
     "name": "stdout",
     "output_type": "stream",
     "text": [
      "12 2\n",
      "4096.000000\n"
     ]
    }
   ],
   "source": [
    "a, b = map(int, input().split())\n",
    "s = [a+b, a-b, a*b, a/b, a**b, b-a, b/a, b**a]\n",
    "\n",
    "print('%.6f' % max(s))"
   ]
  },
  {
   "cell_type": "markdown",
   "id": "b1c70bb1",
   "metadata": {},
   "source": [
    "두 자연수 a, b가 주어진다.\n",
    "\n",
    "b가 a의 배수이면 \"a*x=b\"를 출력하고,\n",
    "\n",
    "a가 b의 배수이면 \"b*x=a\"를 출력하고,\n",
    "\n",
    "배수관계가 아니면 \"none\"을 출력하시오.\n",
    "\n",
    "예) \n",
    "\n",
    "5 10    ====> 5*2=10\n",
    "\n",
    "14 2   ======> 2*7=14\n",
    "\n",
    "3 7 =====> none"
   ]
  },
  {
   "cell_type": "code",
   "execution_count": 35,
   "id": "bfd60d3a",
   "metadata": {},
   "outputs": [
    {
     "name": "stdout",
     "output_type": "stream",
     "text": [
      "4 12\n",
      "4*3=12\n"
     ]
    }
   ],
   "source": [
    "a, b = map(int, input().split())\n",
    "\n",
    "if a % b == 0:\n",
    "    print(f'{b}*{a//b}={a}')\n",
    "elif b % 2 == 0:\n",
    "    print(f'{a}*{b//a}={b}')\n",
    "else:\n",
    "    print('none')"
   ]
  },
  {
   "cell_type": "code",
   "execution_count": null,
   "id": "9bf96648",
   "metadata": {},
   "outputs": [],
   "source": []
  }
 ],
 "metadata": {
  "kernelspec": {
   "display_name": "Python 3 (ipykernel)",
   "language": "python",
   "name": "python3"
  },
  "language_info": {
   "codemirror_mode": {
    "name": "ipython",
    "version": 3
   },
   "file_extension": ".py",
   "mimetype": "text/x-python",
   "name": "python",
   "nbconvert_exporter": "python",
   "pygments_lexer": "ipython3",
   "version": "3.9.7"
  }
 },
 "nbformat": 4,
 "nbformat_minor": 5
}
