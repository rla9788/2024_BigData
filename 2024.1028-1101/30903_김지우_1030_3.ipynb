{
 "cells": [
  {
   "cell_type": "markdown",
   "id": "9bcab014",
   "metadata": {},
   "source": [
    "# 30903_김지우_1030_3"
   ]
  },
  {
   "cell_type": "markdown",
   "id": "24279460",
   "metadata": {},
   "source": [
    "윷놀이는 4개의 윷을 이용하는 게임이다.\n",
    "\n",
    " \n",
    "\n",
    "도 : 1개가 뒤집어진 상태\n",
    "\n",
    "개 : 2개가 뒤집어진 상태\n",
    "\n",
    "걸 : 3개가 뒤집어진 상태\n",
    "\n",
    "윷 : 4개가 뒤집어진 상태\n",
    "\n",
    "모 : 하나도 뒤집어지지 않은 상태\n",
    "\n",
    " \n",
    "\n",
    "4개의 윷 상태가 입력되면 도, 개, 걸, 윷, 모를 출력하는 프로그램을 작성하시오."
   ]
  },
  {
   "cell_type": "code",
   "execution_count": 3,
   "id": "bd00d70a",
   "metadata": {},
   "outputs": [
    {
     "name": "stdout",
     "output_type": "stream",
     "text": [
      "0 0 1 0\n",
      "도\n"
     ]
    }
   ],
   "source": [
    "a = list(map(int, input().split()))\n",
    "r = a.count(1)\n",
    "\n",
    "if r == 0:\n",
    "    print('모')\n",
    "elif r == 1:\n",
    "    print('도')\n",
    "elif r == 2:\n",
    "    print('개')\n",
    "elif r == 3:\n",
    "    print('걸')\n",
    "elif r == 4:\n",
    "    print('윷')"
   ]
  },
  {
   "cell_type": "markdown",
   "id": "edb5e773",
   "metadata": {},
   "source": [
    "보림이는 엄마와 함께 놋데리아에 갔다.\n",
    "\n",
    "보림이는 먹고 싶은게 많았으나 엄마가 살이 찐다고 2가지만 골라서 먹으라고 했다.\n",
    "\n",
    "그리고 두 메뉴의 칼로리 합이 500보다 크면 엄마가 화를 내고, 500이하면 화를 내지 않는다.\n",
    "\n",
    "보림이가 선택할 수 있는 메뉴는 다음과 같다.\n",
    "\n",
    "1. 치즈버거 : 400 칼로리\n",
    "\n",
    "2. 야채버거 : 340 칼로리\n",
    "\n",
    "3. 우유 : 170 칼로리\n",
    "\n",
    "4. 계란말이 : 100 칼로리\n",
    "\n",
    "5. 샐러드 : 70 칼로리\n",
    "\n",
    "이 메뉴들 중 2가지 메뉴를 선택했을 때 칼로리 합을 계산하고, 그 칼로리 합이 500보다 크면 \"angry\", 500이하면 \"no angry\"를 출력하시오."
   ]
  },
  {
   "cell_type": "code",
   "execution_count": 22,
   "id": "57ea01ee",
   "metadata": {},
   "outputs": [
    {
     "name": "stdout",
     "output_type": "stream",
     "text": [
      "2 4\n",
      "no angry\n"
     ]
    }
   ],
   "source": [
    "a, b = input().split()\n",
    "menu = {'1':'400', '2':'340', '3':'170', '4':'100', '5':'70'}\n",
    "\n",
    "if int(menu[a]) + int(menu[b])> 500:\n",
    "    print('angry')\n",
    "elif int(menu[a]) + int(menu[b])<= 500:\n",
    "    print('no angry')"
   ]
  },
  {
   "cell_type": "markdown",
   "id": "04c9ddc4",
   "metadata": {},
   "source": [
    "세 개의 직선이 있다.\n",
    "\n",
    "숫자의 의미는 직선의 길이를 말한다.\n",
    "\n",
    "이 직선으로 삼각형을 만들 수 있는지 판단하는 프로그램을 작성하시오.\n",
    "\n",
    "삼각형의 성립 조건)\n",
    "\n",
    "a, b, c 가 변의 길이이고 c가 제일 긴 길이라고 한다면\n",
    "\n",
    "c < a + b 이면 삼각형이 성립됨."
   ]
  },
  {
   "cell_type": "code",
   "execution_count": 41,
   "id": "2712ce58",
   "metadata": {},
   "outputs": [
    {
     "name": "stdout",
     "output_type": "stream",
     "text": [
      "155 5 150\n",
      "no\n"
     ]
    }
   ],
   "source": [
    "a = list(map(int, input().split()))\n",
    "a.sort()\n",
    "c, b = a.pop(), sum(a)\n",
    "\n",
    "if c < b:\n",
    "    print('yes')\n",
    "else:\n",
    "    print('no')"
   ]
  },
  {
   "cell_type": "code",
   "execution_count": null,
   "id": "bece8a40",
   "metadata": {},
   "outputs": [],
   "source": []
  }
 ],
 "metadata": {
  "kernelspec": {
   "display_name": "Python 3 (ipykernel)",
   "language": "python",
   "name": "python3"
  },
  "language_info": {
   "codemirror_mode": {
    "name": "ipython",
    "version": 3
   },
   "file_extension": ".py",
   "mimetype": "text/x-python",
   "name": "python",
   "nbconvert_exporter": "python",
   "pygments_lexer": "ipython3",
   "version": "3.9.7"
  }
 },
 "nbformat": 4,
 "nbformat_minor": 5
}
