{
 "cells": [
  {
   "cell_type": "markdown",
   "id": "f23e19ac",
   "metadata": {},
   "source": [
    "# 30903_김지우_0926_6"
   ]
  },
  {
   "cell_type": "markdown",
   "id": "a7da8f89",
   "metadata": {},
   "source": [
    "세 수를 오름차순으로 정렬하려고 한다. (낮은 숫자 -> 높은 숫자)\n",
    "\n",
    "예)\n",
    "\n",
    "5 8 2   ====> 2 5 8    로 출력"
   ]
  },
  {
   "cell_type": "code",
   "execution_count": 4,
   "id": "5d690be3",
   "metadata": {},
   "outputs": [
    {
     "name": "stdout",
     "output_type": "stream",
     "text": [
      "8 7 6\n",
      "6 7 8 "
     ]
    }
   ],
   "source": [
    "a = list(map(int, input().split()))\n",
    "a.sort()\n",
    "for a in a:\n",
    "    print(a, end=' ')"
   ]
  },
  {
   "cell_type": "markdown",
   "id": "1995345c",
   "metadata": {},
   "source": [
    "수호는 30분 전으로 돌아가고 싶은 1人 이다.\n",
    "\n",
    "공백을 기준으로 시간과 분이 주어진다.\n",
    "\n",
    "그러면 이 시간을 기준으로 30분전의 시간을 출력하시오.\n",
    "\n",
    "예)\n",
    "\n",
    "12 35  =====> 12 5\n",
    "\n",
    "12 0 ======> 11 30\n",
    "\n",
    "11 5 ======> 10 35\n",
    "\n",
    "0 10 ======> 23 40"
   ]
  },
  {
   "cell_type": "code",
   "execution_count": 7,
   "id": "4373817b",
   "metadata": {},
   "outputs": [
    {
     "name": "stdout",
     "output_type": "stream",
     "text": [
      "12 35\n",
      "12 5\n"
     ]
    }
   ],
   "source": [
    "h, m = map(int, input().split())\n",
    "\n",
    "r = m - 30\n",
    "if r >= 0:\n",
    "    print(h, r)\n",
    "else:\n",
    "    if h == 0:\n",
    "        print(23, 60+r)\n",
    "    else:\n",
    "        print(h-1, 60+r)"
   ]
  },
  {
   "cell_type": "markdown",
   "id": "b4c7f34d",
   "metadata": {},
   "source": [
    "민호는 발명을 되게 좋아하고, 컴퓨터 프로그램도 되게 좋아한다.\n",
    "\n",
    "어느 날 민호는 컴퓨터를 사용하던 중 휴지통이 꽉 차서 불편을 느꼈다.\n",
    "\n",
    "그래서 휴지통이 n만큼 차면 알아서 쓰레기를 압축해주는 휴지통을 만들려고 한다.\n",
    "\n",
    "이 때 압축하는 알고리즘은 다음과 같다.\n",
    "\n",
    "10의 자릿수와 1의 자릿수를 서로 바꾸고, 거기에 2를 곱한다.\n",
    "\n",
    "예) 70일 경우 14가 된다.( 70 -> 07 -> 14 )\n",
    "\n",
    "이 알고리즘은 때로는 부작용을 일으켜 휴지통의 내용이 더 많아 질지도 모른다.\n",
    "\n",
    "만약 이 알고리즘의 심각한 부작용으로 수치가 100이 넘는다면 100의 자릿수는 무시된다."
   ]
  },
  {
   "cell_type": "code",
   "execution_count": 10,
   "id": "7517b29e",
   "metadata": {},
   "outputs": [
    {
     "name": "stdout",
     "output_type": "stream",
     "text": [
      "90\n",
      "18\n",
      "GOOD\n"
     ]
    }
   ],
   "source": [
    "g = input()\n",
    "\n",
    "amount = g[1] + g[0]\n",
    "amount = int(amount) * 2\n",
    "\n",
    "if amount > 99:\n",
    "    amount = amount % 100\n",
    "\n",
    "if amount <= 50:\n",
    "    print(amount)\n",
    "    print('GOOD')\n",
    "else:\n",
    "    print(amount)\n",
    "    print('OH MY GOD')"
   ]
  },
  {
   "cell_type": "code",
   "execution_count": null,
   "id": "d42dfc05",
   "metadata": {},
   "outputs": [],
   "source": []
  }
 ],
 "metadata": {
  "kernelspec": {
   "display_name": "Python 3 (ipykernel)",
   "language": "python",
   "name": "python3"
  },
  "language_info": {
   "codemirror_mode": {
    "name": "ipython",
    "version": 3
   },
   "file_extension": ".py",
   "mimetype": "text/x-python",
   "name": "python",
   "nbconvert_exporter": "python",
   "pygments_lexer": "ipython3",
   "version": "3.9.7"
  }
 },
 "nbformat": 4,
 "nbformat_minor": 5
}
