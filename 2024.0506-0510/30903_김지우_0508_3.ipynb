{
 "cells": [
  {
   "cell_type": "markdown",
   "id": "a634963a",
   "metadata": {},
   "source": [
    "# 30903_김지우_0508_3"
   ]
  },
  {
   "cell_type": "code",
   "execution_count": 2,
   "id": "b88788f6",
   "metadata": {},
   "outputs": [
    {
     "name": "stdout",
     "output_type": "stream",
     "text": [
      "영어단어, 뜻 : grape, 포도\n",
      "영어단어, 뜻 : melon, 멜론\n",
      "영어단어, 뜻 : \n"
     ]
    },
    {
     "data": {
      "text/plain": [
       "{'grape': ' 포도', 'melon': ' 멜론'}"
      ]
     },
     "execution_count": 2,
     "metadata": {},
     "output_type": "execute_result"
    }
   ],
   "source": [
    "# 빈 딕셔너리 만들기\n",
    "dict_word = {}\n",
    "\n",
    "# 공백을 입력할 때까지 입력 키 값과 밸류값 받기\n",
    "while True:\n",
    "    input_word = input('영어단어, 뜻 : ')\n",
    "    if input_word == '':\n",
    "        break\n",
    "    # 키 값과 밸류값 분리하기\n",
    "    eng = input_word.split(',')[0]\n",
    "    kor = input_word.split(',')[1]\n",
    "    \n",
    "    # 키 값과 밸류값 저장하기\n",
    "    dict_word[eng] = kor\n",
    "    \n",
    "# 출력하기\n",
    "dict_word"
   ]
  },
  {
   "cell_type": "code",
   "execution_count": 3,
   "id": "632cb858",
   "metadata": {},
   "outputs": [
    {
     "name": "stdout",
     "output_type": "stream",
     "text": [
      "물건구매가 : 200000\n",
      "\n",
      "구매가 : 200000\n",
      "할인율 : 10%\n",
      "할인금액 : 20000.0\n",
      "지불금액 : 180000.0\n",
      "\n"
     ]
    }
   ],
   "source": [
    "price = int(input('물건구매가 : '))\n",
    "\n",
    "# 할인율 결정\n",
    "if price >= 100000:\n",
    "    dc = 10\n",
    "elif price >= 50000:\n",
    "    dc = 7\n",
    "elif price >= 10000:\n",
    "    dc = 5\n",
    "else:\n",
    "    dc = 0\n",
    "    \n",
    "# 출력\n",
    "print(f'''\n",
    "구매가 : {price}\n",
    "할인율 : {dc}%\n",
    "할인금액 : {price * (dc / 100)}\n",
    "지불금액 : {price - price * (dc / 100)}\n",
    "''')"
   ]
  },
  {
   "cell_type": "code",
   "execution_count": 4,
   "id": "938cf79c",
   "metadata": {},
   "outputs": [
    {
     "name": "stdout",
     "output_type": "stream",
     "text": [
      "숫자1 : 2\n",
      "숫자2 : 5\n",
      "연산기호 : *\n",
      "덧셈 : 2 * 5 = 10\n"
     ]
    }
   ],
   "source": [
    "num1 = int(input('숫자1 : '))\n",
    "num2 = int(input('숫자2 : '))\n",
    "op = input('연산기호 : ')\n",
    "\n",
    "if op == '+':\n",
    "    print(f'덧셈 : {num1} + {num2} = {num1 + num2}')\n",
    "elif op == '-':\n",
    "    print(f'덧셈 : {num1} - {num2} = {num1 - num2}')\n",
    "elif op == '*':\n",
    "    print(f'덧셈 : {num1} * {num2} = {num1 * num2}')\n",
    "elif op == '/':\n",
    "    print(f'덧셈 : {num1} / {num2} = {num1 / num2}')\n",
    "else:\n",
    "    print('잘못 입력하셨습니다')"
   ]
  },
  {
   "cell_type": "code",
   "execution_count": 5,
   "id": "a875b7d2",
   "metadata": {},
   "outputs": [
    {
     "name": "stdout",
     "output_type": "stream",
     "text": [
      "Attempt 1. 예상 숫자를 입력하세요(1`100) : 20\n",
      "Up\n",
      "Attempt 2. 예상 숫자를 입력하세요(1`100) : 40\n",
      "Up\n",
      "Attempt 3. 예상 숫자를 입력하세요(1`100) : 60\n",
      "Down\n",
      "Attempt 4. 예상 숫자를 입력하세요(1`100) : 50\n",
      "Up\n",
      "Attempt 5. 예상 숫자를 입력하세요(1`100) : 55\n",
      "Up\n",
      "횟수 초과입니다. 정답은 59이었습니다.\n"
     ]
    }
   ],
   "source": [
    "import random\n",
    "def guess_number_game(max_attempts = 5):\n",
    "    cnt = 0\n",
    "    num = random.randint(1, 100)\n",
    "    \n",
    "    while cnt < max_attempts:\n",
    "        cnt += 1\n",
    "        answer = int(input(f'Attempt {cnt}. 예상 숫자를 입력하세요(1`100) : '))\n",
    "        if answer == num:\n",
    "            print(f'정답입니다')\n",
    "            print(f'{cnt}번 만에 맞추었습니다')\n",
    "            return\n",
    "        \n",
    "        if answer < num:\n",
    "            print('Up')\n",
    "        else:\n",
    "            print('Down')\n",
    "    print(f'횟수 초과입니다. 정답은 {num}이었습니다.')\n",
    "guess_number_game()"
   ]
  },
  {
   "cell_type": "code",
   "execution_count": 7,
   "id": "bae56921",
   "metadata": {},
   "outputs": [
    {
     "name": "stdout",
     "output_type": "stream",
     "text": [
      "id : id123\n",
      "pwd : pwd111\n",
      "비밀번호를 확인하세요\n",
      "id : id123\n",
      "pwd : pwd123\n"
     ]
    }
   ],
   "source": [
    "# 주어진 아이디와 비밀번호\n",
    "id = 'id123'\n",
    "pwd = 'pwd123'\n",
    "\n",
    "while True:\n",
    "    input_id = input('id : ')\n",
    "    input_pwd = input('pwd : ')\n",
    "    \n",
    "    if id == input_id and pwd == input_pwd:\n",
    "        break\n",
    "    if id != input_id:\n",
    "        print(f'아이디를 확인하세요')\n",
    "    if pwd != input_pwd:\n",
    "        print(f'비밀번호를 확인하세요')"
   ]
  },
  {
   "cell_type": "code",
   "execution_count": null,
   "id": "be4a4a5f",
   "metadata": {},
   "outputs": [],
   "source": []
  }
 ],
 "metadata": {
  "kernelspec": {
   "display_name": "Python 3 (ipykernel)",
   "language": "python",
   "name": "python3"
  },
  "language_info": {
   "codemirror_mode": {
    "name": "ipython",
    "version": 3
   },
   "file_extension": ".py",
   "mimetype": "text/x-python",
   "name": "python",
   "nbconvert_exporter": "python",
   "pygments_lexer": "ipython3",
   "version": "3.9.7"
  }
 },
 "nbformat": 4,
 "nbformat_minor": 5
}
