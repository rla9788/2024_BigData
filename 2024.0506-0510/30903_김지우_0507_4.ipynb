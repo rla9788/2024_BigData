{
 "cells": [
  {
   "cell_type": "markdown",
   "id": "0fde0e2d",
   "metadata": {},
   "source": [
    "# 30903_김지우_0507_4"
   ]
  },
  {
   "cell_type": "markdown",
   "id": "67f35baa",
   "metadata": {},
   "source": [
    "# 수행평가 예상문제\n",
    "\n",
    ">문제 6<br>\n",
    "영어단어장 만들기 프로그램"
   ]
  },
  {
   "cell_type": "code",
   "execution_count": 1,
   "id": "85629545",
   "metadata": {},
   "outputs": [
    {
     "name": "stdout",
     "output_type": "stream",
     "text": [
      "영어단어, 뜻 : banana, 바나나\n",
      "영어단어, 뜻 : apple, 사과\n",
      "영어단어, 뜻 : \n"
     ]
    },
    {
     "data": {
      "text/plain": [
       "{'banana': ' 바나나', 'apple': ' 사과'}"
      ]
     },
     "execution_count": 1,
     "metadata": {},
     "output_type": "execute_result"
    }
   ],
   "source": [
    "# 빈 딕셔너리 만들기\n",
    "dict_word = {}\n",
    "\n",
    "# 공백을 입력할 때가지 입력 키 값과 밸류값 받기\n",
    "while True:\n",
    "    input_word = input('영어단어, 뜻 : ')\n",
    "    if input_word == '':\n",
    "        break\n",
    "    # 키 값과 밸류값 분리하기\n",
    "    eng = input_word.split(',')[0]\n",
    "    kor = input_word.split(',')[1]\n",
    "    \n",
    "    # 키 값과 밸류값 저장하기\n",
    "    dict_word[eng] = kor\n",
    "    \n",
    "# 출력하기\n",
    "dict_word"
   ]
  },
  {
   "cell_type": "markdown",
   "id": "5540f095",
   "metadata": {},
   "source": [
    "# 수행평가 예상문제\n",
    "\n",
    ">문제 7<br>\n",
    "할인된 금액 계산 프로그램\n",
    "\n",
    "```\n",
    "금액                    할인율\n",
    "1만원이상 5만원미만       5%\n",
    "5만원이상 10만원미만      7%\n",
    "10만원이상               10%\n",
    "```"
   ]
  },
  {
   "cell_type": "code",
   "execution_count": 2,
   "id": "73c906b1",
   "metadata": {},
   "outputs": [
    {
     "name": "stdout",
     "output_type": "stream",
     "text": [
      "물건구매가 : 200000\n",
      "\n",
      "구매가 : 200000\n",
      "할인율 : 10%\n",
      "할인금액 : 20000.0\n",
      "지불금액 : 180000.0\n",
      "\n"
     ]
    }
   ],
   "source": [
    "price = int(input('물건구매가 : '))\n",
    "\n",
    "# 할인율 결정\n",
    "if price >= 100000:\n",
    "    dc = 10\n",
    "elif price >= 50000:\n",
    "    dc = 7\n",
    "elif price >= 10000:\n",
    "    dc = 5\n",
    "else:\n",
    "    dc = 0\n",
    "    \n",
    "# 출력\n",
    "print(f'''\n",
    "구매가 : {price}\n",
    "할인율 : {dc}%\n",
    "할인금액 : {price * (dc / 100)}\n",
    "지불금액 : {price - price * (dc / 100)}\n",
    "''')"
   ]
  },
  {
   "cell_type": "markdown",
   "id": "4c2fadbe",
   "metadata": {},
   "source": [
    "# 수행평가 예상문제\n",
    "\n",
    ">문제 8<br>\n",
    "사칙 연산 프로그램\n",
    "\n",
    "- 두 수와 사칙연산기호(+, -, *, /)을 입력받아 연산 기호에 따라 연산 결과를 출력하는 프로그램을 작성하세요.\n",
    "- 사칙연산기호(+, -, *, /)가 아닌 경우 '잘못 입력하셨습니다' 출력"
   ]
  },
  {
   "cell_type": "code",
   "execution_count": 5,
   "id": "4497fc5f",
   "metadata": {},
   "outputs": [
    {
     "name": "stdout",
     "output_type": "stream",
     "text": [
      "숫자1 : 2\n",
      "숫자2 : 5\n",
      "연산기호 : *\n",
      "곱셈 : 2 * 5 = 10\n"
     ]
    }
   ],
   "source": [
    "num1 = int(input('숫자1 : '))\n",
    "num2 = int(input('숫자2 : '))\n",
    "op = input('연산기호 : ')\n",
    "\n",
    "if op == '+':\n",
    "    print(f'덧셈 : {num1} + {num2} = {num1 + num2}')\n",
    "elif op == '-':\n",
    "    print(f'뺄셈 : {num1} - {num2} = {num1 - num2}')\n",
    "elif op == '*':\n",
    "    print(f'곱셈 : {num1} * {num2} = {num1 * num2}')\n",
    "elif op == '/':\n",
    "    print(f'나눗셈 : {num1} / {num2} = {num1 / num2}')\n",
    "else:\n",
    "    print('잘못 입력하셨습니다')"
   ]
  },
  {
   "cell_type": "markdown",
   "id": "02f0ef6e",
   "metadata": {},
   "source": [
    "# 수행평가 예상문제\n",
    "\n",
    ">문제 9<br>\n",
    "up&down 숫자 맞추기 게임 프로그램\n",
    "\n",
    "1 ~ 100 사이의 정답 숫자를 랜덤으로 하나 정하고, 정답 숫자를 맞출 때까지 숫자를 입력하는 게임이다.\n",
    "\n",
    "내가 입력한 숫자가 정답보다 작으면 'DOWN', 정답보다 크면 'UP'을 출력하고 숫자를 다시 입력받는다.\n",
    "\n",
    "정답을 맞추면 '정답!'이라고 출력하고 게임을 끝낸다.\n",
    "기회는 5번 까지만 주어진다.\n",
    "5회가 넘으면 '횟수초과' 메시지와 함께 정답을 알려준다.\n",
    "정답을 맞추면 몇번째에 맞추었는지 출력한다.\n",
    "\n",
    "- 랜덤함수 이용\n",
    "- 함수 만들기"
   ]
  },
  {
   "cell_type": "code",
   "execution_count": 7,
   "id": "8034fe56",
   "metadata": {},
   "outputs": [
    {
     "name": "stdout",
     "output_type": "stream",
     "text": [
      "Attempt 1. 예상 숫자를 입력하세요(1-100) : 20\n",
      "Up\n",
      "Attempt 2. 예상 숫자를 입력하세요(1-100) : 30\n",
      "Up\n",
      "Attempt 3. 예상 숫자를 입력하세요(1-100) : 50\n",
      "Down\n",
      "Attempt 4. 예상 숫자를 입력하세요(1-100) : 45\n",
      "Down\n",
      "Attempt 5. 예상 숫자를 입력하세요(1-100) : 44\n",
      "Down\n",
      "횟수 초과입니다. 정답은 34이었습니다.\n"
     ]
    }
   ],
   "source": [
    "import random\n",
    "def guess_number_game(max_attempts = 5):\n",
    "    cnt = 0\n",
    "    num = random.randint(1, 100)\n",
    "    \n",
    "    while cnt < max_attempts:\n",
    "        cnt += 1\n",
    "        answer = int(input(f'Attempt {cnt}. 예상 숫자를 입력하세요(1-100) : '))\n",
    "        if answer == num:\n",
    "            print(f'정답 입니다')\n",
    "            print(f'{cnt}번 만에 맞추었습니다.')\n",
    "            return\n",
    "        \n",
    "        if answer < num:\n",
    "            print('Up')\n",
    "        else:\n",
    "            print('Down')\n",
    "    print(f'횟수 초과입니다. 정답은 {num}이었습니다.')\n",
    "guess_number_game()"
   ]
  },
  {
   "cell_type": "markdown",
   "id": "0a757d9d",
   "metadata": {},
   "source": [
    "# 수행평가 예상문제\n",
    "\n",
    ">문제 10<br>\n",
    "아이디/비밀번호 프로그램\n",
    "\n",
    "    올바른 아이디/비밀번호를 입력할 때까지\n",
    "    아이디와 비밀번호를 입력하는 프로그램 만들기\n",
    "    아이디가 잘못되었으면 '아이디를 확인하세요' 출력\n",
    "    비밀번호가 잘못되었으면 '비밀번호를 확인하세요' 출력"
   ]
  },
  {
   "cell_type": "code",
   "execution_count": 8,
   "id": "91c5f9db",
   "metadata": {},
   "outputs": [
    {
     "name": "stdout",
     "output_type": "stream",
     "text": [
      "id : ㅑㅇ123\n",
      "pwd : pwd123\n",
      "아이디를 확인하세요\n",
      "id : id123\n",
      "pwd : pwd123\n"
     ]
    }
   ],
   "source": [
    "# 주어진 아이디와 비밀번호\n",
    "id = 'id123'\n",
    "pwd = 'pwd123'\n",
    "\n",
    "while True:\n",
    "    input_id = input('id : ')\n",
    "    input_pwd = input('pwd : ')\n",
    "    \n",
    "    if id == input_id and pwd == input_pwd:\n",
    "        break\n",
    "    if id != input_id:\n",
    "        print(f'아이디를 확인하세요')\n",
    "    if pwd != input_pwd:\n",
    "        print(f'비밀번호를 확인하세요')"
   ]
  },
  {
   "cell_type": "code",
   "execution_count": null,
   "id": "2bbf43d1",
   "metadata": {},
   "outputs": [],
   "source": []
  }
 ],
 "metadata": {
  "kernelspec": {
   "display_name": "Python 3 (ipykernel)",
   "language": "python",
   "name": "python3"
  },
  "language_info": {
   "codemirror_mode": {
    "name": "ipython",
    "version": 3
   },
   "file_extension": ".py",
   "mimetype": "text/x-python",
   "name": "python",
   "nbconvert_exporter": "python",
   "pygments_lexer": "ipython3",
   "version": "3.9.7"
  }
 },
 "nbformat": 4,
 "nbformat_minor": 5
}
