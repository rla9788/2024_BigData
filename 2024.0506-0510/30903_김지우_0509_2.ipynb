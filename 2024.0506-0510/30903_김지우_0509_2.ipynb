{
 "cells": [
  {
   "cell_type": "markdown",
   "id": "59596fda",
   "metadata": {},
   "source": [
    "# 30903_김지우_0509_2"
   ]
  },
  {
   "cell_type": "code",
   "execution_count": 2,
   "id": "8f8f44f5",
   "metadata": {},
   "outputs": [
    {
     "name": "stdout",
     "output_type": "stream",
     "text": [
      "영어단어, 뜻apple, 사과\n",
      "영어단어, 뜻banana, 바나나\n",
      "영어단어, 뜻\n"
     ]
    },
    {
     "data": {
      "text/plain": [
       "{'apple': ' 사과', 'banana': ' 바나나'}"
      ]
     },
     "execution_count": 2,
     "metadata": {},
     "output_type": "execute_result"
    }
   ],
   "source": [
    "dict_word = {}\n",
    "\n",
    "while True:\n",
    "    input_word = input('영어단어, 뜻')\n",
    "    if input_word == '':\n",
    "        break\n",
    "    eng = input_word.split(',')[0]\n",
    "    kor = input_word.split(',')[1]\n",
    "    \n",
    "    dict_word[eng] = kor\n",
    "    \n",
    "dict_word"
   ]
  },
  {
   "cell_type": "code",
   "execution_count": 4,
   "id": "72fdf56c",
   "metadata": {},
   "outputs": [
    {
     "name": "stdout",
     "output_type": "stream",
     "text": [
      "문건구매가 : 70000\n",
      "\n",
      "구매가 : 70000\n",
      "할인율 : 7%\n",
      "할인금액 : 4900.000000000001\n",
      "지불금액 : 65100.0\n",
      "\n"
     ]
    }
   ],
   "source": [
    "price = int(input('문건구매가 : '))\n",
    "\n",
    "if price >= 100000:\n",
    "    dc = 10\n",
    "elif price >= 50000:\n",
    "    dc = 7\n",
    "elif price >= 10000:\n",
    "    dc = 5\n",
    "else:\n",
    "    dc = 0\n",
    "\n",
    "print(f'''\n",
    "구매가 : {price}\n",
    "할인율 : {dc}%\n",
    "할인금액 : {price * (dc / 100)}\n",
    "지불금액 : {price - price * (dc / 100)}\n",
    "''')"
   ]
  },
  {
   "cell_type": "code",
   "execution_count": 7,
   "id": "72091cbe",
   "metadata": {},
   "outputs": [
    {
     "name": "stdout",
     "output_type": "stream",
     "text": [
      "숫자1 : 6\n",
      "숫자2 : 8\n",
      "연산기호 : *\n",
      "곱셈 : 6 * 8 = 48\n"
     ]
    }
   ],
   "source": [
    "num1 = int(input('숫자1 : '))\n",
    "num2 = int(input('숫자2 : '))\n",
    "op = input('연산기호 : ')\n",
    "\n",
    "if op == '+':\n",
    "    print(f'덧셈 : {num1} + {num2} = {num1 + num2}')\n",
    "elif op == '-':\n",
    "    print(f'뺄셈 : {num1} - {num2} = {num1 - num2}')\n",
    "elif op == '*':\n",
    "    print(f'곱셈 : {num1} * {num2} = {num1 * num2}')\n",
    "elif op == '/':\n",
    "    print(f'뺄셈 : {num1} / {num2} = {num1 / num2}')\n",
    "else:\n",
    "    print('잘못 입력하셨습니다')"
   ]
  },
  {
   "cell_type": "code",
   "execution_count": 9,
   "id": "d5526318",
   "metadata": {},
   "outputs": [
    {
     "name": "stdout",
     "output_type": "stream",
     "text": [
      "Attempts 1. 예상 숫자를 입력하세요(1-100) : 50\n",
      "Up\n",
      "Attempts 2. 예상 숫자를 입력하세요(1-100) : 60\n",
      "Up\n",
      "Attempts 3. 예상 숫자를 입력하세요(1-100) : 70\n",
      "Up\n",
      "Attempts 4. 예상 숫자를 입력하세요(1-100) : 80\n",
      "Up\n",
      "Attempts 5. 예상 숫자를 입력하세요(1-100) : 90\n",
      "Down\n",
      "횟수 초과입니다. 정답은 85이었습니다\n"
     ]
    }
   ],
   "source": [
    "import random\n",
    "def guess_number_game(max_attempts = 5):\n",
    "    cnt = 0\n",
    "    num = random.randint(1, 100)\n",
    "    \n",
    "    while cnt < max_attempts:\n",
    "        cnt += 1\n",
    "        answer = int(input(f'Attempts {cnt}. 예상 숫자를 입력하세요(1-100) : '))\n",
    "        if answer == num:\n",
    "            print(f'정답입니다')\n",
    "            print(f'{cnt}번 만에 맞추었습니다')\n",
    "            return\n",
    "        \n",
    "        if answer < num:\n",
    "            print('Up')\n",
    "        else:\n",
    "            print('Down')\n",
    "    print(f'횟수 초과입니다. 정답은 {num}이었습니다')\n",
    "guess_number_game()"
   ]
  },
  {
   "cell_type": "code",
   "execution_count": 11,
   "id": "78d40e87",
   "metadata": {},
   "outputs": [
    {
     "name": "stdout",
     "output_type": "stream",
     "text": [
      "id : id123\n",
      "pwd : pwd123\n"
     ]
    }
   ],
   "source": [
    "id = 'id123'\n",
    "pwd = 'pwd123'\n",
    "\n",
    "while True:\n",
    "    input_id = input('id : ')\n",
    "    input_pwd = input('pwd : ')\n",
    "    \n",
    "    if id == input_id and pwd == input_pwd:\n",
    "        break\n",
    "    if id != input_id:\n",
    "        print(f'아이디를 확인하세요')\n",
    "    if pwd != input_pwd:\n",
    "        print(f'비밀번호를 확인하세요')\n"
   ]
  },
  {
   "cell_type": "code",
   "execution_count": null,
   "id": "e95713da",
   "metadata": {},
   "outputs": [],
   "source": []
  }
 ],
 "metadata": {
  "kernelspec": {
   "display_name": "Python 3 (ipykernel)",
   "language": "python",
   "name": "python3"
  },
  "language_info": {
   "codemirror_mode": {
    "name": "ipython",
    "version": 3
   },
   "file_extension": ".py",
   "mimetype": "text/x-python",
   "name": "python",
   "nbconvert_exporter": "python",
   "pygments_lexer": "ipython3",
   "version": "3.9.7"
  }
 },
 "nbformat": 4,
 "nbformat_minor": 5
}
